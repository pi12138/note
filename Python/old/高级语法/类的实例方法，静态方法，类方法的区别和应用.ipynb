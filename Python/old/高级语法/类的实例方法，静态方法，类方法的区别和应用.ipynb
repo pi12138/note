{
 "cells": [
  {
   "cell_type": "code",
   "execution_count": 19,
   "metadata": {},
   "outputs": [
    {
     "name": "stdout",
     "output_type": "stream",
     "text": [
      "self:<__main__.Person object at 0x000001CB8F647518>\n",
      "cls:<class '__main__.Person'>\n",
      "cls:<class '__main__.Person'>\n",
      "Person类实例对象有：2\n",
      "Person类实例对象有：2\n"
     ]
    }
   ],
   "source": [
    "class Person(object):\n",
    "    object_num = 0\n",
    "    \n",
    "    def __init__(self):\n",
    "        Person.object_num += 1\n",
    "    \n",
    "    def run(self):\n",
    "        \"\"\"实例方法\"\"\"\n",
    "        print(\"self:{}\".format(self))\n",
    "    \n",
    "    @classmethod\n",
    "    def eat(cls):\n",
    "        \"\"\"类方法\"\"\"\n",
    "        print('cls:{}'.format(cls))\n",
    "    \n",
    "    @staticmethod\n",
    "    def num():\n",
    "        \"\"\"静态方法\"\"\"\n",
    "        print('Person类实例对象有：{}'.format(Person.object_num))\n",
    "\n",
    "p1 = Person()\n",
    "p2 = Person()\n",
    "\n",
    "p1.run()\n",
    "p1.eat()\n",
    "Person.eat()\n",
    "\n",
    "Person.num()\n",
    "p1.num()\n",
    "\n"
   ]
  },
  {
   "cell_type": "markdown",
   "metadata": {},
   "source": [
    "# 类方法 静态方法和实例方法\n",
    "\n",
    "- Python 类中的方法大致可以分为三种：\n",
    "    - 类方法\n",
    "    - 实例方法\n",
    "    - 静态方法\n",
    "    \n",
    "- 访问方式\n",
    "    - 实例方法：通过实例和类进行访问，通过类访问需要手动绑定实例\n",
    "    - 类方法：通过类或者实例进行访问\n",
    "    - 静态方法：通过类或者实例进行访问\n",
    "\n",
    "- 特点\n",
    "    - 实例方法 需要绑定实例才能运行\n",
    "    - 类方法 无论通过类还是实例进行访问，都会自动绑定类\n",
    "    - 静态方法 类里面的一个普通函数，与类和实例都没有绑定关系，只是存在于类中为类服务，静态方法如果作为全局函数也不会有什么问题。"
   ]
  },
  {
   "cell_type": "code",
   "execution_count": 23,
   "metadata": {},
   "outputs": [
    {
     "name": "stdout",
     "output_type": "stream",
     "text": [
      "self:<__main__.Person object at 0x000001CB8F5B1A20>\n",
      "self:<__main__.Person object at 0x000001CB8F5B1A20>\n"
     ]
    }
   ],
   "source": [
    "class Person(object):\n",
    "    object_num = 0\n",
    "    \n",
    "    def __init__(self):\n",
    "        Person.object_num += 1\n",
    "    \n",
    "    def run(self):\n",
    "        \"\"\"实例方法\"\"\"\n",
    "        print(\"self:{}\".format(self))\n",
    "    \n",
    "    @classmethod\n",
    "    def eat(cls):\n",
    "        \"\"\"类方法\"\"\"\n",
    "        print('cls:{}'.format(cls))\n",
    "    \n",
    "    @staticmethod\n",
    "    def num():\n",
    "        \"\"\"静态方法\"\"\"\n",
    "        print('Person类实例对象有：{}'.format(Person.object_num))\n",
    "        \n",
    "\n",
    "# 实例方法：通过实例和类进行访问，通过类访问需要手动绑定实例\n",
    "p = Person()\n",
    "p.run()\n",
    "\n",
    "# 通过类访问实例方法时，需要手动传入实例\n",
    "# Person.run()    # TypeError: run() missing 1 required positional argument: 'self'\n",
    "Person.run(p)"
   ]
  },
  {
   "cell_type": "code",
   "execution_count": null,
   "metadata": {},
   "outputs": [],
   "source": []
  }
 ],
 "metadata": {
  "kernelspec": {
   "display_name": "Python 3",
   "language": "python",
   "name": "python3"
  },
  "language_info": {
   "codemirror_mode": {
    "name": "ipython",
    "version": 3
   },
   "file_extension": ".py",
   "mimetype": "text/x-python",
   "name": "python",
   "nbconvert_exporter": "python",
   "pygments_lexer": "ipython3",
   "version": "3.6.5"
  }
 },
 "nbformat": 4,
 "nbformat_minor": 2
}
