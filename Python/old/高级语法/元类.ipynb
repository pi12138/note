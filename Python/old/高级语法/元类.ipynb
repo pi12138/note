{
 "cells": [
  {
   "cell_type": "markdown",
   "metadata": {},
   "source": [
    "# 元类\n",
    "\n",
    "## 类也是对象\n",
    "\n",
    "- **在 Python 中一切皆对象，类也属于对象的一种。**\n",
    "- 通常情况下，\"普通类(class)\"可以用来生成实例(instance)，同样的，\"元类 (meta-class)\"也可以生成实例，生成的实例就是\"普通类\"了\n",
    "- 对象的类型叫作类(class)，类的类型就称作元类 meta-class\n",
    "\n",
    "- ![形象的说明了，对象，类，元类的关系](https://pic4.zhimg.com/v2-65d2a7c41f6962eed773c6ca9c45f2d5_1200x500.jpg)"
   ]
  },
  {
   "cell_type": "markdown",
   "metadata": {},
   "source": [
    "## 动态的创建类\n",
    "\n",
    "- 因为类也是对象，你可以在运⾏时动态的创建它们，就像其他任何对象⼀样。"
   ]
  },
  {
   "cell_type": "code",
   "execution_count": null,
   "metadata": {},
   "outputs": [],
   "source": [
    "def choose_class(name):\n",
    "    \n",
    "    if name == \"foo\":\n",
    "        class Foo:\n",
    "            pass\n",
    "        return Foo\n",
    "    elif name == \"bar\":\n",
    "        class Bar:\n",
    "            pass\n",
    "        return Bar\n",
    "\n",
    "# 执行函数，当传入参数不同时，创建的类也不同\n",
    "myclass = choose_class(\"foo\")\n",
    "obj = myclass()\n",
    "\n",
    "print(myclass)\n",
    "print(obj)\n",
    "\n"
   ]
  },
  {
   "cell_type": "markdown",
   "metadata": {},
   "source": [
    "## 使用type创建类\n",
    "\n",
    "- 上面的动态创建类不够灵活\n",
    "- type还有⼀种完全不同的功能，动态的创建类。type可以接受⼀个类的描述作为参数，然后返回⼀个类。\n",
    "- type(类名, 由⽗类名称组成的元组（针对继承的情况，可以为空），包含属性的字典（名称和值）)\n",
    "- 注意：\n",
    "    - type的第2个参数，元组中是⽗类的名字，⽽不是字符串"
   ]
  },
  {
   "cell_type": "code",
   "execution_count": null,
   "metadata": {},
   "outputs": [],
   "source": [
    "# 使用type() 创建类\n",
    "test1 = type('Test1', (), {'num': 100})\n",
    "\n",
    "help(test1)\n",
    "\n",
    "t = test1()\n",
    "print(t.num)"
   ]
  },
  {
   "cell_type": "code",
   "execution_count": null,
   "metadata": {},
   "outputs": [],
   "source": [
    "# 使用class关键字创建类\n",
    "class Test2(object):\n",
    "    num = 200\n",
    "\n",
    "help(Test2)\n",
    "\n",
    "t = Test2()\n",
    "\n",
    "print(t.num)"
   ]
  },
  {
   "cell_type": "markdown",
   "metadata": {},
   "source": [
    "- 通过上面两个例子可以发现，使用 type() 创建类 和使用 class 关键字创建类的效果是一样的。"
   ]
  },
  {
   "cell_type": "markdown",
   "metadata": {},
   "source": [
    "## 使用 type 创建带有属性和方法的类\n",
    "\n",
    "- type 接受⼀个字典来为类定义属性，添加的属性是类属性，并不是实例属性。\n",
    "- 使用 type 为类增加⽅法。只需要定义⼀个有着恰当签名的函数并将其作为属性赋值就可以了。\n",
    "- 添加属性和方法的方式类似：\n",
    "    - `{'attr_name': attr_value, 'func_name': func_name}`\n"
   ]
  },
  {
   "cell_type": "code",
   "execution_count": null,
   "metadata": {},
   "outputs": [],
   "source": [
    "def __init__(self, name):\n",
    "    self.name = name\n",
    "    self.__class__.count += 1\n",
    "\n",
    "def get_name(self):\n",
    "    return self.name\n",
    "\n",
    "@classmethod\n",
    "def get_count(cls):\n",
    "    \"\"\"获取该类实例化对象的个数\"\"\"\n",
    "    return cls.count\n",
    "\n",
    "@staticmethod\n",
    "def func():\n",
    "    print('---这是一个静态方法---')\n",
    "    \n",
    "    \n",
    "Test = type('Test', (), {'count': 0, \"__init__\": __init__, 'get_name': get_name, \"get_count\": get_count, 'func': func})\n",
    "\n",
    "t1 = Test('zyp')\n",
    "t2 = Test('pyz')\n",
    "t3 = Test('z')\n",
    "\n",
    "help(Test)\n",
    "print(\"Test 实例化对象个数为：\", Test.get_count())\n",
    "print(t1.name)\n",
    "print(t1.get_name())\n",
    "t1.func()\n",
    "\n",
    "print(hasattr(Test, 'get_name'))\n"
   ]
  },
  {
   "cell_type": "markdown",
   "metadata": {},
   "source": [
    "## 到底什么是元类\n",
    "\n",
    "- 元类就是⽤来创建类的\"东⻄\", 元类就是类的类\n",
    "- Python中所有的东⻄，注意，我是指所有的东⻄——都是对象。这包括整数、字符串、函数以及类\n",
    "- 函数type实际上是⼀个元类，type就是Python在背后⽤来创建所有类的元类\n",
    "- `__class__`是类的一个内置属性，也是每个类实例的，它是一个类的引用, 可以使用 `object.__class__`来查看对象是哪个类的实例"
   ]
  },
  {
   "cell_type": "code",
   "execution_count": null,
   "metadata": {},
   "outputs": [],
   "source": [
    "age = 20\n",
    "\n",
    "class Test(object):\n",
    "    pass\n",
    "\n",
    "t = Test()\n",
    "\n",
    "print(age.__class__)\n",
    "print(t.__class__)\n",
    "print(Test.__class__)"
   ]
  },
  {
   "cell_type": "markdown",
   "metadata": {},
   "source": [
    "- 可以看到，自定义的类是 type 类的实例"
   ]
  },
  {
   "cell_type": "markdown",
   "metadata": {},
   "source": [
    "## `__metaclass__`属性\n",
    "\n",
    "- type就是Python的内建元类，如果需要，我们也可以创建⾃⼰的元类。\n",
    "- 创建自己的元类需要借用 `__metaclass__`属性"
   ]
  },
  {
   "cell_type": "code",
   "execution_count": null,
   "metadata": {},
   "outputs": [],
   "source": [
    "class Foo(object):\n",
    "    __metaclass__ = xxxxx\n",
    "    ........"
   ]
  },
  {
   "cell_type": "markdown",
   "metadata": {},
   "source": [
    "- 如果你这么做了，Python就会⽤元类来创建类Foo。⼩⼼点，这⾥⾯有些技巧。你⾸先写下class Foo(object)，但是类Foo还没有在内存中创建。Python会在类的定义中寻找__metaclass__属性，如果找到了，Python就会⽤它来创建类Foo，如果没有找到，就会⽤内建的type来创建这个类。\n",
    "\n",
    "- Python做了如下的操作：\n",
    "    1. Foo中有__metaclass__这个属性吗？如果是，Python会通过`__metaclass__`创建⼀个名字为Foo的类(对象)\n",
    "    2. 如果Python没有找到`__metaclass__`，它会继续在 ⽗类 中寻找`__metaclass__`属性，并尝试做和前⾯同样的操作。\n",
    "    3. 如果Python在任何⽗类中都找不到`__metaclass__`，它就会在模块层次中去寻找`__metaclass__`，并尝试做同样的操作。\n",
    "    4. 如果还是找不到`__metaclass__`,Python就会⽤内置的type来创建这个类对象。"
   ]
  },
  {
   "cell_type": "markdown",
   "metadata": {},
   "source": [
    "## 自定义元类\n",
    "\n",
    "- 元类的主要⽬的就是为了当创建类时能够⾃动地改变类\n",
    "- 下面是一个例子：通过自定义元类，让模块⾥所有的类的属性都应该是⼤写形式"
   ]
  },
  {
   "cell_type": "code",
   "execution_count": 58,
   "metadata": {},
   "outputs": [
    {
     "name": "stdout",
     "output_type": "stream",
     "text": [
      "False\n",
      "False\n",
      "True\n",
      "20 asd\n"
     ]
    }
   ],
   "source": [
    "def upper_attr(class_name, class_parents, class_attr):\n",
    "    new_attr = {}\n",
    "    \n",
    "    for k, v in class_attr.items():\n",
    "        if not k.startswith('__'):\n",
    "            new_attr[k.upper()] = v\n",
    "    \n",
    "    return type(class_name, class_parents, new_attr)\n",
    "\n",
    "\n",
    "class Foo(object, metaclass=upper_attr):\n",
    "    age = 20\n",
    "    name = 'asd'\n",
    "\n",
    "f = Foo()\n",
    "\n",
    "print(hasattr(f, \"age\"))\n",
    "print(hasattr(f, \"name\"))\n",
    "\n",
    "print(hasattr(f, \"AGE\"))\n",
    "print(f.AGE, f.NAME)\n"
   ]
  },
  {
   "cell_type": "markdown",
   "metadata": {},
   "source": [
    "- 上面是一个使用函数来当元类的例子，下面是使用class来当元类"
   ]
  },
  {
   "cell_type": "code",
   "execution_count": 63,
   "metadata": {},
   "outputs": [
    {
     "name": "stdout",
     "output_type": "stream",
     "text": [
      "True\n",
      "True\n"
     ]
    },
    {
     "data": {
      "text/plain": [
       "['AGE',\n",
       " 'NAME',\n",
       " '__class__',\n",
       " '__delattr__',\n",
       " '__dict__',\n",
       " '__dir__',\n",
       " '__doc__',\n",
       " '__eq__',\n",
       " '__format__',\n",
       " '__ge__',\n",
       " '__getattribute__',\n",
       " '__gt__',\n",
       " '__hash__',\n",
       " '__init__',\n",
       " '__init_subclass__',\n",
       " '__le__',\n",
       " '__lt__',\n",
       " '__module__',\n",
       " '__ne__',\n",
       " '__new__',\n",
       " '__reduce__',\n",
       " '__reduce_ex__',\n",
       " '__repr__',\n",
       " '__setattr__',\n",
       " '__sizeof__',\n",
       " '__str__',\n",
       " '__subclasshook__',\n",
       " '__weakref__']"
      ]
     },
     "execution_count": 63,
     "metadata": {},
     "output_type": "execute_result"
    }
   ],
   "source": [
    "class UpperAttr(type):\n",
    "    # __new__ 是在__init__之前被调⽤的特殊⽅法\n",
    "    # __new__是⽤来创建对象并返回之的⽅法\n",
    "    def __new__(cls, class_name, class_parents, class_attr):\n",
    "        \n",
    "        new_attr = {}\n",
    "        \n",
    "        for k, v in class_attr.items():\n",
    "            if not k.startswith('__'):\n",
    "                new_attr[k.upper()] = v\n",
    "        \n",
    "        return super(UpperAttr, cls).__new__(cls, class_name, class_parents, new_attr)\n",
    "\n",
    "    \n",
    "class Foo(object, metaclass=UpperAttr):\n",
    "    age = 20\n",
    "    name = 'xxx'\n",
    "    \n",
    "\n",
    "f = Foo()\n",
    "\n",
    "print(hasattr(f, 'AGE'))\n",
    "print(hasattr(f, 'NAME'))\n",
    "\n",
    "dir(f)"
   ]
  },
  {
   "cell_type": "markdown",
   "metadata": {},
   "source": [
    "## 元类的作用\n",
    "\n",
    "1. 拦截类的创建\n",
    "2. 修改类\n",
    "3. 返回修改之后的类"
   ]
  },
  {
   "cell_type": "markdown",
   "metadata": {},
   "source": [
    "## 为什么要使用元类\n",
    "\n",
    "- \"元类就是深度的魔法，99%的⽤户应该根本不必为此操⼼。如果你想搞清楚究竟是否需要⽤到元类，那么你就不需要它。那些实际⽤到元类的⼈都⾮常清楚地知道他们需要做什么，⽽且根本不需要解释为什么要⽤元类。\" ——Python界的领袖 Tim Peters"
   ]
  }
 ],
 "metadata": {
  "kernelspec": {
   "display_name": "Python 3",
   "language": "python",
   "name": "python3"
  },
  "language_info": {
   "codemirror_mode": {
    "name": "ipython",
    "version": 3
   },
   "file_extension": ".py",
   "mimetype": "text/x-python",
   "name": "python",
   "nbconvert_exporter": "python",
   "pygments_lexer": "ipython3",
   "version": "3.7.0b4"
  }
 },
 "nbformat": 4,
 "nbformat_minor": 2
}
