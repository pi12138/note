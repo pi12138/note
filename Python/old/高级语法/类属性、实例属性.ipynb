{
 "cells": [
  {
   "cell_type": "markdown",
   "metadata": {},
   "source": [
    "# Python 类属性和实例属性\n",
    "\n",
    "- 类属性： 类属性就是类对象所拥有的属性，它被所有类对象的实例对象所共有，在内存中只存在一个副本，对于公有的类属性，在类外可以通过类对象和实例对象访问\n",
    "\n",
    "- 实例属性： 又叫对象属性，\n",
    "\n",
    "- 类属性访问：class_name.attr_name\n",
    "- 实例属性访问： object_name.attr_name\n",
    "\n",
    "- 总结\n",
    "    - 如果需要在类外修改类属性，必须通过类对象去引用然后进行修改。如果通过实例对象去引用，会产生一个同名的实例属性，这种方式修改的是实例属性，不会影响到类属性，并且之后如果通过实例对象去引用该名称的属性，实例属性会强制屏蔽掉类属性，即引用的是实例属性，除非删除了该实例属性。"
   ]
  },
  {
   "cell_type": "code",
   "execution_count": 6,
   "metadata": {},
   "outputs": [
    {
     "name": "stdout",
     "output_type": "stream",
     "text": [
      "None\n",
      "zyp\n",
      "0\n",
      "True\n",
      "True\n",
      "False\n"
     ]
    }
   ],
   "source": [
    "class Person(object):\n",
    "    name = None    # 类属性\n",
    "    age = 0\n",
    "    \n",
    "    def __init__(self, name):\n",
    "        self.name = name\n",
    "\n",
    "        \n",
    "p1 = Person('zyp')        \n",
    "p2 = Person('zy')\n",
    "\n",
    "print(Person.name)\n",
    "print(p1.name)\n",
    "print(p1.age)\n",
    "print(p1.age is p2.age)\n",
    "\n",
    "p1.age = 2000\n",
    "p2.age = 2000\n",
    "\n",
    "print(p1.age == p2.age)\n",
    "print(p1.age is p2.age)\n"
   ]
  }
 ],
 "metadata": {
  "kernelspec": {
   "display_name": "Python 3",
   "language": "python",
   "name": "python3"
  },
  "language_info": {
   "codemirror_mode": {
    "name": "ipython",
    "version": 3
   },
   "file_extension": ".py",
   "mimetype": "text/x-python",
   "name": "python",
   "nbconvert_exporter": "python",
   "pygments_lexer": "ipython3",
   "version": "3.6.5"
  }
 },
 "nbformat": 4,
 "nbformat_minor": 2
}
