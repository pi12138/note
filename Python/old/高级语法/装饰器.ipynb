{
 "cells": [
  {
   "cell_type": "markdown",
   "metadata": {},
   "source": [
    "# 装饰器\n",
    "\n",
    "- 装饰模式有很多经典的使用场景，例如插入日志、性能测试、事务处理等等，有了装饰器，就可以提取大量函数中与本身功能无关的类似代码，从而达到代码重用的目的。\n",
    "\n",
    "- 装饰器本身是一个Python函数，他可以让其他函数在不需要做任何代码变动的前提下增加额外功能，装饰器的返回值也是一个额外的（函数）对象。\n",
    "\n",
    "## 为什么要使用装饰器\n",
    "\n",
    "- 一般在开发过程中，要遵循开放封闭原则，虽然在这个原则是用的面向对象开发，但是也适用于函数式编程，简单来说，它规定已经实现的功能代码不允许被修改，但可以被扩展，这时就要使用装饰器了。\n",
    "\n",
    "## 使用装饰器来修饰函数的好处\n",
    "\n",
    "- 不改变原有的程序，并且可以添加新的功能\n",
    "- 可以提高程序的可重复利用性，并增加了程序的可读性。\n",
    "\n",
    "## 装饰器函数特点：\n",
    "\n",
    "1. 函数里面嵌套函数，外层函数接受一个参数(被装饰的函数)\n",
    "2. 外层函数返回的是内层嵌套函数, 内层中调用了外部接收到的函数(即传入的参数，也就是被装饰的函数)"
   ]
  },
  {
   "cell_type": "code",
   "execution_count": 4,
   "metadata": {},
   "outputs": [
    {
     "name": "stdout",
     "output_type": "stream",
     "text": [
      "----这是foo1函数----\n",
      "********************\n",
      "----这是新添加的功能----\n",
      "----这是foo1函数----\n"
     ]
    }
   ],
   "source": [
    "# 使用闭包实现装饰器功能\n",
    "\n",
    "def test(func):\n",
    "    def wrapper():\n",
    "        print(\"----这是新添加的功能----\")\n",
    "        func()\n",
    "    return wrapper\n",
    "\n",
    "\n",
    "def foo1():\n",
    "    print('----这是foo1函数----')\n",
    "    \n",
    "# 未被装饰前的函数功能\n",
    "foo1()\n",
    "print(\"*\"*20)\n",
    "\n",
    "\n",
    "# 被装饰后\n",
    "foo1 = test(foo1)\n",
    "foo1()\n"
   ]
  },
  {
   "cell_type": "code",
   "execution_count": 9,
   "metadata": {},
   "outputs": [
    {
     "name": "stdout",
     "output_type": "stream",
     "text": [
      "----这是新添加的功能----\n",
      "----这是foo1函数----\n"
     ]
    }
   ],
   "source": [
    "# 使用装饰器语法糖 @\n",
    "\n",
    "def test(func):\n",
    "    def wrapper():\n",
    "        print(\"----这是新添加的功能----\")\n",
    "        func()\n",
    "    return wrapper\n",
    "\n",
    "@test\n",
    "def foo1():\n",
    "    print('----这是foo1函数----')\n",
    "    \n",
    "\n",
    "foo1()"
   ]
  },
  {
   "cell_type": "markdown",
   "metadata": {},
   "source": [
    "## 装饰器何时执行\n",
    "\n",
    "- **装饰器是在函数被装饰时，就已经调用，而不是被装饰函数调用时，对应的装饰器才被调用**\n",
    "\n",
    "\n",
    "- 如下所示，被装饰函数 foo1 未调用，装饰器内容就被打印"
   ]
  },
  {
   "cell_type": "code",
   "execution_count": 12,
   "metadata": {},
   "outputs": [
    {
     "name": "stdout",
     "output_type": "stream",
     "text": [
      "----这是一个装饰器----\n"
     ]
    }
   ],
   "source": [
    "def test(func):\n",
    "    print(\"----这是一个装饰器----\")\n",
    "    def wrapper():\n",
    "        print('----这是新的功能----')\n",
    "        func()\n",
    "    return wrapper\n",
    "\n",
    "@test\n",
    "def foo1():\n",
    "    print('----这是foo1函数----')\n"
   ]
  },
  {
   "cell_type": "markdown",
   "metadata": {},
   "source": [
    "## 多个装饰器装饰同一个函数时的运行顺序\n",
    "\n",
    "- 当被装饰函数执行时，装饰器的执行顺序是从里到外，最先调用最里层的装饰器，最后调用最外层的装饰器，\n",
    "- 等效于`foo = test1(test2(foo))`"
   ]
  },
  {
   "cell_type": "code",
   "execution_count": 27,
   "metadata": {},
   "outputs": [
    {
     "name": "stdout",
     "output_type": "stream",
     "text": [
      "功能1功能2foo\n"
     ]
    }
   ],
   "source": [
    "def test1(func):\n",
    "    def wrapper():\n",
    "        return \"功能1\" + func()\n",
    "    return wrapper\n",
    "\n",
    "def test2(func):\n",
    "    def wrapper():\n",
    "        return \"功能2\" + func()\n",
    "    return wrapper\n",
    "\n",
    "@test1\n",
    "@test2\n",
    "def foo():\n",
    "    return \"foo\"\n",
    "\n",
    "print(foo())"
   ]
  },
  {
   "cell_type": "markdown",
   "metadata": {},
   "source": [
    "## 装饰器装饰带有参数的函数\n",
    "\n",
    "- 上面的案例被装饰的函数都是没有参数的，如何装饰带有参数的函数，如下"
   ]
  },
  {
   "cell_type": "code",
   "execution_count": 29,
   "metadata": {},
   "outputs": [
    {
     "name": "stdout",
     "output_type": "stream",
     "text": [
      "---这是新功能---\n",
      "1 2 3\n"
     ]
    }
   ],
   "source": [
    "# 被装饰函数带有参数\n",
    "def test(func):\n",
    "    def wrapper(a, b, c):\n",
    "        print(\"---这是新功能---\")\n",
    "        func(a, b, c)\n",
    "    return wrapper\n",
    "\n",
    "@test\n",
    "def foo(a, b, c):\n",
    "    print(a, b, c)\n",
    "\n",
    "foo(1, 2, 3)"
   ]
  },
  {
   "cell_type": "code",
   "execution_count": 34,
   "metadata": {},
   "outputs": [
    {
     "name": "stdout",
     "output_type": "stream",
     "text": [
      "---这是新功能---\n",
      "1 2 3 4\n",
      "---这是新功能---\n",
      "10 20\n"
     ]
    }
   ],
   "source": [
    "# 对上面的代码进行改进\n",
    "# 因为不知道具体需要装饰的函数有什么参数，所以可以使用 （*args, **kwargs) 来接收参数\n",
    "# 通用装饰器\n",
    "def test(func):\n",
    "    def wrapper(*args, **kwargs):\n",
    "        print('---这是新功能---')\n",
    "        ret = func(*args, **kwargs)\n",
    "        return ret\n",
    "    return wrapper\n",
    "\n",
    "\n",
    "@test\n",
    "def foo1(a, b, c, d=None):\n",
    "    print(a, b, c, d)\n",
    "\n",
    "@test\n",
    "def foo2(a, b):\n",
    "    print(a, b)\n",
    "    \n",
    "    \n",
    "foo1(1, 2, 3, 4)\n",
    "foo2(10, 20)"
   ]
  },
  {
   "cell_type": "markdown",
   "metadata": {},
   "source": [
    "- **装饰器本质，其实是改变了被装饰函数的原有引用，使得原本指向 `foo` 函数的引用， 指向了 `wrapper` **\n",
    "- 调用 `foo` 实际上就是调用 `wrapper` ，所以传参传给 `wrapper` 就行"
   ]
  },
  {
   "cell_type": "markdown",
   "metadata": {},
   "source": [
    "## 带参数的装饰器\n",
    "\n",
    "- 在原有装饰器的基础上，设置外部变量\n",
    "- 在原有装饰器外包裹一层函数，该函数返回装饰器的引用\n",
    "- 这样可以通过传入不同的参数，让装饰器执行不同的功能。"
   ]
  },
  {
   "cell_type": "code",
   "execution_count": 38,
   "metadata": {},
   "outputs": [
    {
     "name": "stdout",
     "output_type": "stream",
     "text": [
      "这是给函数foo1添加的功能\n",
      "当前时间: 2019-06-02 22:25:35.647567\n",
      "这是函数foo1\n",
      "********************\n",
      "这是给函数foo2添加的功能\n",
      "这是函数foo2\n"
     ]
    }
   ],
   "source": [
    "import datetime\n",
    "\n",
    "def func_decorator(arg):\n",
    "    def test(func):\n",
    "        def wrapper(*args, **kwargs):\n",
    "            if arg == 'foo1':\n",
    "                print(\"这是给函数foo1添加的功能\")\n",
    "                print(\"当前时间:\", datetime.datetime.now())\n",
    "                ret = func(*args, **kwargs)\n",
    "            else:\n",
    "                print(\"这是给函数{}添加的功能\".format(arg))\n",
    "                ret = func(*args, **kwargs)\n",
    "                \n",
    "            return ret\n",
    "        return wrapper\n",
    "    return test\n",
    "\n",
    "\n",
    "@func_decorator('foo1')\n",
    "def foo1():\n",
    "    print(\"这是函数foo1\")\n",
    "    \n",
    "\n",
    "@func_decorator('foo2')\n",
    "def foo2():\n",
    "    print(\"这是函数foo2\")\n",
    "    \n",
    "foo1()\n",
    "print('*'*20)\n",
    "foo2()"
   ]
  },
  {
   "cell_type": "markdown",
   "metadata": {},
   "source": [
    "- 带有参数的装饰器执行过程：\n",
    "    1. 先执行函数 `func_decorator('foo1')` 返回一个指向装饰器`test`的引用 test\n",
    "    2. @test 装饰器装饰函数`foo1`"
   ]
  },
  {
   "cell_type": "markdown",
   "metadata": {},
   "source": [
    "## 装饰器(decorator)功能\n",
    "\n",
    "1. 引⼊⽇志\n",
    "2. 函数执⾏时间统计\n",
    "3. 执⾏函数前预备处理\n",
    "4. 执⾏函数后清理功能\n",
    "5. 权限校验等场景\n",
    "6. 缓存"
   ]
  },
  {
   "cell_type": "markdown",
   "metadata": {},
   "source": [
    "## Python内置装饰器\n",
    "\n",
    "- 在Python中有三个内置的装饰器，都是跟class相关的：staticmethod、classmethod 和property。\n",
    "    - staticmethod 是类静态方法，其跟成员方法的区别是没有 self 参数，并且可以在类不进行实例化的情况下调用\n",
    "    - classmethod 与成员方法的区别在于所接收的第一个参数不是 self （类实例的指针），而是cls（当前类的具体类型）\n",
    "    - property 是属性的意思，表示可以通过通过类实例直接访问的信息"
   ]
  },
  {
   "cell_type": "markdown",
   "metadata": {},
   "source": [
    "## 类装饰器\n",
    "\n",
    "- 装饰器函数其实是这样⼀个接⼝约束，它必须接受⼀个callable对象作为参数，然后返回⼀个callable对象。在Python中⼀般callable对象都是函数，但也有例外。只要某个对象重写了 `__call__()` ⽅法，那么这个对象就是callable的。\n",
    "\n",
    "- 关于 `__call__` 方法，不得不先提到一个概念，就是可调用对象（callable），我们平时自定义的函数、内置函数和类都属于可调用对象，但凡是可以把一对括号()应用到某个对象身上都可称之为可调用对象，判断对象是否为可调用对象可以用函数 callable\n",
    "- 如果在类中实现了 `__call__` 方法，那么实例对象也将成为一个可调用对象"
   ]
  },
  {
   "cell_type": "code",
   "execution_count": 3,
   "metadata": {},
   "outputs": [
    {
     "name": "stdout",
     "output_type": "stream",
     "text": [
      "<__main__.Test object at 0x0000019C6D95A828>\n",
      "call me\n"
     ]
    },
    {
     "data": {
      "text/plain": [
       "'__call__'"
      ]
     },
     "execution_count": 3,
     "metadata": {},
     "output_type": "execute_result"
    }
   ],
   "source": [
    "class Test(object):\n",
    "    def __call__(self):\n",
    "        print(self)\n",
    "        print(\"call me\")\n",
    "        return \"__call__\"\n",
    "\n",
    "        \n",
    "t = Test()\n",
    "\n",
    "t()"
   ]
  },
  {
   "cell_type": "code",
   "execution_count": 7,
   "metadata": {},
   "outputs": [
    {
     "name": "stdout",
     "output_type": "stream",
     "text": [
      "这是新添加的功能\n"
     ]
    },
    {
     "data": {
      "text/plain": [
       "200"
      ]
     },
     "execution_count": 7,
     "metadata": {},
     "output_type": "execute_result"
    }
   ],
   "source": [
    "class Test(object):\n",
    "    def __init__(self, func):\n",
    "        self.func = func\n",
    "    \n",
    "    def __call__(self, *args, **kwargs):\n",
    "        print(\"这是新添加的功能\")\n",
    "        ret = self.func(*args, **kwargs)\n",
    "        \n",
    "        return ret\n",
    "    \n",
    "\n",
    "@Test\n",
    "def foo(a, b):\n",
    "    return a*b\n",
    "\n",
    "foo(10, 20)"
   ]
  },
  {
   "cell_type": "markdown",
   "metadata": {},
   "source": [
    "- @Test可以理解为 `foo = Test(foo)` 返回一个 Test 类的对象 foo， 执行这个对象时会调用 `__call__` 方法"
   ]
  }
 ],
 "metadata": {
  "kernelspec": {
   "display_name": "Python 3",
   "language": "python",
   "name": "python3"
  },
  "language_info": {
   "codemirror_mode": {
    "name": "ipython",
    "version": 3
   },
   "file_extension": ".py",
   "mimetype": "text/x-python",
   "name": "python",
   "nbconvert_exporter": "python",
   "pygments_lexer": "ipython3",
   "version": "3.6.5"
  }
 },
 "nbformat": 4,
 "nbformat_minor": 2
}
