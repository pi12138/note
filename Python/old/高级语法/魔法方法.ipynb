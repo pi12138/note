{
 "cells": [
  {
   "cell_type": "markdown",
   "metadata": {},
   "source": [
    "# 魔法属性\n",
    "\n",
    "- 无论人或事物往往都有不按套路出牌的情况，Python的类属性也是如此，存在着一些具有特殊含义的属性，详情如下：\n",
    "\n",
    "## 1. `__doc__`\n",
    "\n",
    "- 表示类的描述信息"
   ]
  },
  {
   "cell_type": "code",
   "execution_count": 3,
   "metadata": {},
   "outputs": [
    {
     "name": "stdout",
     "output_type": "stream",
     "text": [
      "这是一段类的文字描述\n"
     ]
    }
   ],
   "source": [
    "class Foo(object):\n",
    "    \"\"\"这是一段类的文字描述\"\"\"\n",
    "    def __init__(self):\n",
    "        pass\n",
    "\n",
    "f = Foo()\n",
    "print(f.__doc__)"
   ]
  },
  {
   "cell_type": "markdown",
   "metadata": {},
   "source": [
    "## 2. `__module__ 和 __class__`\n",
    "\n",
    "- `__module__` 表示当前操作的对象在那个模块\n",
    "- `__class__` 表示当前操作的对象的类是什么"
   ]
  },
  {
   "cell_type": "code",
   "execution_count": 5,
   "metadata": {},
   "outputs": [
    {
     "name": "stdout",
     "output_type": "stream",
     "text": [
      "<class '__main__.Foo'>\n",
      "__main__\n"
     ]
    }
   ],
   "source": [
    "class Foo(object):\n",
    "    def func(self):\n",
    "        pass\n",
    "    \n",
    "\n",
    "f = Foo()\n",
    "print(f.__class__)\n",
    "print(f.__module__)"
   ]
  },
  {
   "cell_type": "markdown",
   "metadata": {},
   "source": [
    "## 3. `__init__`\n",
    "\n",
    "- 初始化方法，通过类创建对象时，自动触发执行"
   ]
  },
  {
   "cell_type": "markdown",
   "metadata": {},
   "source": [
    "## 4. `__del__`\n",
    "\n",
    "- 当对象在内存中被释放时，自动触发执行。\n",
    "- 注：此方法一般无须定义，因为Python是一门高级语言，程序员在使用时无需关心内存的分配和释放，因为此工作都是交给Python解释器来执行，所以，`__del__`的调用是由解释器在进行垃圾回收时自动触发执行的。"
   ]
  },
  {
   "cell_type": "markdown",
   "metadata": {},
   "source": [
    "## 5. `__call__`\n",
    "\n",
    "- 对象后面加括号，触发执行。\n",
    "- 注：`__init__`方法的执行是由创建对象触发的，即：对象 = 类名() ；而对于 `__call__` 方法的执行是由对象后加括号触发的，即：对象() 或者 类()()"
   ]
  },
  {
   "cell_type": "code",
   "execution_count": 8,
   "metadata": {},
   "outputs": [
    {
     "name": "stdout",
     "output_type": "stream",
     "text": [
      "__call__\n"
     ]
    }
   ],
   "source": [
    "class Foo(object):\n",
    "    def __call__(self):\n",
    "        print(\"__call__\")\n",
    "\n",
    "f = Foo()\n",
    "\n",
    "f()"
   ]
  },
  {
   "cell_type": "markdown",
   "metadata": {},
   "source": [
    "## 6. `__dict__`\n",
    "\n",
    "- 类或对象中的所有属性\n",
    "- 类的实例属性属于对象；类中的类属性和方法等属于类，即："
   ]
  },
  {
   "cell_type": "code",
   "execution_count": 12,
   "metadata": {},
   "outputs": [
    {
     "name": "stdout",
     "output_type": "stream",
     "text": [
      "{'name': 'xxx'}\n",
      "{'__module__': '__main__', '__init__': <function Foo.__init__ at 0x000002098C2A0C80>, 'get_name': <function Foo.get_name at 0x000002098C2A0598>, '__dict__': <attribute '__dict__' of 'Foo' objects>, '__weakref__': <attribute '__weakref__' of 'Foo' objects>, '__doc__': None}\n"
     ]
    }
   ],
   "source": [
    "class Foo(object):\n",
    "    def __init__(self, name):\n",
    "        self.name = name\n",
    "    \n",
    "    def get_name(self):\n",
    "        return self.name\n",
    "    \n",
    "f = Foo('xxx')\n",
    "\n",
    "print(f.__dict__)\n",
    "print(Foo.__dict__)\n"
   ]
  },
  {
   "cell_type": "markdown",
   "metadata": {},
   "source": [
    "## 7. `__str__`\n",
    "\n",
    "- 如果一个类中定义了__str__方法，那么在打印 对象 或者使用 对象作为参数 时，默认输出该方法的返回值。"
   ]
  },
  {
   "cell_type": "code",
   "execution_count": 16,
   "metadata": {},
   "outputs": [
    {
     "name": "stdout",
     "output_type": "stream",
     "text": [
      "foo\n",
      "foo\n"
     ]
    }
   ],
   "source": [
    "class Foo:\n",
    "    def __str__(self):\n",
    "        return \"foo\"\n",
    "\n",
    "\n",
    "f = Foo()\n",
    "\n",
    "print(f)\n",
    "\n",
    "a = \"{}\".format(f)\n",
    "\n",
    "print(a)"
   ]
  },
  {
   "cell_type": "markdown",
   "metadata": {},
   "source": [
    "## 8、`__getitem__、__setitem__、__delitem__`\n",
    "\n",
    "- 用于索引操作，如字典。以上分别表示获取、设置、删除数据\n",
    "- 可以将一个类变为一个字典操作"
   ]
  },
  {
   "cell_type": "code",
   "execution_count": 17,
   "metadata": {},
   "outputs": [
    {
     "name": "stdout",
     "output_type": "stream",
     "text": [
      "__getitem__ k1\n",
      "__setitem__ k2 laowang\n",
      "__delitem__ k1\n"
     ]
    }
   ],
   "source": [
    "# -*- coding:utf-8 -*-\n",
    "\n",
    "class Foo(object):\n",
    "\n",
    "    def __getitem__(self, key):\n",
    "        print('__getitem__', key)\n",
    "\n",
    "    def __setitem__(self, key, value):\n",
    "        print('__setitem__', key, value)\n",
    "\n",
    "    def __delitem__(self, key):\n",
    "        print('__delitem__', key)\n",
    "\n",
    "\n",
    "obj = Foo()\n",
    "\n",
    "result = obj['k1']      # 自动触发执行 __getitem__\n",
    "obj['k2'] = 'laowang'   # 自动触发执行 __setitem__\n",
    "del obj['k1']           # 自动触发执行 __delitem__"
   ]
  },
  {
   "cell_type": "markdown",
   "metadata": {},
   "source": [
    "## 9、`__getslice__、__setslice__、__delslice__`\n",
    "\n",
    "- 该三个方法用于分片操作，如：列表\n",
    "- 可以将一个类当作列表操作"
   ]
  },
  {
   "cell_type": "code",
   "execution_count": 22,
   "metadata": {},
   "outputs": [
    {
     "name": "stdout",
     "output_type": "stream",
     "text": [
      "Get slice---------> start: -1, stop: 10, step: None.\n",
      "Set slice---------> start: -1, stop: 10, step: 1.\n",
      "\tThe value is: [2, 3, 4, 5]\n",
      "Delete slice------> start: -1, stop: 10, step: 2.\n"
     ]
    }
   ],
   "source": [
    "class Foo(object):\n",
    "\n",
    "    def __getitem__(self, index):\n",
    "        if isinstance(index, slice):\n",
    "            print(\"Get slice---------> start: %s, stop: %s, step: %s.\" \\\n",
    "                    % (str(index.start), str(index.stop), str(index.step)))\n",
    "\n",
    "    def __setitem__(self, index, value):\n",
    "        if isinstance(index, slice):\n",
    "            print(\"Set slice---------> start: %s, stop: %s, step: %s.\" \\\n",
    "                    % (str(index.start), str(index.stop), str(index.step)))\n",
    "            print(\"\\tThe value is:\", value)\n",
    "        \n",
    "    def __delitem__(self, index):\n",
    "        if isinstance(index, slice):\n",
    "            print(\"Delete slice------> start: %s, stop: %s, step: %s.\" \\\n",
    "                    % (str(index.start), str(index.stop), str(index.step)))\n",
    "\n",
    "\n",
    "if __name__ == \"__main__\":\n",
    "    obj = Foo()\n",
    "    obj[-1:10]\n",
    "    obj[-1:10:1] = [2,3,4,5]\n",
    "    del obj[-1:10:2]"
   ]
  },
  {
   "cell_type": "markdown",
   "metadata": {},
   "source": [
    "## 10. `__new__`\n",
    "\n",
    "- 这个方法我们一般很少定义，不过我们在一些开源框架中偶尔会遇到定义这个方法的类。实际上，这才是“真正的构造方法”，它会在对象实例化时第一个被调用，然后再调用__init__，它们的区别主要如下：\n",
    "\n",
    "- `__new__`的第一个参数是cls，而`__init__`的第一个参数是self\n",
    "- `__new__`返回值是一个实例,返回给`__init__`，而`__init__`没有任何返回值，只做初始化操作\n",
    "- `__new__`由于是返回一个实例对象，所以它可以给所有实例进行统一的初始化操作\n",
    "- `__new__` + `__init__` 实现了像 c++ 中构造函数的作用\n",
    "- 由于`__new__`优先于`__init__`调用，且返回一个实例，所以我们可以利用这种特性，每次返回同一个实例来实现一个单例类："
   ]
  },
  {
   "cell_type": "code",
   "execution_count": 27,
   "metadata": {},
   "outputs": [],
   "source": [
    "class Singleton(object):\n",
    "    \"\"\"单例\"\"\"\n",
    "    _instance = None\n",
    "    def __new__(cls, *args, **kwargs):\n",
    "        if not cls._instance:\n",
    "            cls._instance = super(Singleton, cls).__new__(cls, *args, **kwargs)\n",
    "        return cls._instance\n",
    "class MySingleton(Singleton):\n",
    "    pass\n",
    "\n",
    "\n",
    "a = MySingleton()\n",
    "b = MySingleton()\n",
    "\n",
    "assert a is b  \t# True"
   ]
  },
  {
   "cell_type": "markdown",
   "metadata": {},
   "source": [
    "- 另外一种使用场景是当你需要继承内置类时，例如int、str、tuple，只能通过__new__来达到初始化数据的效果："
   ]
  },
  {
   "cell_type": "code",
   "execution_count": 29,
   "metadata": {},
   "outputs": [
    {
     "name": "stdout",
     "output_type": "stream",
     "text": [
      "100.0\n",
      "200.0\n"
     ]
    }
   ],
   "source": [
    "class g(float):\n",
    "    \"\"\"千克转克\"\"\"\n",
    "    def __new__(cls, kg):\n",
    "        return float.__new__(cls, kg * 2)\n",
    "# 50千克转为克\n",
    "a = g(50)\n",
    "print(a) \t# 100\n",
    "print(a + 100)\t# 200, 由于继承了float，所以可以直接运算，非常方便！"
   ]
  },
  {
   "cell_type": "markdown",
   "metadata": {},
   "source": [
    "- 除此之外，`__new__`比较多的应用场景是配合元类使用"
   ]
  }
 ],
 "metadata": {
  "kernelspec": {
   "display_name": "Python 3",
   "language": "python",
   "name": "python3"
  },
  "language_info": {
   "codemirror_mode": {
    "name": "ipython",
    "version": 3
   },
   "file_extension": ".py",
   "mimetype": "text/x-python",
   "name": "python",
   "nbconvert_exporter": "python",
   "pygments_lexer": "ipython3",
   "version": "3.6.5"
  }
 },
 "nbformat": 4,
 "nbformat_minor": 2
}
