{
 "cells": [
  {
   "cell_type": "markdown",
   "metadata": {},
   "source": [
    "# 迭代器\n",
    "\n",
    "- 迭代是访问集合元素的⼀种⽅式。迭代器是⼀个可以记住遍历的位置的对象。迭代器对象从集合的第⼀个元素开始访问，直到所有的元素被访问完结束。迭代器只能往前不会后退。\n",
    "\n",
    "## 1. 可迭代对象\n",
    "\n",
    "- 可以直接作⽤于 for 循环的数据类型有以下⼏种：\n",
    "    - 集合数据类型，如 list 、 tuple 、 dict 、 set 、 str 等；\n",
    "    -  generator ，包括⽣成器和带 yield 的generator function。\n",
    "- 可以直接作⽤于 for 循环的对象统称为可迭代对象： Iterable 。\n",
    "\n",
    "## 2. 判断是否可以迭代\n",
    "\n",
    "- isinstance() 函数来判断一个对象是否是一个已知的类型，类似 type()。\n",
    "- isinstance() 与 type() 区别：\n",
    "    - type() 不会认为子类是一种父类类型，不考虑继承关系。\n",
    "    - isinstance() 会认为子类是一种父类类型，考虑继承关系。\n",
    "- 如果要判断两个类型是否相同推荐使用 isinstance()。\n",
    "- isinstance(object, classinfo)\n",
    "    - object -- 实例对象。\n",
    "    - classinfo -- 可以是直接或间接类名、基本类型或者由它们组成的元组。\n",
    "- 如果对象的类型与参数二的类型（classinfo）相同则返回 True，否则返回 False"
   ]
  },
  {
   "cell_type": "code",
   "execution_count": 2,
   "metadata": {},
   "outputs": [
    {
     "name": "stdout",
     "output_type": "stream",
     "text": [
      "True\n",
      "True\n",
      "False\n",
      "True\n"
     ]
    }
   ],
   "source": [
    "from collections import Iterable\n",
    "\n",
    "a = [1, 2, 3, 4]\n",
    "b = \"abc\"\n",
    "c = 10\n",
    "d = {'abc': 'abc'}\n",
    "\n",
    "print(isinstance(a, Iterable))\n",
    "print(isinstance(b, Iterable))\n",
    "print(isinstance(c, Iterable))  # 数字 类型不是可迭代对象\n",
    "print(isinstance(d, Iterable))"
   ]
  },
  {
   "cell_type": "markdown",
   "metadata": {},
   "source": [
    "## 3. 迭代器\n",
    "\n",
    "- 可以被next()函数调⽤并不断返回下⼀个值的对象称为迭代器：Iterator。\n",
    "- 可以使⽤ isinstance() 判断⼀个对象是否是 Iterator 对象："
   ]
  },
  {
   "cell_type": "code",
   "execution_count": 4,
   "metadata": {},
   "outputs": [
    {
     "name": "stdout",
     "output_type": "stream",
     "text": [
      "True\n",
      "True\n"
     ]
    }
   ],
   "source": [
    "from collections import Iterator\n",
    "\n",
    "# 生成器推导式\n",
    "a = (i for i in range(10))\n",
    "\n",
    "def func():\n",
    "    for i in range(10):\n",
    "        yield i\n",
    "\n",
    "b = func()\n",
    "\n",
    "print(isinstance(a, Iterator))\n",
    "print(isinstance(b, Iterator))"
   ]
  },
  {
   "cell_type": "markdown",
   "metadata": {},
   "source": [
    "## 4. iter()函数\n",
    "\n",
    "- ⽣成器都是 Iterator 对象，但 list 、 dict 、 str 虽然是 Iterable ，却不是 Iterator 。\n",
    "- 把 list 、 dict 、 str 等 Iterable 变成 Iterator 可以使⽤ iter() 函数："
   ]
  },
  {
   "cell_type": "code",
   "execution_count": 11,
   "metadata": {},
   "outputs": [
    {
     "name": "stdout",
     "output_type": "stream",
     "text": [
      "False\n",
      "True\n",
      "1\n"
     ]
    }
   ],
   "source": [
    "from collections import Iterator\n",
    "\n",
    "a = [1, 2, 3, 4]\n",
    "\n",
    "print(isinstance(a, Iterator))\n",
    "\n",
    "print(isinstance(iter(a), Iterator))\n",
    "\n",
    "b = iter(a)\n",
    " \n",
    "print(next(b))"
   ]
  },
  {
   "cell_type": "markdown",
   "metadata": {},
   "source": [
    "## 总结\n",
    "\n",
    "- 凡是可作⽤于 for 循环的对象都是 Iterable 类型；\n",
    "- 凡是可作⽤于 next() 函数的对象都是 Iterator 类型\n",
    "- 集合数据类型如 list 、 dict 、 str 等是 Iterable 但不是 Iterator ，不过可以通过 iter() 函数获得⼀个 Iterator 对象。"
   ]
  }
 ],
 "metadata": {
  "kernelspec": {
   "display_name": "Python 3",
   "language": "python",
   "name": "python3"
  },
  "language_info": {
   "codemirror_mode": {
    "name": "ipython",
    "version": 3
   },
   "file_extension": ".py",
   "mimetype": "text/x-python",
   "name": "python",
   "nbconvert_exporter": "python",
   "pygments_lexer": "ipython3",
   "version": "3.6.5"
  }
 },
 "nbformat": 4,
 "nbformat_minor": 2
}
