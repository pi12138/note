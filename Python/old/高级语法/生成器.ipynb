{
 "cells": [
  {
   "cell_type": "markdown",
   "metadata": {},
   "source": [
    "# ⽣成器\n",
    "\n",
    "## 1. 什么是⽣成器\n",
    "\n",
    "- 通过列表⽣成式，我们可以直接创建⼀个列表。但是，受到内存限制，列表容量肯定是有限的。⽽且，创建⼀个包含100万个元素的列表，不仅占⽤很⼤的存储空间，如果我们仅仅需要访问前⾯⼏个元素，那后⾯绝⼤多数元素占⽤的空间都⽩⽩浪费了。所以，如果列表元素可以按照某种算法推算出来，那我们是否可以在循环的过程中不断推算出后续的元素呢？这样就不必创建完整的list，从⽽节省⼤量的空间。\n",
    "- 在Python中，这种⼀边循环⼀边计算的机制，称为⽣成器：generator。\n",
    "- **使用生成器的目的：节约内存**\n",
    "\n",
    "## 2. 创建生成器\n",
    "\n",
    "- 使用类似列表推导式的方式`[]`，使用`()`。（简单的逻辑选择这个）\n",
    "- 在函数中使用`yield`关键字。（实现比较复杂的逻辑选择这个）\n",
    "\n",
    "## 3. 使用生成器数据\n",
    "\n",
    "- for循环\n",
    "- next(generator)    `(两者等同 generator.__next__())`\n",
    "- generator.send(args)\n",
    "    - send() 可以向生成器传递数据，例如send('python')\n",
    "    - `a.send(None) 类似于 next(a), a.__next__()`\n",
    "    - 使用send()时需要注意，send()不能在未使用next()的情况下使用传入参数，如果非要使用send(), 应该使用send(None)。"
   ]
  },
  {
   "cell_type": "code",
   "execution_count": 19,
   "metadata": {},
   "outputs": [
    {
     "name": "stdout",
     "output_type": "stream",
     "text": [
      "<class 'generator'>\n",
      "<class 'generator'>\n",
      "0 1 1 2 3 5 8 13 21 34 "
     ]
    }
   ],
   "source": [
    "# 生成器推导式\n",
    "a = (x for x in range(10))\n",
    "\n",
    "print(type(a))\n",
    "\n",
    "# 使用函数的方式\n",
    "# 斐波那契数列\n",
    "def func(n):\n",
    "    a, b = 0, 1\n",
    "    for i in range(n):\n",
    "        yield a\n",
    "        a, b = b, a+b\n",
    "    \n",
    "    return None\n",
    "        \n",
    "b = func(10)\n",
    "\n",
    "print(type(b))\n",
    "\n",
    "for i in b:\n",
    "    print(i, end=\" \")"
   ]
  },
  {
   "cell_type": "code",
   "execution_count": 20,
   "metadata": {},
   "outputs": [
    {
     "name": "stdout",
     "output_type": "stream",
     "text": [
      "0\n",
      "1\n",
      "2\n"
     ]
    },
    {
     "ename": "StopIteration",
     "evalue": "",
     "output_type": "error",
     "traceback": [
      "\u001b[1;31m---------------------------------------------------------------------------\u001b[0m",
      "\u001b[1;31mStopIteration\u001b[0m                             Traceback (most recent call last)",
      "\u001b[1;32m<ipython-input-20-936c1e12f55c>\u001b[0m in \u001b[0;36m<module>\u001b[1;34m()\u001b[0m\n\u001b[0;32m      4\u001b[0m \u001b[0mprint\u001b[0m\u001b[1;33m(\u001b[0m\u001b[0mnext\u001b[0m\u001b[1;33m(\u001b[0m\u001b[0ma\u001b[0m\u001b[1;33m)\u001b[0m\u001b[1;33m)\u001b[0m\u001b[1;33m\u001b[0m\u001b[0m\n\u001b[0;32m      5\u001b[0m \u001b[0mprint\u001b[0m\u001b[1;33m(\u001b[0m\u001b[0mnext\u001b[0m\u001b[1;33m(\u001b[0m\u001b[0ma\u001b[0m\u001b[1;33m)\u001b[0m\u001b[1;33m)\u001b[0m\u001b[1;33m\u001b[0m\u001b[0m\n\u001b[1;32m----> 6\u001b[1;33m \u001b[0mprint\u001b[0m\u001b[1;33m(\u001b[0m\u001b[0mnext\u001b[0m\u001b[1;33m(\u001b[0m\u001b[0ma\u001b[0m\u001b[1;33m)\u001b[0m\u001b[1;33m)\u001b[0m\u001b[1;33m\u001b[0m\u001b[0m\n\u001b[0m",
      "\u001b[1;31mStopIteration\u001b[0m: "
     ]
    }
   ],
   "source": [
    "a = (x for x in range(3))\n",
    "\n",
    "print(next(a))\n",
    "print(next(a))\n",
    "print(next(a))\n",
    "print(next(a))"
   ]
  },
  {
   "cell_type": "code",
   "execution_count": 32,
   "metadata": {},
   "outputs": [
    {
     "name": "stdout",
     "output_type": "stream",
     "text": [
      "0\n",
      "None\n",
      "1\n",
      "None\n",
      "1\n",
      "hello\n",
      "2\n",
      "world\n",
      "3\n"
     ]
    }
   ],
   "source": [
    "def func(n):\n",
    "    a, b = 0, 1\n",
    "    for i in range(n):\n",
    "        temp = yield a\n",
    "        a, b = b, a+b\n",
    "        print(temp)\n",
    "    return None\n",
    "\n",
    "a = func(10)\n",
    "\n",
    "print(next(a))\n",
    "print(a.__next__())\n",
    "print(a.send(None))\n",
    "print(a.send(\"hello\"))\n",
    "print(a.send(\"world\"))"
   ]
  },
  {
   "cell_type": "markdown",
   "metadata": {},
   "source": [
    "# 总结\n",
    "\n",
    "- ⽣成器是这样⼀个函数，它记住上⼀次返回时在函数体中的位置。对⽣成器函数的第⼆次（或第 n 次）调⽤跳转⾄该函数中间，⽽上次调⽤的所有局部变量都保持不变。⽣成器不仅“记住”了它数据状态；⽣成器还“记住”了它在流控制构造（在命令式编程中，这种构造不只是数据值）中的位置。\n",
    "\n",
    "- ⽣成器的特点：\n",
    "    1. 节约内存\n",
    "    2. 迭代到下⼀次的调⽤时，所使⽤的参数都是第⼀次所保留下的，即是说，在整个所有函数调⽤的参数都是第⼀次所调⽤时保留的，⽽不是新创建的"
   ]
  }
 ],
 "metadata": {
  "kernelspec": {
   "display_name": "Python 3",
   "language": "python",
   "name": "python3"
  },
  "language_info": {
   "codemirror_mode": {
    "name": "ipython",
    "version": 3
   },
   "file_extension": ".py",
   "mimetype": "text/x-python",
   "name": "python",
   "nbconvert_exporter": "python",
   "pygments_lexer": "ipython3",
   "version": "3.6.5"
  }
 },
 "nbformat": 4,
 "nbformat_minor": 2
}
