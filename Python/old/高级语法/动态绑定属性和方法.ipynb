{
 "cells": [
  {
   "cell_type": "markdown",
   "metadata": {},
   "source": [
    "# python是动态语⾔\n",
    "\n",
    "## 1. 动态语⾔的定义\n",
    "- `动态编程语⾔` 是 `⾼级程序设计语⾔` 的⼀个类别，在计算机科学领域已被⼴泛应⽤。它是⼀类 在 运⾏时可以改变其结构 的语⾔ ：例如新的函数、对象、甚⾄代码可以被引进，已有的函数可以被删除或是其他结构上的变化。\n",
    "- 动态语⾔⽬前⾮常具有活⼒。例如JavaScript便是⼀个动态语⾔，除此之外如PHP 、 Ruby 、 Python 等也都属于动态语⾔，⽽ C 、 C++ 等语⾔则不属于动态语⾔。"
   ]
  },
  {
   "cell_type": "markdown",
   "metadata": {},
   "source": [
    "## 2. 运⾏的过程中给对象绑定(添加)属性和方法\n",
    "\n",
    "- object_name.attr_name = attr_name\n",
    "- object_name.func_name = types.MethodType(func_name, object_name)\n",
    "\n",
    "## 3. 运⾏的过程中给类绑定(添加)属性和方法\n",
    "\n",
    "- class_name.attr_name = attr_name\n",
    "- class_name.func_name = func_name\n",
    "\n",
    "## 4. 运⾏的过程中删除属性、⽅法\n",
    "\n",
    "- 删除的⽅法:\n",
    "    1. del 对象.属性名\n",
    "    2. delattr(对象, \"属性名\")\n",
    "    \n",
    "## 5. 限制实例的属性\n",
    "\n",
    "- 如果我们想要限制实例的属性怎么办？⽐如，只允许对Person实例添加name和age属性。\n",
    "- 为了达到限制的⽬的，Python允许在定义class的时候，定义⼀个特殊的`__slots__`变量，来限制该class实例能添加的属性\n",
    "- 使⽤`__slots__`要注意，`__slots__`定义的属性仅对当前类实例起作⽤，对继承的⼦类是不起作⽤的\n",
    "- 使用方法：`__slots__ = ('attr1' [, 'attr2'......])`\n"
   ]
  },
  {
   "cell_type": "code",
   "execution_count": 4,
   "metadata": {},
   "outputs": [
    {
     "name": "stdout",
     "output_type": "stream",
     "text": [
      "ZYP\n",
      "---ZYP eat---\n",
      "20\n",
      "---ZYP run---\n"
     ]
    },
    {
     "ename": "AttributeError",
     "evalue": "'Person' object has no attribute 'age'",
     "output_type": "error",
     "traceback": [
      "\u001b[1;31m---------------------------------------------------------------------------\u001b[0m",
      "\u001b[1;31mAttributeError\u001b[0m                            Traceback (most recent call last)",
      "\u001b[1;32m<ipython-input-4-c32e1b4dee01>\u001b[0m in \u001b[0;36m<module>\u001b[1;34m()\u001b[0m\n\u001b[0;32m     26\u001b[0m \u001b[0mp2\u001b[0m \u001b[1;33m=\u001b[0m \u001b[0mPerson\u001b[0m\u001b[1;33m(\u001b[0m\u001b[1;34m'zy'\u001b[0m\u001b[1;33m)\u001b[0m\u001b[1;33m\u001b[0m\u001b[0m\n\u001b[0;32m     27\u001b[0m \u001b[1;33m\u001b[0m\u001b[0m\n\u001b[1;32m---> 28\u001b[1;33m \u001b[0mprint\u001b[0m\u001b[1;33m(\u001b[0m\u001b[0mp2\u001b[0m\u001b[1;33m.\u001b[0m\u001b[0mage\u001b[0m\u001b[1;33m)\u001b[0m    \u001b[1;31m# 报错，添加的对象之间属性不共享\u001b[0m\u001b[1;33m\u001b[0m\u001b[0m\n\u001b[0m",
      "\u001b[1;31mAttributeError\u001b[0m: 'Person' object has no attribute 'age'"
     ]
    }
   ],
   "source": [
    "import types\n",
    "\n",
    "class Person(object):\n",
    "    def __init__(self, name):\n",
    "        self.name = name\n",
    "    \n",
    "    def eat(self):\n",
    "        print(\"---{} eat---\".format(self.name))\n",
    "\n",
    "def run(self):\n",
    "    print(\"---{} run---\".format(self.name))\n",
    "        \n",
    "        \n",
    "p1 = Person('ZYP')\n",
    "\n",
    "print(p1.name)\n",
    "p1.eat()\n",
    "\n",
    "# 添加对象属性和对象方法\n",
    "p1.age = 20\n",
    "p1.run = types.MethodType(run, p1)\n",
    "\n",
    "print(p1.age)\n",
    "p1.run()\n",
    "\n",
    "p2 = Person('zy')\n",
    "\n",
    "print(p2.age)    # 报错，添加的对象之间属性不共享"
   ]
  },
  {
   "cell_type": "code",
   "execution_count": 6,
   "metadata": {},
   "outputs": [
    {
     "name": "stdout",
     "output_type": "stream",
     "text": [
      "None None\n",
      "---zyp run---\n",
      "---zy run---\n"
     ]
    }
   ],
   "source": [
    "class Person(object):\n",
    "    def __init__(self, name):\n",
    "        self.name = name\n",
    "    \n",
    "    def eat(self):\n",
    "        print(\"---{} eat---\".format(self.name))\n",
    "\n",
    "def run(self):\n",
    "    print(\"---{} run---\".format(self.name))\n",
    "    \n",
    "\n",
    "# 添加类属性和类方法\n",
    "Person.run = run\n",
    "Person.age = None\n",
    "\n",
    "p1 = Person('zyp')\n",
    "p2 = Person('zy')\n",
    "\n",
    "print(p1.age, p2.age)\n",
    "p1.run()\n",
    "p2.run()\n",
    "\n"
   ]
  },
  {
   "cell_type": "code",
   "execution_count": 9,
   "metadata": {},
   "outputs": [
    {
     "ename": "AttributeError",
     "evalue": "'Person' object has no attribute 'addr'",
     "output_type": "error",
     "traceback": [
      "\u001b[1;31m---------------------------------------------------------------------------\u001b[0m",
      "\u001b[1;31mAttributeError\u001b[0m                            Traceback (most recent call last)",
      "\u001b[1;32m<ipython-input-9-a37035a8c667>\u001b[0m in \u001b[0;36m<module>\u001b[1;34m()\u001b[0m\n\u001b[0;32m     13\u001b[0m \u001b[0mp1\u001b[0m\u001b[1;33m.\u001b[0m\u001b[0mage\u001b[0m \u001b[1;33m=\u001b[0m \u001b[1;36m20\u001b[0m\u001b[1;33m\u001b[0m\u001b[0m\n\u001b[0;32m     14\u001b[0m \u001b[0mp1\u001b[0m\u001b[1;33m.\u001b[0m\u001b[0msex\u001b[0m \u001b[1;33m=\u001b[0m \u001b[1;34m'man'\u001b[0m\u001b[1;33m\u001b[0m\u001b[0m\n\u001b[1;32m---> 15\u001b[1;33m \u001b[0mp1\u001b[0m\u001b[1;33m.\u001b[0m\u001b[0maddr\u001b[0m \u001b[1;33m=\u001b[0m \u001b[1;34m\"xy\"\u001b[0m\u001b[1;33m\u001b[0m\u001b[0m\n\u001b[0m",
      "\u001b[1;31mAttributeError\u001b[0m: 'Person' object has no attribute 'addr'"
     ]
    }
   ],
   "source": [
    "# 限制实例属性\n",
    "class Person(object):\n",
    "    def __init__(self, name):\n",
    "        self.name = name\n",
    "    \n",
    "    def eat(self):\n",
    "        print(\"---{} eat---\".format(self.name))\n",
    "    \n",
    "    __slots__ = ('age', 'sex', 'name')\n",
    "    \n",
    "p1 = Person('zyp')\n",
    "\n",
    "p1.age = 20\n",
    "p1.sex = 'man'\n",
    "\n",
    "# __slots__ 中没有设置，该属性不能添加\n",
    "p1.addr = \"xy\""
   ]
  },
  {
   "cell_type": "code",
   "execution_count": null,
   "metadata": {},
   "outputs": [],
   "source": []
  }
 ],
 "metadata": {
  "kernelspec": {
   "display_name": "Python 3",
   "language": "python",
   "name": "python3"
  },
  "language_info": {
   "codemirror_mode": {
    "name": "ipython",
    "version": 3
   },
   "file_extension": ".py",
   "mimetype": "text/x-python",
   "name": "python",
   "nbconvert_exporter": "python",
   "pygments_lexer": "ipython3",
   "version": "3.6.5"
  }
 },
 "nbformat": 4,
 "nbformat_minor": 2
}
