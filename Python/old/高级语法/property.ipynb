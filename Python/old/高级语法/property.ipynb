{
 "cells": [
  {
   "cell_type": "markdown",
   "metadata": {},
   "source": [
    "# property的使用\n",
    "\n",
    "- property() 函数的作用是在新式类中返回属性值。\n",
    "- class property([fget[, fset[, fdel[, doc]]]])\n",
    "- 参数\n",
    "    - fget -- 获取属性值的函数\n",
    "    - fset -- 设置属性值的函数\n",
    "    - fdel -- 删除属性值函数\n",
    "    - doc -- 属性描述信息\n",
    "- 返回值：返回新式类属性。"
   ]
  },
  {
   "cell_type": "code",
   "execution_count": 6,
   "metadata": {},
   "outputs": [
    {
     "name": "stdout",
     "output_type": "stream",
     "text": [
      "100\n",
      "1\n"
     ]
    }
   ],
   "source": [
    "# 私有属性，对象无法访问\n",
    "# 需要借助函数进行访问\n",
    "\n",
    "class Test(object):\n",
    "    def __init__(self):\n",
    "        self.__num = 100\n",
    "    \n",
    "    def get_num(self):\n",
    "        return self.__num\n",
    "\n",
    "    def set_num(self, num):\n",
    "        if isinstance(num, int):\n",
    "            self.__num = num\n",
    "        else:\n",
    "            print(\"__num应该为整形\")\n",
    "\n",
    "t = Test()\n",
    "# t.__num  # AttributeError: 'Test' object has no attribute '__num'\n",
    "print(t.get_num())\n",
    "t.set_num(1)\n",
    "print(t.get_num())"
   ]
  },
  {
   "cell_type": "code",
   "execution_count": 10,
   "metadata": {},
   "outputs": [
    {
     "name": "stdout",
     "output_type": "stream",
     "text": [
      "100\n",
      "10\n"
     ]
    }
   ],
   "source": [
    "class Test(object):\n",
    "    def __init__(self):\n",
    "        self.__num = 100\n",
    "    \n",
    "    def get_num(self):\n",
    "        return self.__num\n",
    "\n",
    "    def set_num(self, num):\n",
    "        if isinstance(num, int):\n",
    "            self.__num = num\n",
    "        else:\n",
    "            print(\"__num应该为整形\")\n",
    "            \n",
    "    num = property(get_num, set_num)\n",
    "\n",
    "t = Test()\n",
    "\n",
    "print(t.num)\n",
    "t.num = 10\n",
    "print(t.num)"
   ]
  },
  {
   "cell_type": "markdown",
   "metadata": {},
   "source": [
    "- t 为 Test 类的实例化， t.num 将触发getter（get_num），t.num = 10 将触发setter（set_num） \n",
    "- 下面的使用方法和上面一样\n",
    "- property 的 getter,setter 和 deleter 方法同样可以用作装饰器"
   ]
  },
  {
   "cell_type": "code",
   "execution_count": 14,
   "metadata": {},
   "outputs": [
    {
     "name": "stdout",
     "output_type": "stream",
     "text": [
      "100\n",
      "20\n"
     ]
    },
    {
     "ename": "AttributeError",
     "evalue": "'Test' object has no attribute '_Test__num'",
     "output_type": "error",
     "traceback": [
      "\u001b[1;31m---------------------------------------------------------------------------\u001b[0m",
      "\u001b[1;31mAttributeError\u001b[0m                            Traceback (most recent call last)",
      "\u001b[1;32m<ipython-input-14-4a34fd829e06>\u001b[0m in \u001b[0;36m<module>\u001b[1;34m()\u001b[0m\n\u001b[0;32m     24\u001b[0m \u001b[0mprint\u001b[0m\u001b[1;33m(\u001b[0m\u001b[0mt\u001b[0m\u001b[1;33m.\u001b[0m\u001b[0mnum\u001b[0m\u001b[1;33m)\u001b[0m\u001b[1;33m\u001b[0m\u001b[0m\n\u001b[0;32m     25\u001b[0m \u001b[1;32mdel\u001b[0m \u001b[0mt\u001b[0m\u001b[1;33m.\u001b[0m\u001b[0mnum\u001b[0m\u001b[1;33m\u001b[0m\u001b[0m\n\u001b[1;32m---> 26\u001b[1;33m \u001b[0mprint\u001b[0m\u001b[1;33m(\u001b[0m\u001b[0mt\u001b[0m\u001b[1;33m.\u001b[0m\u001b[0mnum\u001b[0m\u001b[1;33m)\u001b[0m\u001b[1;33m\u001b[0m\u001b[0m\n\u001b[0m",
      "\u001b[1;32m<ipython-input-14-4a34fd829e06>\u001b[0m in \u001b[0;36mnum\u001b[1;34m(self)\u001b[0m\n\u001b[0;32m      5\u001b[0m     \u001b[1;33m@\u001b[0m\u001b[0mproperty\u001b[0m\u001b[1;33m\u001b[0m\u001b[0m\n\u001b[0;32m      6\u001b[0m     \u001b[1;32mdef\u001b[0m \u001b[0mnum\u001b[0m\u001b[1;33m(\u001b[0m\u001b[0mself\u001b[0m\u001b[1;33m)\u001b[0m\u001b[1;33m:\u001b[0m\u001b[1;33m\u001b[0m\u001b[0m\n\u001b[1;32m----> 7\u001b[1;33m         \u001b[1;32mreturn\u001b[0m \u001b[0mself\u001b[0m\u001b[1;33m.\u001b[0m\u001b[0m__num\u001b[0m\u001b[1;33m\u001b[0m\u001b[0m\n\u001b[0m\u001b[0;32m      8\u001b[0m \u001b[1;33m\u001b[0m\u001b[0m\n\u001b[0;32m      9\u001b[0m     \u001b[1;33m@\u001b[0m\u001b[0mnum\u001b[0m\u001b[1;33m.\u001b[0m\u001b[0msetter\u001b[0m\u001b[1;33m\u001b[0m\u001b[0m\n",
      "\u001b[1;31mAttributeError\u001b[0m: 'Test' object has no attribute '_Test__num'"
     ]
    }
   ],
   "source": [
    "class Test(object):\n",
    "    def __init__(self):\n",
    "        self.__num = 100\n",
    "    \n",
    "    @property\n",
    "    def num(self):\n",
    "        return self.__num\n",
    "    \n",
    "    @num.setter\n",
    "    def num(self, num):\n",
    "        if isinstance(num, int):\n",
    "            self.__num = num\n",
    "        else:\n",
    "            print(\"__num应该为整形\")\n",
    "    \n",
    "    @num.deleter\n",
    "    def num(self):\n",
    "        del self.__num\n",
    "\n",
    "t = Test()\n",
    "\n",
    "print(t.num)\n",
    "t.num = 20\n",
    "print(t.num)\n",
    "del t.num\n",
    "print(t.num)"
   ]
  }
 ],
 "metadata": {
  "kernelspec": {
   "display_name": "Python 3",
   "language": "python",
   "name": "python3"
  },
  "language_info": {
   "codemirror_mode": {
    "name": "ipython",
    "version": 3
   },
   "file_extension": ".py",
   "mimetype": "text/x-python",
   "name": "python",
   "nbconvert_exporter": "python",
   "pygments_lexer": "ipython3",
   "version": "3.6.5"
  }
 },
 "nbformat": 4,
 "nbformat_minor": 2
}
