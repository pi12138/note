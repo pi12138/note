{
 "cells": [
  {
   "cell_type": "markdown",
   "metadata": {},
   "source": [
    "# 单例模式\n",
    "\n",
    "- 通常情况下，我们定义一个类，这个类可以实例化很多个不同的对象，这些对象互不相同"
   ]
  },
  {
   "cell_type": "code",
   "execution_count": 6,
   "metadata": {},
   "outputs": [
    {
     "name": "stdout",
     "output_type": "stream",
     "text": [
      "zyp zyp\n",
      "<__main__.Person object at 0x000001A250FC6390>\n",
      "<__main__.Person object at 0x000001A250FC6320>\n",
      "False\n"
     ]
    }
   ],
   "source": [
    "class Person:\n",
    "    def __init__(self, name):\n",
    "        self.name = name\n",
    "\n",
    "p1 = Person('zyp')\n",
    "p2 = Person(\"zyp\")\n",
    "\n",
    "print(p1.name, p2.name)\n",
    "print(p1)\n",
    "print(p2)\n",
    "print(p1 is p2)"
   ]
  },
  {
   "cell_type": "markdown",
   "metadata": {},
   "source": [
    "- 通过上个例子可以看出，尽管实例化时传入的参数一样时，实例化后的对象还是不一样的。\n",
    "- 如果我们想让这些实例化出来的对象要一样，这个时候就需要使用设计模式中的--**单例设计模式**"
   ]
  },
  {
   "cell_type": "markdown",
   "metadata": {},
   "source": [
    "## 单例设计模式\n",
    "\n",
    "- 目的 —— 让 类 创建的对象，在系统中 只有 唯一的一个实例\n",
    "- 每一次执行 类名() 返回的对象，内存地址是相同的\n",
    "- Python中实现单例模式需要借助`__new__`方法，所以我们要先了解`__new__`方法\n",
    "\n",
    "## `__new__`方法\n",
    "\n",
    "- 使用 类名() 创建对象时，Python 的解释器首先会调用 `__new__` 方法为对象**分配空间**\n",
    "- `__new__` 是一个 由 object 基类提供的**内置的静态方法**，主要作用有两个：\n",
    "    1. 在内存中为对象 分配空间\n",
    "    2. 返回 对象的引用\n",
    "- `__init__`方法的主要作用有两个\n",
    "    1. 对象初始化\n",
    "    2. 定义实例属性\n",
    "- `__new__和__init__`两个方法共同实现了像c++中的构造方法的作用。\n",
    "- Python的解释器获得对象的引用后，将引用作为第一个参数，传递给 `__init__` 方法\n",
    "\n",
    "- **重写 __new__ 方法 的代码非常固定！**\n",
    "    - 重写 `__new__ 方法 一定要 return super().__new__(cls)`\n",
    "    - 否则 Python 的解释器 得不到 分配了空间的 对象引用，就不会调用对象的初始化方法\n",
    "    - 注意：`__new__` 是一个静态方法，在调用时需要 主动传递 cls 参数"
   ]
  },
  {
   "cell_type": "code",
   "execution_count": 11,
   "metadata": {},
   "outputs": [
    {
     "name": "stdout",
     "output_type": "stream",
     "text": [
      "__new__方法被调用，为对象分配内存空间\n",
      "__init__实例化对象\n",
      "__new__方法被调用\n"
     ]
    }
   ],
   "source": [
    "class Player(object):\n",
    "    def __new__(cls, *args, **kwargs):\n",
    "        print(\"__new__方法被调用，为对象分配内存空间\")\n",
    "        \n",
    "        return super().__new__(cls)\n",
    "    \n",
    "    def __init__(self):\n",
    "        print(\"__init__实例化对象\")\n",
    "        \n",
    "player = Player()\n",
    "\n",
    "\n",
    "# __new__方法不返回内容，\n",
    "class Error(object):\n",
    "    def __new__(cls, *args, **kwargs):\n",
    "        print(\"__new__方法被调用\")\n",
    "        \n",
    "    def __init__(self):\n",
    "        print(\"__init__方法被调用\")\n",
    "\n",
    "e = Error()"
   ]
  },
  {
   "cell_type": "markdown",
   "metadata": {},
   "source": [
    "## Python 中的单例\n",
    "\n",
    "- 单例 —— 让 类 创建的对象，在系统中 只有 唯一的一个实例\n",
    "- 定义一个 类属性，初始值是 None，用于记录 单例对象的引用\n",
    "- 重写 `__new__` 方法\n",
    "- 如果 类属性 is None，调用父类方法分配空间，并在类属性中记录结果\n",
    "- 返回 类属性 中记录的 对象引用"
   ]
  },
  {
   "cell_type": "markdown",
   "metadata": {},
   "source": [
    "- ![原理图](https://i.screenshot.net/70j3ji2)"
   ]
  },
  {
   "cell_type": "code",
   "execution_count": 19,
   "metadata": {},
   "outputs": [
    {
     "name": "stdout",
     "output_type": "stream",
     "text": [
      "<__main__.Player object at 0x000001A250FC6240>\n",
      "<__main__.Player object at 0x000001A250FC6240>\n"
     ]
    }
   ],
   "source": [
    "# 1. 判断类属性是否为None\n",
    "# 2. 调用父类方法，为第一个对象分配内存空间\n",
    "# 3. 返回类属性保存的对象引用\n",
    "\n",
    "class Player(object):\n",
    "    instance = None\n",
    "    \n",
    "    def __new__(cls, *args, **kwargs):\n",
    "        if cls.instance is None:\n",
    "            cls.instance = super().__new__(cls)\n",
    "        return cls.instance\n",
    "\n",
    "\n",
    "player1 = Player()\n",
    "player2 = Player()\n",
    "\n",
    "print(player1)\n",
    "print(player2)\n"
   ]
  },
  {
   "cell_type": "markdown",
   "metadata": {},
   "source": [
    "- 上面的例子仅修改`__new__`方法，但是在每次在每次使用 类名() 创建对象时，Python 的解释器都会自动调用两个方法：\n",
    "    - `__new__` 分配空间\n",
    "    - `__init__` 对象初始化\n",
    "- 对`__new__` 方法改造之后，每次都会得到 第一次被创建对象的引用；但是：初始化方法还会被再次调用"
   ]
  },
  {
   "cell_type": "code",
   "execution_count": 21,
   "metadata": {},
   "outputs": [
    {
     "name": "stdout",
     "output_type": "stream",
     "text": [
      "111\n",
      "222\n",
      "222\n"
     ]
    }
   ],
   "source": [
    "# 初始化方法被调用了两次\n",
    "# 第二次调用的初始化方法会修改第一次初始化的值，因为他们的内存地址是一样的\n",
    "class Player(object):\n",
    "    instance = None\n",
    "    \n",
    "    def __new__(cls, *args, **kwargs):\n",
    "        if cls.instance is None:\n",
    "            cls.instance = super().__new__(cls)\n",
    "        return cls.instance\n",
    "    \n",
    "    def __init__(self, name):\n",
    "        self.name = name\n",
    "        \n",
    "p1 = Player('111')\n",
    "print(p1.name)\n",
    "\n",
    "p2 = Player('222')\n",
    "print(p1.name)\n",
    "print(p2.name)"
   ]
  },
  {
   "cell_type": "markdown",
   "metadata": {},
   "source": [
    "## 只执行一次初始化工作的解决办法\n",
    "\n",
    "1. 定义一个类属性 init_flag 标记是否 执行过初始化动作，初始值为 False\n",
    "2. 在 `__init__` 方法中，判断 init_flag，如果为 False 就执行初始化动作\n",
    "3. 然后将 init_flag 设置为 True\n",
    "4. 这样，再次 自动 调用 `__init__` 方法时，初始化动作就不会被再次执行 了"
   ]
  },
  {
   "cell_type": "code",
   "execution_count": 26,
   "metadata": {},
   "outputs": [
    {
     "name": "stdout",
     "output_type": "stream",
     "text": [
      "111\n",
      "111\n",
      "111\n"
     ]
    }
   ],
   "source": [
    "class Player(object):\n",
    "    instance = None\n",
    "    init_flag = False\n",
    "    \n",
    "    def __new__(cls, *args, **kwargs):\n",
    "        if cls.instance is None:\n",
    "            cls.instance = super().__new__(cls)\n",
    "        return cls.instance\n",
    "    \n",
    "    def __init__(self, name):\n",
    "        # 如果已经初始化过，则直接返回\n",
    "        # 没有初始化则将进行初始化，并将初始化标记置为True\n",
    "        if self.__class__.init_flag == True:\n",
    "            return\n",
    "        else:\n",
    "            self.name = name\n",
    "            self.__class__.init_flag = True\n",
    "        \n",
    "        \n",
    "# 初始化方法只调用一次\n",
    "# 只记录第一次初始化的值\n",
    "p1 = Player('111')\n",
    "print(p1.name)\n",
    "\n",
    "p2 = Player('222')\n",
    "print(p1.name)\n",
    "print(p2.name)"
   ]
  },
  {
   "cell_type": "markdown",
   "metadata": {},
   "source": [
    "\n",
    "## 单例设计模式的应用场景\n",
    "\n",
    "- 音乐播放 对象\n",
    "- 回收站 对象\n",
    "- 打印机 对象"
   ]
  }
 ],
 "metadata": {
  "kernelspec": {
   "display_name": "Python 3",
   "language": "python",
   "name": "python3"
  },
  "language_info": {
   "codemirror_mode": {
    "name": "ipython",
    "version": 3
   },
   "file_extension": ".py",
   "mimetype": "text/x-python",
   "name": "python",
   "nbconvert_exporter": "python",
   "pygments_lexer": "ipython3",
   "version": "3.6.5"
  }
 },
 "nbformat": 4,
 "nbformat_minor": 2
}
