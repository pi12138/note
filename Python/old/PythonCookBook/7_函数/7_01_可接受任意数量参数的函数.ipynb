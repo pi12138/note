{
 "cells": [
  {
   "cell_type": "markdown",
   "metadata": {},
   "source": [
    "# 问题\n",
    "\n",
    "- 你想构造一个可接受任意数量参数的函数。\n",
    "\n",
    "## 解决方案\n",
    "\n",
    "- 为了能让一个函数接受任意数量的位置参数，可以使用一个* 参数。例如："
   ]
  },
  {
   "cell_type": "code",
   "execution_count": 2,
   "metadata": {},
   "outputs": [
    {
     "name": "stdout",
     "output_type": "stream",
     "text": [
      "1.5\n",
      "2.5\n"
     ]
    }
   ],
   "source": [
    "def avg(first, *rest):\n",
    "    return (first + sum(rest)) / (1 + len(rest))\n",
    "\n",
    "\n",
    "print(avg(1, 2))\n",
    "print(avg(1, 2, 3, 4))"
   ]
  },
  {
   "cell_type": "markdown",
   "metadata": {},
   "source": [
    "- 在这个例子中，rest 是由所有其他位置参数组成的元组。然后我们在代码中把它当成了一个序列来进行后续的计算。\n",
    "- 为了接受任意数量的关键字参数，使用一个以** 开头的参数。比如："
   ]
  },
  {
   "cell_type": "code",
   "execution_count": 7,
   "metadata": {},
   "outputs": [
    {
     "name": "stdout",
     "output_type": "stream",
     "text": [
      "<itemsize=\"large\"quantity=\"6\">Albatross</item>\n",
      "<p>&lt;spam&gt;</p>\n"
     ]
    }
   ],
   "source": [
    "import html\n",
    "\n",
    "def make_element(name, value, **attrs):\n",
    "    keyvals = ['{}=\"{}\"'.format(*item) for item in attrs.items()]\n",
    "    attr_str = ''.join(keyvals)\n",
    "    element = '<{name}{attrs}>{value}</{name}>'.format(name=name, attrs=attr_str, value=html.escape(value))\n",
    "    \n",
    "    return element\n",
    "\n",
    "print(make_element('item', 'Albatross', size='large', quantity=6))\n",
    "print(make_element('p', '<spam>'))"
   ]
  },
  {
   "cell_type": "markdown",
   "metadata": {},
   "source": [
    "- 在这里，attrs 是一个包含所有被传入进来的关键字参数的字典。如果你还希望某个函数能同时接受任意数量的位置参数和关键字参数，可以同时使用* 和**。比如："
   ]
  },
  {
   "cell_type": "code",
   "execution_count": 9,
   "metadata": {},
   "outputs": [
    {
     "name": "stdout",
     "output_type": "stream",
     "text": [
      "('111',)\n",
      "{'name': 'xxx'}\n"
     ]
    }
   ],
   "source": [
    "def anyargs(*args, **kwargs):\n",
    "    print(args)\n",
    "    print(kwargs)\n",
    "    \n",
    "anyargs('111', name='xxx')"
   ]
  },
  {
   "cell_type": "markdown",
   "metadata": {},
   "source": [
    "- 使用这个函数时，所有位置参数会被放到args 元组中，所有关键字参数会被放到字典kwargs 中。"
   ]
  },
  {
   "cell_type": "markdown",
   "metadata": {},
   "source": [
    "## 讨论\n",
    "\n",
    "- 一个* 参数只能出现在函数定义中最后一个位置参数后面，而**参数只能出现在最后一个参数。有一点要注意的是，在* 参数后面仍然可以定义其他参数。\n"
   ]
  },
  {
   "cell_type": "code",
   "execution_count": 15,
   "metadata": {},
   "outputs": [
    {
     "name": "stdout",
     "output_type": "stream",
     "text": [
      "1\n",
      "(2, 3, 4)\n",
      "5\n",
      "1\n",
      "(2,)\n",
      "3\n",
      "1\n",
      "(2, 3, 4)\n",
      "5\n",
      "{'name': 'xxxx'}\n",
      "1\n",
      "(2,)\n",
      "3\n",
      "{'age': 20}\n"
     ]
    }
   ],
   "source": [
    "def a(x, *args, y):\n",
    "    print(x)\n",
    "    print(args)\n",
    "    print(y)\n",
    "    \n",
    "def b(x, *args, y, **kwargs):\n",
    "    print(x)\n",
    "    print(args)\n",
    "    print(y)\n",
    "    print(kwargs)\n",
    "    \n",
    "\n",
    "a(1, 2, 3, 4, y=5)\n",
    "a(1, 2, y=3)\n",
    "\n",
    "b(1, 2, 3, 4, y=5, name='xxxx')\n",
    "b(1, 2, y=3, age=20)"
   ]
  },
  {
   "cell_type": "markdown",
   "metadata": {},
   "source": [
    "- 这种参数就是我们所说的强制关键字参数，在后面7.2 小节还会详细讲解到。"
   ]
  },
  {
   "cell_type": "code",
   "execution_count": null,
   "metadata": {},
   "outputs": [],
   "source": []
  }
 ],
 "metadata": {
  "kernelspec": {
   "display_name": "Python 3",
   "language": "python",
   "name": "python3"
  },
  "language_info": {
   "codemirror_mode": {
    "name": "ipython",
    "version": 3
   },
   "file_extension": ".py",
   "mimetype": "text/x-python",
   "name": "python",
   "nbconvert_exporter": "python",
   "pygments_lexer": "ipython3",
   "version": "3.7.3"
  }
 },
 "nbformat": 4,
 "nbformat_minor": 2
}
