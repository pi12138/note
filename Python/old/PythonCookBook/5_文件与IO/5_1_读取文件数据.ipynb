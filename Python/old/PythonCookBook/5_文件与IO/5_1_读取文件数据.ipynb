{
 "cells": [
  {
   "cell_type": "markdown",
   "metadata": {},
   "source": [
    "# 问题\n",
    "\n",
    "- 你需要读写各种不同编码的文本数据，比如ASCII，UTF-8 或UTF-16 编码等。\n",
    "\n",
    "## 解决方案\n",
    "\n",
    "- 使用带有 `rt` 模式的open() 函数读取文本文件。如下所示"
   ]
  },
  {
   "cell_type": "code",
   "execution_count": 6,
   "metadata": {},
   "outputs": [
    {
     "name": "stdout",
     "output_type": "stream",
     "text": [
      "这是一个文本文件\n",
      "\n"
     ]
    }
   ],
   "source": [
    "with open('text.txt', 'rt', encoding=\"utf-8\") as f:\n",
    "    data = f.read()\n",
    "    \n",
    "print(data)"
   ]
  },
  {
   "cell_type": "code",
   "execution_count": 8,
   "metadata": {},
   "outputs": [
    {
     "name": "stdout",
     "output_type": "stream",
     "text": [
      "这是一个文本文件\n",
      "\n"
     ]
    }
   ],
   "source": [
    "with open('text.txt', 'rt', encoding='utf-8') as f:\n",
    "    for line in f:\n",
    "        print(line)"
   ]
  },
  {
   "cell_type": "markdown",
   "metadata": {},
   "source": [
    "- 类似的，为了写入一个文本文件，使用带有wt 模式的open() 函数，如果之前文件内容存在则清除并覆盖掉。\n",
    "- 如果是在已存在文件中添加内容，使用模式为at 的open() 函数。\n",
    "- 文件的读写操作默认使用系统编码，可以通过调用sys.getdefaultencoding() 来得到。在大多数机器上面都是utf-8 编码。如果你已经知道你要读写的文本是其他编码方式，那么可以通过传递一个可选的encoding 参数给open() 函数。"
   ]
  },
  {
   "cell_type": "code",
   "execution_count": 10,
   "metadata": {},
   "outputs": [
    {
     "data": {
      "text/plain": [
       "'utf-8'"
      ]
     },
     "execution_count": 10,
     "metadata": {},
     "output_type": "execute_result"
    }
   ],
   "source": [
    "import sys\n",
    "\n",
    "sys.getdefaultencoding()"
   ]
  },
  {
   "cell_type": "markdown",
   "metadata": {},
   "source": [
    "## 讨论\n",
    "\n",
    "- 读写文本文件一般来讲是比较简单的。但是也几点是需要注意的。首先，在例子程序中的with 语句给被使用到的文件创建了一个上下文环境，但with 控制块结束时，文件会自动关闭。你也可以不使用with 语句，但是这时候你就必须记得手动关闭文件"
   ]
  },
  {
   "cell_type": "markdown",
   "metadata": {},
   "source": [
    "- 另外一个问题是关于换行符的识别问题，在Unix 和Windows 中是不一样的(分别是\\n 和\\r\\n )。默认情况下，Python 会以统一模式处理换行符。这种模式下，在读取文本的时候，Python 可以识别所有的普通换行符并将其转换为单个\\n 字符。类似的，在输出时会将换行符\\n 转换为系统默认的换行符。如果你不希望这种默认的处理方式，可以给open() 函数传入参数newline='' ，就像下面这样:"
   ]
  },
  {
   "cell_type": "code",
   "execution_count": 15,
   "metadata": {},
   "outputs": [
    {
     "name": "stdout",
     "output_type": "stream",
     "text": [
      "这是一个文本文件\n",
      "这是文本文件的第二行 \n",
      "这是一个文本文件\n",
      "这是文本文件的第二行 "
     ]
    }
   ],
   "source": [
    "with open('text.txt', 'rt', encoding=\"utf-8\") as f:\n",
    "    data = f.read()\n",
    "    \n",
    "print(data, end=\" \")\n",
    "print()\n",
    "\n",
    "with open('text.txt', 'rt', encoding=\"utf-8\", newline='') as f:\n",
    "    data = f.read()\n",
    "    \n",
    "print(data, end=\" \")"
   ]
  },
  {
   "cell_type": "markdown",
   "metadata": {},
   "source": [
    "- 最后一个问题就是文本文件中可能出现的编码错误。但你读取或者写入一个文本文件时，你可能会遇到一个编码或者解码错误。\n",
    "- 如果出现这个错误，通常表示你读取文本时指定的编码不正确。你最好仔细阅读说明并确认你的文件编码是正确的(比如使用UTF-8 而不是Latin-1 编码或其他)。如果编码错误还是存在的话，你可以给open() 函数传递一个可选的errors 参数来处理这些错误。下面是一些处理常见错误的方法："
   ]
  },
  {
   "cell_type": "code",
   "execution_count": 20,
   "metadata": {},
   "outputs": [
    {
     "name": "stdout",
     "output_type": "stream",
     "text": [
      "这是一个文本文件\n",
      "这是文本文件的第二行\n",
      "杩欐槸涓�涓�鏂囨湰鏂囦欢\n",
      "杩欐槸鏂囨湰鏂囦欢鐨勭��浜岃��\n",
      "杩欐槸涓涓鏂囨湰鏂囦欢\n",
      "杩欐槸鏂囨湰鏂囦欢鐨勭浜岃\n"
     ]
    }
   ],
   "source": [
    "f = open('text.txt', 'rt', encoding='utf-8')\n",
    "print(f.read())\n",
    "f.close()\n",
    "\n",
    "f = open('text.txt', 'rt', encoding='gbk', errors='replace')\n",
    "print(f.read())\n",
    "f.close()\n",
    "\n",
    "f = open('text.txt', 'rt', encoding='gbk', errors='ignore')\n",
    "print(f.read())\n",
    "f.close()"
   ]
  },
  {
   "cell_type": "markdown",
   "metadata": {},
   "source": [
    "- 如果你经常使用errors 参数来处理编码错误，可能会让你的生活变得很糟糕。对于文本处理的首要原则是确保你总是使用的是正确编码。当模棱两可的时候，就使用默认的设置(通常都是UTF-8)。"
   ]
  },
  {
   "cell_type": "markdown",
   "metadata": {},
   "source": []
  }
 ],
 "metadata": {
  "kernelspec": {
   "display_name": "Python 3",
   "language": "python",
   "name": "python3"
  },
  "language_info": {
   "codemirror_mode": {
    "name": "ipython",
    "version": 3
   },
   "file_extension": ".py",
   "mimetype": "text/x-python",
   "name": "python",
   "nbconvert_exporter": "python",
   "pygments_lexer": "ipython3",
   "version": "3.7.3"
  }
 },
 "nbformat": 4,
 "nbformat_minor": 2
}
