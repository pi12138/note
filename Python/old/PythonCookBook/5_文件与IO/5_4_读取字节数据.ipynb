{
 "cells": [
  {
   "cell_type": "markdown",
   "metadata": {},
   "source": [
    "# 问题\n",
    "\n",
    "- 你想读写二进制文件，比如图片，声音文件等等。\n",
    "\n",
    "## 解决方案\n",
    "\n",
    "- 使用模式为rb 或wb 的open() 函数来读取或写入二进制数据。比如："
   ]
  },
  {
   "cell_type": "code",
   "execution_count": 4,
   "metadata": {},
   "outputs": [
    {
     "name": "stdout",
     "output_type": "stream",
     "text": [
      "b'1111111111000000222222220aaa\\r\\nHello WorldHello World'\n",
      "b'1111111111000000222222220aaa\\r\\nHello WorldHello WorldHello World'\n"
     ]
    }
   ],
   "source": [
    "with open('bin.bin', 'rb') as f:\n",
    "    data = f.read()\n",
    "    \n",
    "print(data)\n",
    "\n",
    "with open('bin.bin', 'ab') as f:\n",
    "    f.write(b'Hello World')\n",
    "    \n",
    "with open('bin.bin', 'rb') as f:\n",
    "    data = f.read()\n",
    "    \n",
    "print(data)"
   ]
  },
  {
   "cell_type": "markdown",
   "metadata": {},
   "source": [
    "- 在读取二进制数据时，需要指明的是所有返回的数据都是字节字符串格式的，而不是文本字符串。类似的，在写入的时候，必须保证参数是以字节形式对外暴露数据的对象(比如字节字符串，字节数组对象等)。"
   ]
  },
  {
   "cell_type": "markdown",
   "metadata": {},
   "source": [
    "## 讨论\n",
    "\n",
    "- 在读取二进制数据的时候，字节字符串和文本字符串的语义差异可能会导致一个潜在的陷阱。特别需要注意的是，索引和迭代动作返回的是字节的值而不是字节字符串。比如："
   ]
  },
  {
   "cell_type": "code",
   "execution_count": 9,
   "metadata": {},
   "outputs": [
    {
     "name": "stdout",
     "output_type": "stream",
     "text": [
      "H\n",
      "72\n",
      "72 101 108 108 111 32 87 111 114 108 100 "
     ]
    }
   ],
   "source": [
    "str1 = 'Hello World'\n",
    "print(str1[0])\n",
    "\n",
    "str2 = b'Hello World'\n",
    "print(str2[0])\n",
    "\n",
    "for i in str2:\n",
    "    print(i, end=\" \")"
   ]
  },
  {
   "cell_type": "markdown",
   "metadata": {},
   "source": [
    "- 如果你想从二进制模式的文件中读取或写入文本数据，必须确保要进行解码和编码操作。"
   ]
  },
  {
   "cell_type": "markdown",
   "metadata": {},
   "source": [
    "- 二进制I/O 还有一个鲜为人知的特性就是数组和C 结构体类型能直接被写入，而不需要中间转换为自己对象。比如："
   ]
  },
  {
   "cell_type": "code",
   "execution_count": 11,
   "metadata": {},
   "outputs": [],
   "source": [
    "import array\n",
    "\n",
    "nums = array.array('i', [1, 2, 3, 4])\n",
    "\n",
    "with open('bin.bin', 'wb') as f:\n",
    "    f.write(nums)"
   ]
  },
  {
   "cell_type": "markdown",
   "metadata": {},
   "source": [
    "- 这个适用于任何实现了被称之为”缓冲接口”的对象，这种对象会直接暴露其底层的内存缓冲区给能处理它的操作。二进制数据的写入就是这类操作之一。\n",
    "- 很多对象还允许通过使用文件对象的readinto() 方法直接读取二进制数据到其底层的内存中去。比如："
   ]
  },
  {
   "cell_type": "code",
   "execution_count": 14,
   "metadata": {},
   "outputs": [
    {
     "name": "stdout",
     "output_type": "stream",
     "text": [
      "array('i', [1, 2, 3, 4, 0])\n",
      "b'\\x01\\x00\\x00\\x00\\x02\\x00\\x00\\x00\\x03\\x00\\x00\\x00\\x04\\x00\\x00\\x00'\n"
     ]
    }
   ],
   "source": [
    "import array\n",
    "\n",
    "a = array.array('i', [0, 0, 0, 0, 0])\n",
    "\n",
    "with open('bin.bin', 'rb') as f:\n",
    "    f.readinto(a)\n",
    "    \n",
    "print(a)\n",
    "\n",
    "with open('bin.bin', 'rb') as f:\n",
    "    data = f.read()\n",
    "    \n",
    "print(data)"
   ]
  }
 ],
 "metadata": {
  "kernelspec": {
   "display_name": "Python 3",
   "language": "python",
   "name": "python3"
  },
  "language_info": {
   "codemirror_mode": {
    "name": "ipython",
    "version": 3
   },
   "file_extension": ".py",
   "mimetype": "text/x-python",
   "name": "python",
   "nbconvert_exporter": "python",
   "pygments_lexer": "ipython3",
   "version": "3.7.3"
  }
 },
 "nbformat": 4,
 "nbformat_minor": 2
}
