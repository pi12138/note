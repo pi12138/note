{
 "cells": [
  {
   "cell_type": "markdown",
   "metadata": {},
   "source": [
    "# 问题\n",
    "\n",
    "- 你想测试一个文件或目录是否存在。\n",
    "\n",
    "## 解决方案\n",
    "\n",
    "- 使用os.path 模块来测试一个文件或目录是否存在。比如："
   ]
  },
  {
   "cell_type": "code",
   "execution_count": 3,
   "metadata": {},
   "outputs": [
    {
     "name": "stdout",
     "output_type": "stream",
     "text": [
      "True\n",
      "False\n"
     ]
    }
   ],
   "source": [
    "import os \n",
    "\n",
    "print(os.path.exists('text.txt'))\n",
    "print(os.path.exists(\"text\"))"
   ]
  },
  {
   "cell_type": "markdown",
   "metadata": {},
   "source": [
    "- 你还能进一步测试这个文件时什么类型的。在下面这些测试中，如果测试的文件不存在的时候，结果都会返回False："
   ]
  },
  {
   "cell_type": "code",
   "execution_count": 6,
   "metadata": {},
   "outputs": [
    {
     "name": "stdout",
     "output_type": "stream",
     "text": [
      "True\n",
      "True\n",
      "H:\\python\\PythonCookBook\\5_文件与IO\\text.txt\n"
     ]
    }
   ],
   "source": [
    "print(os.path.isfile('text.txt'))\n",
    "print(os.path.isdir('../5_文件与IO/'))\n",
    "print(os.path.realpath('text.txt'))"
   ]
  },
  {
   "cell_type": "markdown",
   "metadata": {},
   "source": [
    "- 如果你还想获取元数据(比如文件大小或者是修改日期)，也可以使用os.path 模块来解决："
   ]
  },
  {
   "cell_type": "code",
   "execution_count": 9,
   "metadata": {},
   "outputs": [
    {
     "name": "stdout",
     "output_type": "stream",
     "text": [
      "55\n",
      "1564726424.7212975\n",
      "Fri Aug  2 14:13:44 2019\n"
     ]
    }
   ],
   "source": [
    "print(os.path.getsize('text.txt'))\n",
    "print(os.path.getmtime('text.txt'))\n",
    "\n",
    "import time\n",
    "\n",
    "print(time.ctime(os.path.getmtime('text.txt')))"
   ]
  },
  {
   "cell_type": "markdown",
   "metadata": {},
   "source": [
    "## 讨论\n",
    "\n",
    "- 使用os.path 来进行文件测试是很简单的。在写这些脚本时，可能唯一需要注意的就是你需要考虑文件权限的问题，特别是在获取元数据时候"
   ]
  }
 ],
 "metadata": {
  "kernelspec": {
   "display_name": "Python 3",
   "language": "python",
   "name": "python3"
  },
  "language_info": {
   "codemirror_mode": {
    "name": "ipython",
    "version": 3
   },
   "file_extension": ".py",
   "mimetype": "text/x-python",
   "name": "python",
   "nbconvert_exporter": "python",
   "pygments_lexer": "ipython3",
   "version": "3.7.3"
  }
 },
 "nbformat": 4,
 "nbformat_minor": 2
}
