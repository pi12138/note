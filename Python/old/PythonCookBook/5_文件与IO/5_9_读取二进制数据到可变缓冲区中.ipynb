{
 "cells": [
  {
   "cell_type": "markdown",
   "metadata": {},
   "source": [
    "# 问题\n",
    "\n",
    "- 你想直接读取二进制数据到一个可变缓冲区中，而不需要做任何的中间复制操作。或者你想原地修改数据并将它写回到一个文件中去。\n",
    "\n",
    "## 解决方案\n",
    "\n",
    "- 为了读取数据到一个可变数组中，使用文件对象的readinto() 方法。比如："
   ]
  },
  {
   "cell_type": "code",
   "execution_count": 2,
   "metadata": {},
   "outputs": [],
   "source": [
    "import os\n",
    "\n",
    "def read_info_buffer(filename):\n",
    "    # 创建一个缓冲区\n",
    "    buf = bytearray(os.path.getsize(filename))\n",
    "    with open(filename, 'rb') as f:\n",
    "        f.readinto(buf)\n",
    "        \n",
    "    return buf"
   ]
  },
  {
   "cell_type": "code",
   "execution_count": 7,
   "metadata": {},
   "outputs": [
    {
     "name": "stdout",
     "output_type": "stream",
     "text": [
      "bytearray(b'\\x01\\x00\\x00\\x00\\x02\\x00\\x00\\x00\\x03\\x00\\x00\\x00\\x04\\x00\\x00\\x00')\n",
      "\u0001\u0000\u0000\u0000\u0002\u0000\u0000\u0000\u0003\u0000\u0000\u0000\u0004\u0000\u0000\u0000\n",
      "hello\u0000\u0000\u0000\u0003\u0000\u0000\u0000\u0004\u0000\u0000\u0000\n"
     ]
    }
   ],
   "source": [
    "buf = read_info_buffer('bin.bin')\n",
    "print(buf)\n",
    "print(buf.decode())\n",
    "\n",
    "buf[0:5] = b'hello'\n",
    "\n",
    "print(buf.decode())"
   ]
  },
  {
   "cell_type": "markdown",
   "metadata": {},
   "source": [
    "## 讨论\n",
    "\n",
    "- 文件对象的readinto() 方法能被用来为预先分配内存的数组填充数据，甚至包括由array 模块或numpy 库创建的数组。和普通read() 方法不同的是，readinto() 填充已存在的缓冲区而不是为新对象重新分配内存再返回它们。因此，你可以使用它来避免大量的内存分配操作。比如，如果你读取一个由相同大小的记录组成的二进制文件时，你可以像下面这样写："
   ]
  },
  {
   "cell_type": "code",
   "execution_count": 11,
   "metadata": {},
   "outputs": [
    {
     "name": "stdout",
     "output_type": "stream",
     "text": [
      "bytearray(b'\\xe8\\xbf\\x99\\xe6')\n",
      "bytearray(b'\\x98\\xaf\\xe4\\xb8')\n",
      "bytearray(b'\\x80\\xe4\\xb8\\xaa')\n",
      "bytearray(b'\\xe6\\x96\\x87\\xe6')\n",
      "bytearray(b'\\x9c\\xac\\xe6\\x96')\n",
      "bytearray(b'\\x87\\xe4\\xbb\\xb6')\n",
      "bytearray(b'\\n\\xe8\\xbf\\x99')\n",
      "bytearray(b'\\xe6\\x98\\xaf\\xe6')\n",
      "bytearray(b'\\x96\\x87\\xe6\\x9c')\n",
      "bytearray(b'\\xac\\xe6\\x96\\x87')\n",
      "bytearray(b'\\xe4\\xbb\\xb6\\xe7')\n",
      "bytearray(b'\\x9a\\x84\\xe7\\xac')\n",
      "bytearray(b'\\xac\\xe4\\xba\\x8c')\n"
     ]
    }
   ],
   "source": [
    "SIZE = 4\n",
    "\n",
    "buf = bytearray(SIZE)\n",
    "with open('text.txt', 'rb') as f:\n",
    "    while True:\n",
    "        n = f.readinto(buf)\n",
    "        if n < SIZE:\n",
    "            break\n",
    "        print(buf)"
   ]
  },
  {
   "cell_type": "markdown",
   "metadata": {},
   "source": [
    "- 另外有一个有趣特性就是memoryview ，它可以通过零复制的方式对已存在的缓冲区执行切片操作，甚至还能修改它的内容。比如："
   ]
  },
  {
   "cell_type": "code",
   "execution_count": null,
   "metadata": {},
   "outputs": [],
   "source": []
  }
 ],
 "metadata": {
  "kernelspec": {
   "display_name": "Python 3",
   "language": "python",
   "name": "python3"
  },
  "language_info": {
   "codemirror_mode": {
    "name": "ipython",
    "version": 3
   },
   "file_extension": ".py",
   "mimetype": "text/x-python",
   "name": "python",
   "nbconvert_exporter": "python",
   "pygments_lexer": "ipython3",
   "version": "3.7.3"
  }
 },
 "nbformat": 4,
 "nbformat_minor": 2
}
