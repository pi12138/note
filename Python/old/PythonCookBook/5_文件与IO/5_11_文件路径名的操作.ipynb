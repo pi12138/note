{
 "cells": [
  {
   "cell_type": "markdown",
   "metadata": {},
   "source": [
    "# 问题\n",
    "\n",
    "- 你需要使用路径名来获取文件名，目录名，绝对路径等等。\n",
    "\n",
    "## 解决方案\n",
    "\n",
    "- 使用os.path 模块中的函数来操作路径名。下面是一个交互式例子来演示一些关键的特性："
   ]
  },
  {
   "cell_type": "code",
   "execution_count": 6,
   "metadata": {},
   "outputs": [
    {
     "name": "stdout",
     "output_type": "stream",
     "text": [
      "data.csv\n",
      "/Users/beazley/Data\n",
      "tmp\\data\\data.csv\n",
      "C:\\Users\\Administrator/Data/data.csv\n",
      "('~/Data/data', '.csv')\n"
     ]
    }
   ],
   "source": [
    "import os\n",
    "\n",
    "path = '/Users/beazley/Data/data.csv'\n",
    "\n",
    "print(os.path.basename(path))\n",
    "print(os.path.dirname(path))\n",
    "print(os.path.join('tmp', 'data', os.path.basename(path)))\n",
    "\n",
    "path = '~/Data/data.csv'\n",
    "\n",
    "print(os.path.expanduser(path))\n",
    "\n",
    "print(os.path.splitext(path))"
   ]
  },
  {
   "cell_type": "markdown",
   "metadata": {},
   "source": [
    "## 讨论\n",
    "\n",
    "- 对于任何的文件名的操作，你都应该使用os.path 模块，而不是使用标准字符串操作来构造自己的代码。特别是为了可移植性考虑的时候更应如此，因为os.path 模块知道Unix 和Windows 系统之间的差异并且能够可靠地处理类似Data/data.csv 和 Data\\data.csv 这样的文件名。其次，你真的不应该浪费时间去重复造轮子。通常最好是直接使用已经为你准备好的功能。\n",
    "- 要注意的是os.path 还有更多的功能在这里并没有列举出来。可以查阅官方文档来获取更多与文件测试，符号链接等相关的函数说明。"
   ]
  }
 ],
 "metadata": {
  "kernelspec": {
   "display_name": "Python 3",
   "language": "python",
   "name": "python3"
  },
  "language_info": {
   "codemirror_mode": {
    "name": "ipython",
    "version": 3
   },
   "file_extension": ".py",
   "mimetype": "text/x-python",
   "name": "python",
   "nbconvert_exporter": "python",
   "pygments_lexer": "ipython3",
   "version": "3.7.3"
  }
 },
 "nbformat": 4,
 "nbformat_minor": 2
}
