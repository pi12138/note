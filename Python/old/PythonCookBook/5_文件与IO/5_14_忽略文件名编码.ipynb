{
 "cells": [
  {
   "cell_type": "markdown",
   "metadata": {},
   "source": [
    "# 问题\n",
    "\n",
    "- 你想使用原始文件名执行文件的I/O 操作，也就是说文件名并没有经过系统默认编码去解码或编码过。\n",
    "\n",
    "## 解决方案\n",
    "\n",
    "- 默认情况下，所有的文件名都会根据sys.getfilesystemencoding() 返回的文本编码来编码或解码。比如："
   ]
  },
  {
   "cell_type": "code",
   "execution_count": 2,
   "metadata": {},
   "outputs": [
    {
     "data": {
      "text/plain": [
       "'utf-8'"
      ]
     },
     "execution_count": 2,
     "metadata": {},
     "output_type": "execute_result"
    }
   ],
   "source": [
    "import sys\n",
    "\n",
    "sys.getfilesystemencoding()"
   ]
  },
  {
   "cell_type": "markdown",
   "metadata": {},
   "source": [
    "- 如果因为某种原因你想忽略这种编码，可以使用一个原始字节字符串来指定一个文件名即可。比如："
   ]
  },
  {
   "cell_type": "code",
   "execution_count": 4,
   "metadata": {},
   "outputs": [],
   "source": [
    "with open('jalape\\xf1o.txt', 'w') as f:\n",
    "    f.write('Spicy!')   "
   ]
  },
  {
   "cell_type": "code",
   "execution_count": 8,
   "metadata": {},
   "outputs": [
    {
     "name": "stdout",
     "output_type": "stream",
     "text": [
      "jalapeño.txt\n",
      "print.txt\n",
      "text.txt\n"
     ]
    }
   ],
   "source": [
    "import os \n",
    "\n",
    "file_txt = [file for file in os.listdir() if file.endswith('.txt')]\n",
    "\n",
    "for file in file_txt:\n",
    "    print(file)"
   ]
  },
  {
   "cell_type": "code",
   "execution_count": 13,
   "metadata": {},
   "outputs": [
    {
     "name": "stdout",
     "output_type": "stream",
     "text": [
      "b'.ipynb_checkpoints'\n",
      "b'5_11_\\xe6\\x96\\x87\\xe4\\xbb\\xb6\\xe8\\xb7\\xaf\\xe5\\xbe\\x84\\xe5\\x90\\x8d\\xe7\\x9a\\x84\\xe6\\x93\\x8d\\xe4\\xbd\\x9c.ipynb'\n",
      "b'5_12_\\xe6\\xb5\\x8b\\xe8\\xaf\\x95\\xe6\\x96\\x87\\xe4\\xbb\\xb6\\xe6\\x98\\xaf\\xe5\\x90\\xa6\\xe5\\xad\\x98\\xe5\\x9c\\xa8.ipynb'\n",
      "b'5_13_\\xe8\\x8e\\xb7\\xe5\\x8f\\x96\\xe6\\x96\\x87\\xe4\\xbb\\xb6\\xe5\\xa4\\xb9\\xe4\\xb8\\xad\\xe7\\x9a\\x84\\xe6\\x96\\x87\\xe4\\xbb\\xb6\\xe5\\x88\\x97\\xe8\\xa1\\xa8.ipynb'\n",
      "b'5_14_\\xe5\\xbf\\xbd\\xe7\\x95\\xa5\\xe6\\x96\\x87\\xe4\\xbb\\xb6\\xe5\\x90\\x8d\\xe7\\xbc\\x96\\xe7\\xa0\\x81.ipynb'\n",
      "b'5_1_\\xe8\\xaf\\xbb\\xe5\\x8f\\x96\\xe6\\x96\\x87\\xe4\\xbb\\xb6\\xe6\\x95\\xb0\\xe6\\x8d\\xae.ipynb'\n",
      "b'5_2_\\xe6\\x89\\x93\\xe5\\x8d\\xb0\\xe8\\xbe\\x93\\xe5\\x87\\xba\\xe7\\xbb\\x93\\xe6\\x9e\\x9c\\xe5\\x88\\xb0\\xe6\\x96\\x87\\xe4\\xbb\\xb6.ipynb'\n",
      "b'5_3_\\xe4\\xbd\\xbf\\xe7\\x94\\xa8\\xe5\\x85\\xb6\\xe4\\xbb\\x96\\xe5\\x88\\x86\\xe9\\x9a\\x94\\xe7\\xac\\xa6\\xe6\\x88\\x96\\xe8\\xa1\\x8c\\xe7\\xbb\\x88\\xe6\\xad\\xa2\\xe7\\xac\\xa6\\xe6\\x89\\x93\\xe5\\x8d\\xb0.ipynb'\n",
      "b'5_4_\\xe8\\xaf\\xbb\\xe5\\x8f\\x96\\xe5\\xad\\x97\\xe8\\x8a\\x82\\xe6\\x95\\xb0\\xe6\\x8d\\xae.ipynb'\n",
      "b'5_5_\\xe6\\x96\\x87\\xe4\\xbb\\xb6\\xe4\\xb8\\x8d\\xe5\\xad\\x98\\xe5\\x9c\\xa8\\xe6\\x89\\x8d\\xe8\\x83\\xbd\\xe5\\x86\\x99\\xe5\\x85\\xa5.ipynb'\n",
      "b'5_6_\\xe5\\xad\\x97\\xe7\\xac\\xa6\\xe4\\xb8\\xb2\\xe7\\x9a\\x84IO\\xe6\\x93\\x8d\\xe4\\xbd\\x9c.ipynb'\n",
      "b'5_7_\\xe8\\xaf\\xbb\\xe5\\x8f\\x96\\xe5\\x8e\\x8b\\xe7\\xbc\\xa9\\xe6\\x96\\x87\\xe4\\xbb\\xb6.ipynb'\n",
      "b'5_8_\\xe5\\x9b\\xba\\xe5\\xae\\x9a\\xe5\\xa4\\xa7\\xe5\\xb0\\x8f\\xe8\\xae\\xb0\\xe5\\xbd\\x95\\xe7\\x9a\\x84\\xe6\\x96\\x87\\xe4\\xbb\\xb6\\xe8\\xbf\\xad\\xe4\\xbb\\xa3.ipynb'\n",
      "b'5_9_\\xe8\\xaf\\xbb\\xe5\\x8f\\x96\\xe4\\xba\\x8c\\xe8\\xbf\\x9b\\xe5\\x88\\xb6\\xe6\\x95\\xb0\\xe6\\x8d\\xae\\xe5\\x88\\xb0\\xe5\\x8f\\xaf\\xe5\\x8f\\x98\\xe7\\xbc\\x93\\xe5\\x86\\xb2\\xe5\\x8c\\xba\\xe4\\xb8\\xad.ipynb'\n",
      "b'bin.bin'\n",
      "b'jalape\\xc3\\xb1o.txt'\n",
      "b'print.txt'\n",
      "b'text.bz2'\n",
      "b'text.gz'\n",
      "b'text.rar'\n",
      "b'text.txt'\n"
     ]
    }
   ],
   "source": [
    "for file in os.listdir(b'.'):\n",
    "    print(file)"
   ]
  },
  {
   "cell_type": "code",
   "execution_count": 15,
   "metadata": {},
   "outputs": [
    {
     "name": "stdout",
     "output_type": "stream",
     "text": [
      "Spicy!\n"
     ]
    }
   ],
   "source": [
    "with open(b'jalape\\xc3\\xb1o.txt', 'r') as f:\n",
    "    print(f.read())"
   ]
  },
  {
   "cell_type": "markdown",
   "metadata": {},
   "source": [
    "- 正如你所见，在最后两个操作中，当你给文件相关函数如open() 和os.listdir()传递字节字符串时，文件名的处理方式会稍有不同。"
   ]
  },
  {
   "cell_type": "markdown",
   "metadata": {},
   "source": [
    "## 讨论\n",
    "\n",
    "- 通常来讲，你不需要担心文件名的编码和解码，普通的文件名操作应该就没问题了。但是，有些操作系统允许用户通过偶然或恶意方式去创建名字不符合默认编码的文件。这些文件名可能会神秘地中断那些需要处理大量文件的Python 程序。\n",
    "- 读取目录并通过原始未解码方式处理文件名可以有效的避免这样的问题，尽管这样会带来一定的编程难度。\n",
    "- 关于打印不可解码的文件名，请参考5.15 小节。"
   ]
  }
 ],
 "metadata": {
  "kernelspec": {
   "display_name": "Python 3",
   "language": "python",
   "name": "python3"
  },
  "language_info": {
   "codemirror_mode": {
    "name": "ipython",
    "version": 3
   },
   "file_extension": ".py",
   "mimetype": "text/x-python",
   "name": "python",
   "nbconvert_exporter": "python",
   "pygments_lexer": "ipython3",
   "version": "3.7.3"
  }
 },
 "nbformat": 4,
 "nbformat_minor": 2
}
