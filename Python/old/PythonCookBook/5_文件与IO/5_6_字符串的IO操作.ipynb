{
 "cells": [
  {
   "cell_type": "markdown",
   "metadata": {},
   "source": [
    "# 问题\n",
    "\n",
    "- 你想使用操作类文件对象的程序来操作文本或二进制字符串。\n",
    "\n",
    "## 解决方案\n",
    "\n",
    "- 使用io.StringIO() 和io.BytesIO() 类来创建类文件对象操作字符串数据。比如："
   ]
  },
  {
   "cell_type": "code",
   "execution_count": 14,
   "metadata": {},
   "outputs": [
    {
     "name": "stdout",
     "output_type": "stream",
     "text": [
      "Hello World!\n",
      "This is a test\n",
      "\n",
      "\n",
      "Hell\n",
      "o World!\n"
     ]
    }
   ],
   "source": [
    "import io\n",
    "\n",
    "s = io.StringIO()\n",
    "s.write(\"Hello World!\\n\")\n",
    "print('This is a test\\n', file=s)\n",
    "\n",
    "print(s.getvalue())\n",
    "\n",
    "s = io.StringIO(\"Hello World!\")\n",
    "print(s.read(4))\n",
    "print(s.read())"
   ]
  },
  {
   "cell_type": "markdown",
   "metadata": {},
   "source": [
    "- io.StringIO 只能用于文本。如果你要操作二进制数据，要使用io.BytesIO 类来代替。比如："
   ]
  },
  {
   "cell_type": "code",
   "execution_count": 16,
   "metadata": {},
   "outputs": [
    {
     "data": {
      "text/plain": [
       "b'binary data!'"
      ]
     },
     "execution_count": 16,
     "metadata": {},
     "output_type": "execute_result"
    }
   ],
   "source": [
    "import io\n",
    "\n",
    "s = io.BytesIO()\n",
    "s.write(b'binary data!')\n",
    "s.getvalue()"
   ]
  },
  {
   "cell_type": "markdown",
   "metadata": {},
   "source": [
    "## 讨论\n",
    "\n",
    "- 当你想模拟一个普通的文件的时候StringIO 和BytesIO 类是很有用的。比如，在单元测试中，你可以使用StringIO 来创建一个包含测试数据的类文件对象，这个对象可以被传给某个参数为普通文件对象的函数。\n",
    "- 需要注意的是，StringIO 和BytesIO 实例并没有正确的整数类型的文件描述符。因此，它们不能在那些需要使用真实的系统级文件如文件，管道或者是套接字的程序中使用。"
   ]
  }
 ],
 "metadata": {
  "kernelspec": {
   "display_name": "Python 3",
   "language": "python",
   "name": "python3"
  },
  "language_info": {
   "codemirror_mode": {
    "name": "ipython",
    "version": 3
   },
   "file_extension": ".py",
   "mimetype": "text/x-python",
   "name": "python",
   "nbconvert_exporter": "python",
   "pygments_lexer": "ipython3",
   "version": "3.7.3"
  }
 },
 "nbformat": 4,
 "nbformat_minor": 2
}
