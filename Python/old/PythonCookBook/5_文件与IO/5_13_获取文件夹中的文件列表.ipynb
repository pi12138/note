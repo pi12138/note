{
 "cells": [
  {
   "cell_type": "markdown",
   "metadata": {},
   "source": [
    "# 问题\n",
    "\n",
    "- 你想获取文件系统中某个目录下的所有文件列表。\n",
    "\n",
    "## 解决方案\n",
    "\n",
    "- 使用os.listdir() 函数来获取某个目录中的文件列表："
   ]
  },
  {
   "cell_type": "code",
   "execution_count": 4,
   "metadata": {},
   "outputs": [
    {
     "name": "stdout",
     "output_type": "stream",
     "text": [
      "['.ipynb_checkpoints', '5_11_文件路径名的操作.ipynb', '5_12_测试文件是否存在.ipynb', '5_13_获取文件夹中的文件列表.ipynb', '5_1_读取文件数据.ipynb', '5_2_打印输出结果到文件.ipynb', '5_3_使用其他分隔符或行终止符打印.ipynb', '5_4_读取字节数据.ipynb', '5_5_文件不存在才能写入.ipynb', '5_6_字符串的IO操作.ipynb', '5_7_读取压缩文件.ipynb', '5_8_固定大小记录的文件迭代.ipynb', '5_9_读取二进制数据到可变缓冲区中.ipynb', 'bin.bin', 'print.txt', 'text.bz2', 'text.gz', 'text.rar', 'text.txt']\n",
      "5_11_文件路径名的操作.ipynb\n",
      "5_12_测试文件是否存在.ipynb\n",
      "5_13_获取文件夹中的文件列表.ipynb\n",
      "5_1_读取文件数据.ipynb\n",
      "5_2_打印输出结果到文件.ipynb\n",
      "5_3_使用其他分隔符或行终止符打印.ipynb\n",
      "5_4_读取字节数据.ipynb\n",
      "5_5_文件不存在才能写入.ipynb\n",
      "5_6_字符串的IO操作.ipynb\n",
      "5_7_读取压缩文件.ipynb\n",
      "5_8_固定大小记录的文件迭代.ipynb\n",
      "5_9_读取二进制数据到可变缓冲区中.ipynb\n"
     ]
    }
   ],
   "source": [
    "import os\n",
    "\n",
    "files = os.listdir('.')\n",
    "\n",
    "print(files)\n",
    "\n",
    "files_ipynb = [file for file in files if file.endswith('.ipynb')]\n",
    "\n",
    "for i in files_ipynb:\n",
    "    print(i)"
   ]
  },
  {
   "cell_type": "markdown",
   "metadata": {},
   "source": [
    "- 结果会返回目录中所有文件列表，包括所有文件，子目录，符号链接等等。如果你需要通过某种方式过滤数据，可以考虑结合os.path 库中的一些函数来使用列表推导。比如："
   ]
  },
  {
   "cell_type": "code",
   "execution_count": 7,
   "metadata": {},
   "outputs": [
    {
     "name": "stdout",
     "output_type": "stream",
     "text": [
      "5_11_文件路径名的操作.ipynb\n",
      "5_12_测试文件是否存在.ipynb\n",
      "5_13_获取文件夹中的文件列表.ipynb\n",
      "5_1_读取文件数据.ipynb\n",
      "5_2_打印输出结果到文件.ipynb\n",
      "5_3_使用其他分隔符或行终止符打印.ipynb\n",
      "5_4_读取字节数据.ipynb\n",
      "5_5_文件不存在才能写入.ipynb\n",
      "5_6_字符串的IO操作.ipynb\n",
      "5_7_读取压缩文件.ipynb\n",
      "5_8_固定大小记录的文件迭代.ipynb\n",
      "5_9_读取二进制数据到可变缓冲区中.ipynb\n",
      "bin.bin\n",
      "print.txt\n",
      "text.bz2\n",
      "text.gz\n",
      "text.rar\n",
      "text.txt\n",
      ".ipynb_checkpoints\n"
     ]
    }
   ],
   "source": [
    "import os.path\n",
    "\n",
    "new_files = [file for file in files if os.path.isfile(os.path.join('.', file))]\n",
    "new_dirs = [dir for dir in files if os.path.isdir(os.path.join('.', dir))]\n",
    "\n",
    "for i in new_files:\n",
    "    print(i)\n",
    "    \n",
    "for i in new_dirs:\n",
    "    print(i)"
   ]
  },
  {
   "cell_type": "markdown",
   "metadata": {},
   "source": [
    "- 字符串的startswith() 和endswith() 方法对于过滤一个目录的内容也是很有用的。比如："
   ]
  },
  {
   "cell_type": "markdown",
   "metadata": {},
   "source": [
    "- 对于文件名的匹配，你可能会考虑使用glob 或fnmatch 模块。比如："
   ]
  },
  {
   "cell_type": "code",
   "execution_count": 10,
   "metadata": {},
   "outputs": [
    {
     "name": "stdout",
     "output_type": "stream",
     "text": [
      "['.\\\\5_11_文件路径名的操作.ipynb', '.\\\\5_12_测试文件是否存在.ipynb', '.\\\\5_13_获取文件夹中的文件列表.ipynb', '.\\\\5_1_读取文件数据.ipynb', '.\\\\5_2_打印输出结果到文件.ipynb', '.\\\\5_3_使用其他分隔符或行终止符打印.ipynb', '.\\\\5_4_读取字节数据.ipynb', '.\\\\5_5_文件不存在才能写入.ipynb', '.\\\\5_6_字符串的IO操作.ipynb', '.\\\\5_7_读取压缩文件.ipynb', '.\\\\5_8_固定大小记录的文件迭代.ipynb', '.\\\\5_9_读取二进制数据到可变缓冲区中.ipynb']\n"
     ]
    }
   ],
   "source": [
    "import glob \n",
    "\n",
    "pyfiles = glob.glob(\"./*.ipynb\")\n",
    "\n",
    "print(pyfiles)"
   ]
  },
  {
   "cell_type": "code",
   "execution_count": 14,
   "metadata": {},
   "outputs": [
    {
     "name": "stdout",
     "output_type": "stream",
     "text": [
      "['5_11_文件路径名的操作.ipynb', '5_12_测试文件是否存在.ipynb', '5_13_获取文件夹中的文件列表.ipynb', '5_1_读取文件数据.ipynb', '5_2_打印输出结果到文件.ipynb', '5_3_使用其他分隔符或行终止符打印.ipynb', '5_4_读取字节数据.ipynb', '5_5_文件不存在才能写入.ipynb', '5_6_字符串的IO操作.ipynb', '5_7_读取压缩文件.ipynb', '5_8_固定大小记录的文件迭代.ipynb', '5_9_读取二进制数据到可变缓冲区中.ipynb']\n"
     ]
    }
   ],
   "source": [
    "from fnmatch import fnmatch\n",
    "\n",
    "pyfiles = [name for name in os.listdir('.') if fnmatch(name, '*.ipynb')]\n",
    "\n",
    "print(pyfiles)"
   ]
  },
  {
   "cell_type": "markdown",
   "metadata": {},
   "source": [
    "## 讨论\n",
    "\n",
    "- 获取目录中的列表是很容易的，但是其返回结果只是目录中实体名列表而已。如果你还想获取其他的元信息，比如文件大小，修改时间等等，你或许还需要使用到os.path 模块中的函数或着os.stat() 函数来收集数据。比如："
   ]
  },
  {
   "cell_type": "code",
   "execution_count": 78,
   "metadata": {},
   "outputs": [
    {
     "name": "stdout",
     "output_type": "stream",
     "text": [
      "5_11_文件路径名的操作.ipynb                \t2309      \t1564738800.757235             \n",
      "5_12_测试文件是否存在.ipynb                \t2720      \t1564739616.090775             \n",
      "5_13_获取文件夹中的文件列表.ipynb             \t10066     \t1564970988.608899             \n",
      "5_1_读取文件数据.ipynb                   \t6065      \t1564726844.401713             \n",
      "5_2_打印输出结果到文件.ipynb                \t1238      \t1564727147.006051             \n",
      "5_3_使用其他分隔符或行终止符打印.ipynb           \t4562      \t1564727765.395956             \n",
      "5_4_读取字节数据.ipynb                   \t4386      \t1564731817.488847             \n",
      "5_5_文件不存在才能写入.ipynb                \t3688      \t1564732435.875894             \n",
      "5_6_字符串的IO操作.ipynb                 \t2597      \t1564734684.175950             \n",
      "5_7_读取压缩文件.ipynb                   \t6140      \t1564735578.872045             \n",
      "5_8_固定大小记录的文件迭代.ipynb              \t2594      \t1564737166.810447             \n",
      "5_9_读取二进制数据到可变缓冲区中.ipynb           \t3933      \t1564738379.257534             \n",
      "**************************************************\n",
      "5_11_文件路径名的操作.ipynb                \t2309      \t1564738800.757235             \n",
      "5_12_测试文件是否存在.ipynb                \t2720      \t1564739616.090775             \n",
      "5_13_获取文件夹中的文件列表.ipynb             \t10066     \t1564970988.608899             \n",
      "5_1_读取文件数据.ipynb                   \t6065      \t1564726844.401713             \n",
      "5_2_打印输出结果到文件.ipynb                \t1238      \t1564727147.006051             \n",
      "5_3_使用其他分隔符或行终止符打印.ipynb           \t4562      \t1564727765.395956             \n",
      "5_4_读取字节数据.ipynb                   \t4386      \t1564731817.488847             \n",
      "5_5_文件不存在才能写入.ipynb                \t3688      \t1564732435.875894             \n",
      "5_6_字符串的IO操作.ipynb                 \t2597      \t1564734684.175950             \n",
      "5_7_读取压缩文件.ipynb                   \t6140      \t1564735578.872045             \n",
      "5_8_固定大小记录的文件迭代.ipynb              \t2594      \t1564737166.810447             \n",
      "5_9_读取二进制数据到可变缓冲区中.ipynb           \t3933      \t1564738379.257534             \n"
     ]
    }
   ],
   "source": [
    "import os\n",
    "import glob\n",
    "\n",
    "pyfiles = glob.glob('*.ipynb')\n",
    "\n",
    "file_info_list = [(file, os.path.getsize(file), os.path.getmtime(file)) for file in pyfiles]\n",
    "\n",
    "for filename, filesize, filemtime in file_info_list:\n",
    "    print('{:35s}\\t{:<10s}\\t{:<30f}'.format(filename, str(filesize), filemtime))\n",
    "    \n",
    "print(\"*\"*50)\n",
    "for file_info in file_info_list:\n",
    "    print(\"{:<35s}\\t{:<10d}\\t{:<30f}\".format(*file_info))"
   ]
  },
  {
   "cell_type": "code",
   "execution_count": 83,
   "metadata": {},
   "outputs": [
    {
     "name": "stdout",
     "output_type": "stream",
     "text": [
      "5_11_文件路径名的操作.ipynb                \t2309\t1564738800.7572353\n",
      "5_12_测试文件是否存在.ipynb                \t2720\t1564739616.0907748\n",
      "5_13_获取文件夹中的文件列表.ipynb             \t10166\t1564971108.6095908\n",
      "5_1_读取文件数据.ipynb                   \t6065\t1564726844.401713\n",
      "5_2_打印输出结果到文件.ipynb                \t1238\t1564727147.006051\n",
      "5_3_使用其他分隔符或行终止符打印.ipynb           \t4562\t1564727765.3959563\n",
      "5_4_读取字节数据.ipynb                   \t4386\t1564731817.488847\n",
      "5_5_文件不存在才能写入.ipynb                \t3688\t1564732435.875894\n",
      "5_6_字符串的IO操作.ipynb                 \t2597\t1564734684.1759496\n",
      "5_7_读取压缩文件.ipynb                   \t6140\t1564735578.872045\n",
      "5_8_固定大小记录的文件迭代.ipynb              \t2594\t1564737166.8104472\n",
      "5_9_读取二进制数据到可变缓冲区中.ipynb           \t3933\t1564738379.2575336\n"
     ]
    }
   ],
   "source": [
    "file_metadata = [(name, os.stat(name)) for name in pyfiles]\n",
    "\n",
    "for name, meta in file_metadata:\n",
    "    print(\"{:35s}\\t{}\\t{}\".format(name, meta.st_size, meta.st_mtime))"
   ]
  },
  {
   "cell_type": "markdown",
   "metadata": {},
   "source": [
    "- 最后还有一点要注意的就是，有时候在处理文件名编码问题时候可能会出现一些问题。通常来讲，函数os.listdir() 返回的实体列表会根据系统默认的文件名编码来解码。但是有时候也会碰到一些不能正常解码的文件名。关于文件名的处理问题，在5.14 和5.15 小节有更详细的讲解。"
   ]
  }
 ],
 "metadata": {
  "kernelspec": {
   "display_name": "Python 3",
   "language": "python",
   "name": "python3"
  },
  "language_info": {
   "codemirror_mode": {
    "name": "ipython",
    "version": 3
   },
   "file_extension": ".py",
   "mimetype": "text/x-python",
   "name": "python",
   "nbconvert_exporter": "python",
   "pygments_lexer": "ipython3",
   "version": "3.7.3"
  }
 },
 "nbformat": 4,
 "nbformat_minor": 2
}
