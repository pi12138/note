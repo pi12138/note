{
 "cells": [
  {
   "cell_type": "markdown",
   "metadata": {},
   "source": [
    "# 问题\n",
    "\n",
    "- 你想通过format() 函数和字符串方法使得一个对象能支持自定义的格式化。\n",
    "\n",
    "## 解决方案\n",
    "\n",
    "- 为了自定义字符串的格式化，我们需要在类上面定义`__format__()` 方法。例如："
   ]
  },
  {
   "cell_type": "code",
   "execution_count": 2,
   "metadata": {},
   "outputs": [],
   "source": [
    "_formats = {\n",
    "    'ymd': '{d.year}-{d.month}-{d.day}',\n",
    "    'mdy': '{d.month}-{d.day}-{d.year}',\n",
    "    'dmy': '{d.day}/{d.month}/{d.year}'\n",
    "}\n",
    "\n",
    "class Date:\n",
    "    def __init__(self, year, month, day):\n",
    "        self.year = year\n",
    "        self.month = month\n",
    "        self.day = day\n",
    "    \n",
    "    def __format__(self, code):\n",
    "        if code == '':\n",
    "            code = 'ymd'\n",
    "            \n",
    "        fmt = _formats[code]\n",
    "        return fmt.format(d=self)"
   ]
  },
  {
   "cell_type": "code",
   "execution_count": 5,
   "metadata": {},
   "outputs": [
    {
     "name": "stdout",
     "output_type": "stream",
     "text": [
      "2019-8-7\n",
      "8-7-2019\n",
      "7/8/2019\n"
     ]
    }
   ],
   "source": [
    "d = Date(2019, 8, 7)\n",
    "\n",
    "print(format(d))\n",
    "print(format(d, 'mdy'))\n",
    "print(format(d, 'dmy'))"
   ]
  },
  {
   "cell_type": "markdown",
   "metadata": {},
   "source": [
    "## 讨论\n",
    "\n",
    "- `__format__()` 方法给Python 的字符串格式化功能提供了一个钩子。这里需要着\n",
    "重强调的是格式化代码的解析工作完全由类自己决定。因此，格式化代码可以是任何\n",
    "值。例如，参考下面来自datetime 模块中的代码："
   ]
  },
  {
   "cell_type": "code",
   "execution_count": 9,
   "metadata": {},
   "outputs": [
    {
     "name": "stdout",
     "output_type": "stream",
     "text": [
      "2019-08-07\n",
      "Wednesday, August, 07, 2019\n",
      "The end is 07 Aug 2019.\n"
     ]
    }
   ],
   "source": [
    "from datetime import date\n",
    "\n",
    "d = date(2019, 8, 7)\n",
    "\n",
    "print(format(d))\n",
    "print(format(d, '%A, %B, %d, %Y'))\n",
    "print(\"The end is {:%d %b %Y}.\".format(d))"
   ]
  }
 ],
 "metadata": {
  "kernelspec": {
   "display_name": "Python 3",
   "language": "python",
   "name": "python3"
  },
  "language_info": {
   "codemirror_mode": {
    "name": "ipython",
    "version": 3
   },
   "file_extension": ".py",
   "mimetype": "text/x-python",
   "name": "python",
   "nbconvert_exporter": "python",
   "pygments_lexer": "ipython3",
   "version": "3.7.3"
  }
 },
 "nbformat": 4,
 "nbformat_minor": 2
}
