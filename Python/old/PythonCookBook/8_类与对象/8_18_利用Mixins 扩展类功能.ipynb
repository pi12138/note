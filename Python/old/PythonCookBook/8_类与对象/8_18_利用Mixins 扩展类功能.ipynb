{
 "cells": [
  {
   "cell_type": "markdown",
   "metadata": {},
   "source": [
    "# 问题\n",
    "\n",
    "- 你有很多有用的方法，想使用它们来扩展其他类的功能。但是这些类并没有任何继\n",
    "承的关系。因此你不能简单的将这些方法放入一个基类，然后被其他类继承。\n",
    "## 解决方案\n",
    "\n",
    "- 通常当你想自定义类的时候会碰上这些问题。可能是某个库提供了一些基础类，你\n",
    "可以利用它们来构造你自己的类。\n",
    "-假设你想扩展映射对象，给它们添加日志、唯一性设置、类型检查等等功能。下面\n",
    "是一些混入类："
   ]
  },
  {
   "cell_type": "code",
   "execution_count": 1,
   "metadata": {},
   "outputs": [],
   "source": [
    "class LoggedMappingMixin:\n",
    "    __slots__ = ()\n",
    "    \n",
    "    def __getitem__(self, key):\n",
    "        print(\"Gettin: {}\".format(str(key)))\n",
    "        return super().__getitem__(key)\n",
    "        \n",
    "    def __setitem__(self, key, value):\n",
    "        print(\"Setting {} = {!r}\".format(key, value))\n",
    "        return super().__setitem__(key, value)\n",
    "    \n",
    "    def __delitem__(self, key):\n",
    "        print(\"Deleting: {}\".format(str(key)))\n",
    "        return super().__delitem__(key)\n",
    "    \n",
    "\n",
    "class SetOnceMappingMixin:\n",
    "    __slots__ = ()\n",
    "    \n",
    "    def __setitem__(self, key, value):\n",
    "        if key in self:\n",
    "            raise KeyError(str(key)+\"already set\")\n",
    "        return super().__setitem__(key, value)\n",
    "    \n",
    "\n",
    "class StringKeyMappingMixin:\n",
    "    __slots__ = ()\n",
    "    \n",
    "    def __setitem__(self, key, value):\n",
    "        if not isinstance(key, str):\n",
    "            raise TypeError(\"keys must be strings\")\n",
    "        return super().__setitem__(key, value)"
   ]
  },
  {
   "cell_type": "markdown",
   "metadata": {},
   "source": [
    "- 这些类单独使用起来没有任何意义，事实上如果你去实例化任何一个类，除了产生\n",
    "异常外没任何作用。它们是用来通过多继承来和其他映射对象混入使用的。例如："
   ]
  },
  {
   "cell_type": "code",
   "execution_count": 2,
   "metadata": {},
   "outputs": [
    {
     "name": "stdout",
     "output_type": "stream",
     "text": [
      "Setting x = 23\n",
      "Gettin: x\n",
      "23\n",
      "Deleting: x\n"
     ]
    }
   ],
   "source": [
    "class LoggedDict(LoggedMappingMixin, dict):\n",
    "    pass\n",
    "\n",
    "d = LoggedDict()\n",
    "d['x'] = 23\n",
    "print(d['x'])\n",
    "del d['x']"
   ]
  },
  {
   "cell_type": "code",
   "execution_count": 6,
   "metadata": {},
   "outputs": [
    {
     "name": "stdout",
     "output_type": "stream",
     "text": [
      "[2, 3]\n"
     ]
    },
    {
     "ename": "KeyError",
     "evalue": "'xalready set'",
     "output_type": "error",
     "traceback": [
      "\u001b[1;31m---------------------------------------------------------------------------\u001b[0m",
      "\u001b[1;31mKeyError\u001b[0m                                  Traceback (most recent call last)",
      "\u001b[1;32m<ipython-input-6-1f1c1ab18b6e>\u001b[0m in \u001b[0;36m<module>\u001b[1;34m\u001b[0m\n\u001b[0;32m      8\u001b[0m \u001b[0md\u001b[0m\u001b[1;33m[\u001b[0m\u001b[1;34m'x'\u001b[0m\u001b[1;33m]\u001b[0m\u001b[1;33m.\u001b[0m\u001b[0mappend\u001b[0m\u001b[1;33m(\u001b[0m\u001b[1;36m3\u001b[0m\u001b[1;33m)\u001b[0m\u001b[1;33m\u001b[0m\u001b[1;33m\u001b[0m\u001b[0m\n\u001b[0;32m      9\u001b[0m \u001b[0mprint\u001b[0m\u001b[1;33m(\u001b[0m\u001b[0md\u001b[0m\u001b[1;33m[\u001b[0m\u001b[1;34m'x'\u001b[0m\u001b[1;33m]\u001b[0m\u001b[1;33m)\u001b[0m\u001b[1;33m\u001b[0m\u001b[1;33m\u001b[0m\u001b[0m\n\u001b[1;32m---> 10\u001b[1;33m \u001b[0md\u001b[0m\u001b[1;33m[\u001b[0m\u001b[1;34m'x'\u001b[0m\u001b[1;33m]\u001b[0m \u001b[1;33m=\u001b[0m \u001b[1;36m23\u001b[0m\u001b[1;33m\u001b[0m\u001b[1;33m\u001b[0m\u001b[0m\n\u001b[0m",
      "\u001b[1;32m<ipython-input-1-b6104e3f05db>\u001b[0m in \u001b[0;36m__setitem__\u001b[1;34m(self, key, value)\u001b[0m\n\u001b[0;32m     20\u001b[0m     \u001b[1;32mdef\u001b[0m \u001b[0m__setitem__\u001b[0m\u001b[1;33m(\u001b[0m\u001b[0mself\u001b[0m\u001b[1;33m,\u001b[0m \u001b[0mkey\u001b[0m\u001b[1;33m,\u001b[0m \u001b[0mvalue\u001b[0m\u001b[1;33m)\u001b[0m\u001b[1;33m:\u001b[0m\u001b[1;33m\u001b[0m\u001b[1;33m\u001b[0m\u001b[0m\n\u001b[0;32m     21\u001b[0m         \u001b[1;32mif\u001b[0m \u001b[0mkey\u001b[0m \u001b[1;32min\u001b[0m \u001b[0mself\u001b[0m\u001b[1;33m:\u001b[0m\u001b[1;33m\u001b[0m\u001b[1;33m\u001b[0m\u001b[0m\n\u001b[1;32m---> 22\u001b[1;33m             \u001b[1;32mraise\u001b[0m \u001b[0mKeyError\u001b[0m\u001b[1;33m(\u001b[0m\u001b[0mstr\u001b[0m\u001b[1;33m(\u001b[0m\u001b[0mkey\u001b[0m\u001b[1;33m)\u001b[0m\u001b[1;33m+\u001b[0m\u001b[1;34m\"already set\"\u001b[0m\u001b[1;33m)\u001b[0m\u001b[1;33m\u001b[0m\u001b[1;33m\u001b[0m\u001b[0m\n\u001b[0m\u001b[0;32m     23\u001b[0m         \u001b[1;32mreturn\u001b[0m \u001b[0msuper\u001b[0m\u001b[1;33m(\u001b[0m\u001b[1;33m)\u001b[0m\u001b[1;33m.\u001b[0m\u001b[0m__setitem__\u001b[0m\u001b[1;33m(\u001b[0m\u001b[0mkey\u001b[0m\u001b[1;33m,\u001b[0m \u001b[0mvalue\u001b[0m\u001b[1;33m)\u001b[0m\u001b[1;33m\u001b[0m\u001b[1;33m\u001b[0m\u001b[0m\n\u001b[0;32m     24\u001b[0m \u001b[1;33m\u001b[0m\u001b[0m\n",
      "\u001b[1;31mKeyError\u001b[0m: 'xalready set'"
     ]
    }
   ],
   "source": [
    "from collections import defaultdict\n",
    "\n",
    "class SetOnceDefaultDict(SetOnceMappingMixin, defaultdict):\n",
    "    pass\n",
    "\n",
    "d = SetOnceDefaultDict(list)\n",
    "d['x'].append(2)\n",
    "d['x'].append(3)\n",
    "print(d['x'])\n",
    "d['x'] = 23"
   ]
  },
  {
   "cell_type": "markdown",
   "metadata": {},
   "source": [
    "- 这个例子中，可以看到混入类跟其他已存在的类(比如dict、defaultdict 和OrderedDict)结合起来使用，一个接一个。结合后就能发挥正常功效了。\n"
   ]
  },
  {
   "cell_type": "markdown",
   "metadata": {},
   "source": [
    "## 讨论\n",
    "\n",
    "- 混入类在标准库中很多地方都出现过，通常都是用来像上面那样扩展某些类的功\n",
    "能。它们也是多继承的一个主要用途。比如，当你编写网络代码时候，你会经常使用\n",
    "socketserver 模块中的ThreadingMixIn 来给其他网络相关类增加多线程支持。例如，\n",
    "下面是一个多线程的XML-RPC 服务：\n",
    "```python\n",
    "from xmlrpc.server import SimpleXMLRPCServer\n",
    "from socketserver import ThreadingMixIn\n",
    "class ThreadedXMLRPCServer(ThreadingMixIn, SimpleXMLRPCServer):\n",
    "pass\n",
    "```\n",
    "\n",
    "- 同时在一些大型库和框架中也会发现混入类的使用，用途同样是增强已存在的类\n",
    "的功能和一些可选特征。\n",
    "- 对于混入类，有几点需要记住。首先是，混入类不能直接被实例化使用。其次，混\n",
    "入类没有自己的状态信息，也就是说它们并没有定义`__init__() `方法，并且没有实例\n",
    "属性。这也是为什么我们在上面明确定义了`__slots__ = ()` 。"
   ]
  },
  {
   "cell_type": "markdown",
   "metadata": {},
   "source": [
    "- 还有一种实现混入类的方式就是使用类装饰器，如下所示：\n",
    "\n",
    "```python\n",
    "def LoggedMapping(cls):\n",
    "    \"\"\" 第二种方式：使用类装饰器\"\"\"\n",
    "    cls_getitem = cls.__getitem__\n",
    "    cls_setitem = cls.__setitem__\n",
    "    cls_delitem = cls.__delitem__\n",
    "    def __getitem__(self, key):\n",
    "    print('Getting ' + str(key))\n",
    "    return cls_getitem(self, key)\n",
    "    def __setitem__(self, key, value):\n",
    "    print('Setting {} = {!r}'.format(key, value))\n",
    "    return cls_setitem(self, key, value)\n",
    "    def __delitem__(self, key):\n",
    "    print('Deleting ' + str(key))\n",
    "    return cls_delitem(self, key)\n",
    "    cls.__getitem__ = __getitem__\n",
    "    cls.__setitem__ = __setitem__\n",
    "    cls.__delitem__ = __delitem__\n",
    "    return cls\n",
    "@LoggedMapping\n",
    "class LoggedDict(dict):\n",
    "pass\n",
    "\n",
    "```\n",
    "- 这个效果跟之前的是一样的，而且不再需要使用多继承了。参考9.12 小节获取更\n",
    "多类装饰器的信息，参考8.13 小节查看更多混入类和类装饰器的例子。"
   ]
  }
 ],
 "metadata": {
  "kernelspec": {
   "display_name": "Python 3",
   "language": "python",
   "name": "python3"
  },
  "language_info": {
   "codemirror_mode": {
    "name": "ipython",
    "version": 3
   },
   "file_extension": ".py",
   "mimetype": "text/x-python",
   "name": "python",
   "nbconvert_exporter": "python",
   "pygments_lexer": "ipython3",
   "version": "3.7.3"
  }
 },
 "nbformat": 4,
 "nbformat_minor": 2
}
