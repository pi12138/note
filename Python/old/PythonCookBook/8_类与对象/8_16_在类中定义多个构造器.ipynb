{
 "cells": [
  {
   "cell_type": "markdown",
   "metadata": {},
   "source": [
    "# 问题\n",
    "\n",
    "- 你想实现一个类，除了使用`__init__()` 方法外，还有其他方式可以初始化它。\n",
    "\n",
    "## 解决方案\n",
    "\n",
    "- 为了实现多个构造器，你需要使用到类方法。例如："
   ]
  },
  {
   "cell_type": "code",
   "execution_count": 11,
   "metadata": {},
   "outputs": [],
   "source": [
    "import time\n",
    "\n",
    "class Date:\n",
    "    def __init__(self, year, month, day):\n",
    "        self.year = year\n",
    "        self.month = month\n",
    "        self.day = day\n",
    "    \n",
    "    @classmethod\n",
    "    def today(cls):\n",
    "        t = time.localtime()\n",
    "        return cls(t.tm_year, t.tm_mon, t.tm_mday)\n"
   ]
  },
  {
   "cell_type": "code",
   "execution_count": 12,
   "metadata": {},
   "outputs": [
    {
     "name": "stdout",
     "output_type": "stream",
     "text": [
      "<__main__.Date object at 0x0000017CA0BD8630>\n",
      "<__main__.Date object at 0x0000017CA0BD85C0>\n",
      "{'year': 2019, 'month': 8, 'day': 8}\n",
      "{'year': 2019, 'month': 8, 'day': 8}\n"
     ]
    }
   ],
   "source": [
    "a = Date(2019, 8, 8)\n",
    "b = Date.today()\n",
    "\n",
    "print(a)\n",
    "print(b)\n",
    "print(a.__dict__)\n",
    "print(b.__dict__)"
   ]
  },
  {
   "cell_type": "markdown",
   "metadata": {},
   "source": [
    "## 讨论\n",
    "\n",
    "- 类方法的一个主要用途就是定义多个构造器。它接受一个class 作为第一个参数\n",
    "(cls)。你应该注意到了这个类被用来创建并返回最终的实例。在继承时也能工作的很好："
   ]
  },
  {
   "cell_type": "code",
   "execution_count": 13,
   "metadata": {},
   "outputs": [
    {
     "name": "stdout",
     "output_type": "stream",
     "text": [
      "{'year': 2019, 'month': 8, 'day': 8}\n",
      "{'year': 2019, 'month': 8, 'day': 8}\n"
     ]
    }
   ],
   "source": [
    "class NewDate(Date):\n",
    "    pass\n",
    "\n",
    "c = Date.today()\n",
    "d = NewDate.today()\n",
    "\n",
    "print(c.__dict__)\n",
    "print(d.__dict__)"
   ]
  }
 ],
 "metadata": {
  "kernelspec": {
   "display_name": "Python 3",
   "language": "python",
   "name": "python3"
  },
  "language_info": {
   "codemirror_mode": {
    "name": "ipython",
    "version": 3
   },
   "file_extension": ".py",
   "mimetype": "text/x-python",
   "name": "python",
   "nbconvert_exporter": "python",
   "pygments_lexer": "ipython3",
   "version": "3.7.3"
  }
 },
 "nbformat": 4,
 "nbformat_minor": 2
}
