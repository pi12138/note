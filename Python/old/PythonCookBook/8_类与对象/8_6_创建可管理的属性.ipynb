{
 "cells": [
  {
   "cell_type": "markdown",
   "metadata": {},
   "source": [
    "# 问题\n",
    "\n",
    "- 你想给某个实例attribute 增加除访问与修改之外的其他处理逻辑，比如类型检查\n",
    "或合法性验证。\n",
    "\n",
    "## 解决方案\n",
    "\n",
    "- 自定义某个属性的一种简单方法是将它定义为一个property。例如，下面的代码定\n",
    "义了一个property，增加对一个属性简单的类型检查："
   ]
  },
  {
   "cell_type": "code",
   "execution_count": 9,
   "metadata": {},
   "outputs": [],
   "source": [
    "class Person:\n",
    "    def __init__(self, first_name):\n",
    "        self._first_name = first_name\n",
    "    \n",
    "    @property\n",
    "    def first_name(self):\n",
    "        return self._first_name\n",
    "    \n",
    "    @first_name.setter\n",
    "    def first_name(self, value):\n",
    "        if not isinstance(value, str):\n",
    "            raise TypeError(\"Expected a string\")\n",
    "        self._first_name = value\n",
    "        \n",
    "    @first_name.deleter\n",
    "    def first_name(self):\n",
    "        raise AttributeError(\"Can't delete attribute.\")\n",
    "        \n",
    "        \n"
   ]
  },
  {
   "cell_type": "markdown",
   "metadata": {},
   "source": [
    "- 上述代码中有三个相关联的方法，这三个方法的名字都必须一样。第一个方法是一\n",
    "个getter 函数，它使得first_name 成为一个属性。其他两个方法给first_name 属\n",
    "性添加了setter 和deleter 函数。需要强调的是只有在first_name 属性被创建后，\n",
    "后面的两个装饰器@first_name.setter 和@first_name.deleter 才能被定义。\n",
    "- property 的一个关键特征是它看上去跟普通的attribute 没什么两样，但是访问它\n",
    "的时候会自动触发getter 、setter 和deleter 方法。例如："
   ]
  },
  {
   "cell_type": "code",
   "execution_count": 5,
   "metadata": {},
   "outputs": [
    {
     "name": "stdout",
     "output_type": "stream",
     "text": [
      "xxx\n"
     ]
    },
    {
     "ename": "TypeError",
     "evalue": "Expected a string",
     "output_type": "error",
     "traceback": [
      "\u001b[1;31m---------------------------------------------------------------------------\u001b[0m",
      "\u001b[1;31mTypeError\u001b[0m                                 Traceback (most recent call last)",
      "\u001b[1;32m<ipython-input-5-20298f82089c>\u001b[0m in \u001b[0;36m<module>\u001b[1;34m\u001b[0m\n\u001b[0;32m      3\u001b[0m \u001b[0mprint\u001b[0m\u001b[1;33m(\u001b[0m\u001b[0mp\u001b[0m\u001b[1;33m.\u001b[0m\u001b[0mfirst_name\u001b[0m\u001b[1;33m)\u001b[0m\u001b[1;33m\u001b[0m\u001b[1;33m\u001b[0m\u001b[0m\n\u001b[0;32m      4\u001b[0m \u001b[1;33m\u001b[0m\u001b[0m\n\u001b[1;32m----> 5\u001b[1;33m \u001b[0mp\u001b[0m\u001b[1;33m.\u001b[0m\u001b[0mfirst_name\u001b[0m \u001b[1;33m=\u001b[0m \u001b[1;36m111\u001b[0m\u001b[1;33m\u001b[0m\u001b[1;33m\u001b[0m\u001b[0m\n\u001b[0m",
      "\u001b[1;32m<ipython-input-2-0b51c5bcd291>\u001b[0m in \u001b[0;36mfirst_name\u001b[1;34m(self, value)\u001b[0m\n\u001b[0;32m     10\u001b[0m     \u001b[1;32mdef\u001b[0m \u001b[0mfirst_name\u001b[0m\u001b[1;33m(\u001b[0m\u001b[0mself\u001b[0m\u001b[1;33m,\u001b[0m \u001b[0mvalue\u001b[0m\u001b[1;33m)\u001b[0m\u001b[1;33m:\u001b[0m\u001b[1;33m\u001b[0m\u001b[1;33m\u001b[0m\u001b[0m\n\u001b[0;32m     11\u001b[0m         \u001b[1;32mif\u001b[0m \u001b[1;32mnot\u001b[0m \u001b[0misinstance\u001b[0m\u001b[1;33m(\u001b[0m\u001b[0mvalue\u001b[0m\u001b[1;33m,\u001b[0m \u001b[0mstr\u001b[0m\u001b[1;33m)\u001b[0m\u001b[1;33m:\u001b[0m\u001b[1;33m\u001b[0m\u001b[1;33m\u001b[0m\u001b[0m\n\u001b[1;32m---> 12\u001b[1;33m             \u001b[1;32mraise\u001b[0m \u001b[0mTypeError\u001b[0m\u001b[1;33m(\u001b[0m\u001b[1;34m\"Expected a string\"\u001b[0m\u001b[1;33m)\u001b[0m\u001b[1;33m\u001b[0m\u001b[1;33m\u001b[0m\u001b[0m\n\u001b[0m\u001b[0;32m     13\u001b[0m         \u001b[0mself\u001b[0m\u001b[1;33m.\u001b[0m\u001b[0m_first_name\u001b[0m \u001b[1;33m=\u001b[0m \u001b[0mvalue\u001b[0m\u001b[1;33m\u001b[0m\u001b[1;33m\u001b[0m\u001b[0m\n\u001b[0;32m     14\u001b[0m \u001b[1;33m\u001b[0m\u001b[0m\n",
      "\u001b[1;31mTypeError\u001b[0m: Expected a string"
     ]
    }
   ],
   "source": [
    "p = Person(\"xxx\")\n",
    "\n",
    "print(p.first_name)\n",
    "\n",
    "p.first_name = 111"
   ]
  },
  {
   "cell_type": "code",
   "execution_count": 7,
   "metadata": {},
   "outputs": [],
   "source": [
    "p.first_name = 'aaa'"
   ]
  },
  {
   "cell_type": "code",
   "execution_count": 10,
   "metadata": {},
   "outputs": [
    {
     "ename": "AttributeError",
     "evalue": "Can't delete attribute.",
     "output_type": "error",
     "traceback": [
      "\u001b[1;31m---------------------------------------------------------------------------\u001b[0m",
      "\u001b[1;31mAttributeError\u001b[0m                            Traceback (most recent call last)",
      "\u001b[1;32m<ipython-input-10-19685786f37a>\u001b[0m in \u001b[0;36m<module>\u001b[1;34m\u001b[0m\n\u001b[1;32m----> 1\u001b[1;33m \u001b[1;32mdel\u001b[0m \u001b[0mp\u001b[0m\u001b[1;33m.\u001b[0m\u001b[0mfirst_name\u001b[0m\u001b[1;33m\u001b[0m\u001b[1;33m\u001b[0m\u001b[0m\n\u001b[0m",
      "\u001b[1;32m<ipython-input-2-0b51c5bcd291>\u001b[0m in \u001b[0;36mfirst_name\u001b[1;34m(self)\u001b[0m\n\u001b[0;32m     15\u001b[0m     \u001b[1;33m@\u001b[0m\u001b[0mfirst_name\u001b[0m\u001b[1;33m.\u001b[0m\u001b[0mdeleter\u001b[0m\u001b[1;33m\u001b[0m\u001b[1;33m\u001b[0m\u001b[0m\n\u001b[0;32m     16\u001b[0m     \u001b[1;32mdef\u001b[0m \u001b[0mfirst_name\u001b[0m\u001b[1;33m(\u001b[0m\u001b[0mself\u001b[0m\u001b[1;33m)\u001b[0m\u001b[1;33m:\u001b[0m\u001b[1;33m\u001b[0m\u001b[1;33m\u001b[0m\u001b[0m\n\u001b[1;32m---> 17\u001b[1;33m         \u001b[1;32mraise\u001b[0m \u001b[0mAttributeError\u001b[0m\u001b[1;33m(\u001b[0m\u001b[1;34m\"Can't delete attribute.\"\u001b[0m\u001b[1;33m)\u001b[0m\u001b[1;33m\u001b[0m\u001b[1;33m\u001b[0m\u001b[0m\n\u001b[0m\u001b[0;32m     18\u001b[0m \u001b[1;33m\u001b[0m\u001b[0m\n\u001b[0;32m     19\u001b[0m \u001b[1;33m\u001b[0m\u001b[0m\n",
      "\u001b[1;31mAttributeError\u001b[0m: Can't delete attribute."
     ]
    }
   ],
   "source": [
    "del p.first_name"
   ]
  },
  {
   "cell_type": "markdown",
   "metadata": {},
   "source": [
    "- 在实现一个property 的时候，底层数据(如果有的话) 仍然需要存储在某个地方。\n",
    "因此，在get 和set 方法中，你会看到对_first_name 属性的操作，这也是实际数据\n",
    "保存的地方。另外，你可能还会问为什么`__init__()` 方法中设置了self.first_name\n",
    "而不是self._first_name 。在这个例子中，我们创建一个property 的目的就是在设置\n",
    "attribute 的时候进行检查。因此，你可能想在初始化的时候也进行这种类型检查。通\n",
    "过设置self.first_name ，自动调用setter 方法，这个方法里面会进行参数的检查，\n",
    "否则就是直接访问self._first_name 了。\n",
    "- 还能在已存在的get 和set 方法基础上定义property。例如："
   ]
  },
  {
   "cell_type": "code",
   "execution_count": 11,
   "metadata": {},
   "outputs": [],
   "source": [
    "class Person:\n",
    "    def __init__(self, first_name):\n",
    "        self.set_first_name(first_name)\n",
    "        \n",
    "    def get_first_name(self):\n",
    "        return self._first_name\n",
    "    \n",
    "    def set_first_name(self, value):\n",
    "        if not isinstance(value, str):\n",
    "            raise TypeError(\"Expected a string.\")\n",
    "        self._first_name = value\n",
    "        \n",
    "    def del_first_name(self):\n",
    "        raise AttributeError(\"Can't delete attribute.\")\n",
    "        \n",
    "    name = property(get_first_name, set_first_name, del_first_name)"
   ]
  },
  {
   "cell_type": "code",
   "execution_count": 13,
   "metadata": {},
   "outputs": [
    {
     "data": {
      "text/plain": [
       "'xxx'"
      ]
     },
     "execution_count": 13,
     "metadata": {},
     "output_type": "execute_result"
    }
   ],
   "source": [
    "p = Person('xxx')\n",
    "\n",
    "p.name"
   ]
  },
  {
   "cell_type": "code",
   "execution_count": 15,
   "metadata": {},
   "outputs": [
    {
     "data": {
      "text/plain": [
       "'aaa'"
      ]
     },
     "execution_count": 15,
     "metadata": {},
     "output_type": "execute_result"
    }
   ],
   "source": [
    "p.name = 'aaa'\n",
    "p.name"
   ]
  },
  {
   "cell_type": "code",
   "execution_count": 17,
   "metadata": {},
   "outputs": [
    {
     "ename": "AttributeError",
     "evalue": "Can't delete attribute.",
     "output_type": "error",
     "traceback": [
      "\u001b[1;31m---------------------------------------------------------------------------\u001b[0m",
      "\u001b[1;31mAttributeError\u001b[0m                            Traceback (most recent call last)",
      "\u001b[1;32m<ipython-input-17-8da59e30f97c>\u001b[0m in \u001b[0;36m<module>\u001b[1;34m\u001b[0m\n\u001b[1;32m----> 1\u001b[1;33m \u001b[1;32mdel\u001b[0m \u001b[0mp\u001b[0m\u001b[1;33m.\u001b[0m\u001b[0mname\u001b[0m\u001b[1;33m\u001b[0m\u001b[1;33m\u001b[0m\u001b[0m\n\u001b[0m",
      "\u001b[1;32m<ipython-input-11-ee00e767ca35>\u001b[0m in \u001b[0;36mdel_first_name\u001b[1;34m(self)\u001b[0m\n\u001b[0;32m     12\u001b[0m \u001b[1;33m\u001b[0m\u001b[0m\n\u001b[0;32m     13\u001b[0m     \u001b[1;32mdef\u001b[0m \u001b[0mdel_first_name\u001b[0m\u001b[1;33m(\u001b[0m\u001b[0mself\u001b[0m\u001b[1;33m)\u001b[0m\u001b[1;33m:\u001b[0m\u001b[1;33m\u001b[0m\u001b[1;33m\u001b[0m\u001b[0m\n\u001b[1;32m---> 14\u001b[1;33m         \u001b[1;32mraise\u001b[0m \u001b[0mAttributeError\u001b[0m\u001b[1;33m(\u001b[0m\u001b[1;34m\"Can't delete attribute.\"\u001b[0m\u001b[1;33m)\u001b[0m\u001b[1;33m\u001b[0m\u001b[1;33m\u001b[0m\u001b[0m\n\u001b[0m\u001b[0;32m     15\u001b[0m \u001b[1;33m\u001b[0m\u001b[0m\n\u001b[0;32m     16\u001b[0m     \u001b[0mname\u001b[0m \u001b[1;33m=\u001b[0m \u001b[0mproperty\u001b[0m\u001b[1;33m(\u001b[0m\u001b[0mget_first_name\u001b[0m\u001b[1;33m,\u001b[0m \u001b[0mset_first_name\u001b[0m\u001b[1;33m,\u001b[0m \u001b[0mdel_first_name\u001b[0m\u001b[1;33m)\u001b[0m\u001b[1;33m\u001b[0m\u001b[1;33m\u001b[0m\u001b[0m\n",
      "\u001b[1;31mAttributeError\u001b[0m: Can't delete attribute."
     ]
    }
   ],
   "source": [
    "del p.name"
   ]
  },
  {
   "cell_type": "markdown",
   "metadata": {},
   "source": [
    "## 讨论\n",
    "\n",
    "- 一个property 属性其实就是一系列相关绑定方法的集合。如果你去查看拥有\n",
    "property 的类，就会发现property 本身的fget、fset 和fdel 属性就是类里面的普通方\n",
    "法。比如：\n",
    "\n",
    "```python\n",
    ">>> Person.first_name.fget\n",
    "<function Person.first_name at 0x1006a60e0>\n",
    ">>> Person.first_name.fset\n",
    "<function Person.first_name at 0x1006a6170>\n",
    ">>> Person.first_name.fdel\n",
    "<function Person.first_name at 0x1006a62e0>\n",
    ">>>\n",
    "```\n",
    "\n",
    "- 通常来讲，你不会直接取调用fget 或者fset，它们会在访问property 的时候自动\n",
    "被触发。\n",
    "- 只有当你确实需要对attribute 执行其他额外的操作的时候才应该使用到property。\n",
    "有时候一些从其他编程语言(比如Java) 过来的程序员总认为所有访问都应该通过\n",
    "getter 和setter，所以他们认为代码应该像下面这样写："
   ]
  },
  {
   "cell_type": "code",
   "execution_count": 22,
   "metadata": {},
   "outputs": [],
   "source": [
    "class Person:\n",
    "    def __init__(self, first_name):\n",
    "        self._first_name = first_name\n",
    "    \n",
    "    @property\n",
    "    def first_name(self):\n",
    "        return self._first_name\n",
    "    \n",
    "    @first_name.setter\n",
    "    def first_name(self, value):\n",
    "        self._first_name = value"
   ]
  },
  {
   "cell_type": "markdown",
   "metadata": {},
   "source": [
    "- 不要写这种没有做任何其他额外操作的property。首先，它会让你的代码变得很臃\n",
    "肿，并且还会迷惑阅读者。其次，它还会让你的程序运行起来变慢很多。最后，这样的设\n",
    "计并没有带来任何的好处。特别是当你以后想给普通attribute 访问添加额外的处理逻\n",
    "辑的时候，你可以将它变成一个property 而无需改变原来的代码。因为访问attribute\n",
    "的代码还是保持原样。\n",
    "\n",
    "- Properties 还是一种定义动态计算attribute 的方法。这种类型的attributes 并不会\n",
    "被实际的存储，而是在需要的时候计算出来。比如："
   ]
  },
  {
   "cell_type": "code",
   "execution_count": 23,
   "metadata": {},
   "outputs": [],
   "source": [
    "import math\n",
    "\n",
    "class Cirtle:\n",
    "    def __init__(self, radius):\n",
    "        self.radius = radius\n",
    "    \n",
    "    @property\n",
    "    def area(self):\n",
    "        return math.pi * self.radius ** 2\n",
    "    \n",
    "    @property\n",
    "    def diameter(self):\n",
    "        return self.radius * 2\n",
    "    \n",
    "    @property\n",
    "    def perimeter(self):\n",
    "        return 2 * math.pi * self.radius"
   ]
  },
  {
   "cell_type": "markdown",
   "metadata": {},
   "source": [
    "- 在这里，我们通过使用properties，将所有的访问接口形式统一起来，对半径、直\n",
    "径、周长和面积的访问都是通过属性访问，就跟访问简单的attribute 是一样的。如果\n",
    "不这样做的话，那么就要在代码中混合使用简单属性访问和方法调用。下面是使用的实\n",
    "例："
   ]
  },
  {
   "cell_type": "code",
   "execution_count": 25,
   "metadata": {},
   "outputs": [
    {
     "name": "stdout",
     "output_type": "stream",
     "text": [
      "50.26548245743669\n",
      "8.0\n",
      "25.132741228718345\n"
     ]
    }
   ],
   "source": [
    "c = Cirtle(4.0)\n",
    "\n",
    "print(c.area)\n",
    "print(c.diameter)\n",
    "print(c.perimeter)"
   ]
  },
  {
   "cell_type": "markdown",
   "metadata": {},
   "source": [
    "- 尽管properties 可以实现优雅的编程接口，但有些时候你还是会想直接使用getter\n",
    "和setter 函数。例如：\n",
    "```python\n",
    ">>> p = Person('Guido')\n",
    ">>> p.get_first_name()\n",
    "'Guido'\n",
    ">>> p.set_first_name('Larry')\n",
    ">>>\n",
    "```\n",
    "\n",
    "- 这种情况的出现通常是因为Python 代码被集成到一个大型基础平台架构或程序\n",
    "中。例如，有可能是一个Python 类准备加入到一个基于远程过程调用的大型分布式系\n",
    "统中。这种情况下，直接使用get/set 方法(普通方法调用) 而不是property 或许会更\n",
    "容易兼容。"
   ]
  },
  {
   "cell_type": "markdown",
   "metadata": {},
   "source": [
    "- 最后一点，不要像下面这样写有大量重复代码的property 定义：\n",
    "\n",
    "```python\n",
    "class Person:\n",
    "    def __init__(self, first_name, last_name):\n",
    "        self.first_name = first_name\n",
    "        self.last_name = last_name\n",
    "        \n",
    "    @property\n",
    "    def first_name(self):\n",
    "        return self._first_name\n",
    "    @first_name.setter\n",
    "    def first_name(self, value):\n",
    "        if not isinstance(value, str):\n",
    "            raise TypeError('Expected a string')\n",
    "        self._first_name = value\n",
    "    \n",
    "    # Repeated property code, but for a different name (bad!)\n",
    "    @property\n",
    "    def last_name(self):\n",
    "        return self._last_name\n",
    "    @last_name.setter\n",
    "    def last_name(self, value):\n",
    "        if not isinstance(value, str):\n",
    "            raise TypeError('Expected a string')\n",
    "        self._last_name = value\n",
    "```\n",
    "\n",
    "- 重复代码会导致臃肿、易出错和丑陋的程序。好消息是，通过使用装饰器或闭包，\n",
    "有很多种更好的方法来完成同样的事情。可以参考8.9 和9.21 小节的内容。"
   ]
  }
 ],
 "metadata": {
  "kernelspec": {
   "display_name": "Python 3",
   "language": "python",
   "name": "python3"
  },
  "language_info": {
   "codemirror_mode": {
    "name": "ipython",
    "version": 3
   },
   "file_extension": ".py",
   "mimetype": "text/x-python",
   "name": "python",
   "nbconvert_exporter": "python",
   "pygments_lexer": "ipython3",
   "version": "3.7.3"
  }
 },
 "nbformat": 4,
 "nbformat_minor": 2
}
