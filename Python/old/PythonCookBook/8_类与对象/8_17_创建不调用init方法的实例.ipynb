{
 "cells": [
  {
   "cell_type": "markdown",
   "metadata": {},
   "source": [
    "# 问题\n",
    "\n",
    "- 你想创建一个实例，但是希望绕过执行`__init__()` 方法。\n",
    "\n",
    "## 解决方案\n",
    "\n",
    "- 可以通过`__new__()` 方法创建一个未初始化的实例。例如考虑如下这个类："
   ]
  },
  {
   "cell_type": "code",
   "execution_count": 1,
   "metadata": {},
   "outputs": [],
   "source": [
    "class Date:\n",
    "    def __init__(self, year, month, day):\n",
    "        self.year = year\n",
    "        self.month = month\n",
    "        self.day = day"
   ]
  },
  {
   "cell_type": "markdown",
   "metadata": {},
   "source": [
    "- 下面演示如何不调用__init__() 方法来创建这个Date 实例："
   ]
  },
  {
   "cell_type": "code",
   "execution_count": 4,
   "metadata": {},
   "outputs": [
    {
     "name": "stdout",
     "output_type": "stream",
     "text": [
      "<__main__.Date object at 0x0000028E8502ACF8>\n"
     ]
    },
    {
     "ename": "AttributeError",
     "evalue": "'Date' object has no attribute 'year'",
     "output_type": "error",
     "traceback": [
      "\u001b[1;31m---------------------------------------------------------------------------\u001b[0m",
      "\u001b[1;31mAttributeError\u001b[0m                            Traceback (most recent call last)",
      "\u001b[1;32m<ipython-input-4-0a75692354d7>\u001b[0m in \u001b[0;36m<module>\u001b[1;34m\u001b[0m\n\u001b[0;32m      2\u001b[0m \u001b[1;33m\u001b[0m\u001b[0m\n\u001b[0;32m      3\u001b[0m \u001b[0mprint\u001b[0m\u001b[1;33m(\u001b[0m\u001b[0md\u001b[0m\u001b[1;33m)\u001b[0m\u001b[1;33m\u001b[0m\u001b[1;33m\u001b[0m\u001b[0m\n\u001b[1;32m----> 4\u001b[1;33m \u001b[0mprint\u001b[0m\u001b[1;33m(\u001b[0m\u001b[0md\u001b[0m\u001b[1;33m.\u001b[0m\u001b[0myear\u001b[0m\u001b[1;33m)\u001b[0m\u001b[1;33m\u001b[0m\u001b[1;33m\u001b[0m\u001b[0m\n\u001b[0m",
      "\u001b[1;31mAttributeError\u001b[0m: 'Date' object has no attribute 'year'"
     ]
    }
   ],
   "source": [
    "d = Date.__new__(Date)\n",
    "\n",
    "print(d)\n",
    "print(d.year)"
   ]
  },
  {
   "cell_type": "markdown",
   "metadata": {},
   "source": [
    "- 结果可以看到，这个Date 实例的属性year 还不存在，所以你需要手动初始化："
   ]
  },
  {
   "cell_type": "code",
   "execution_count": 6,
   "metadata": {},
   "outputs": [
    {
     "name": "stdout",
     "output_type": "stream",
     "text": [
      "2012\n",
      "8\n",
      "29\n"
     ]
    }
   ],
   "source": [
    "data = {'year': 2012, 'month': 8, 'day': 29}\n",
    "\n",
    "for key, value in data.items():\n",
    "    setattr(d, key, value)\n",
    "    \n",
    "print(d.year)\n",
    "print(d.month)\n",
    "print(d.day)"
   ]
  },
  {
   "cell_type": "markdown",
   "metadata": {},
   "source": [
    "## 讨论\n",
    "\n",
    "- 当我们在反序列对象或者实现某个类方法构造函数时需要绕过`__init__()` 方法来\n",
    "创建对象。例如，对于上面的Date 来讲，有时候你可能会像下面这样定义一个新的构\n",
    "造函数today() ："
   ]
  },
  {
   "cell_type": "code",
   "execution_count": 7,
   "metadata": {},
   "outputs": [],
   "source": [
    "from time import localtime\n",
    "\n",
    "class Date:\n",
    "    def __init__(self, year, month, day):\n",
    "        self.year = year\n",
    "        self.month = month\n",
    "        self.day = day\n",
    "        \n",
    "    @classmethod\n",
    "    def today(cls):\n",
    "        d = localtime()\n",
    "        obj = cls.__new__(cls)\n",
    "        obj.year = d.tm_year\n",
    "        obj.month = d.tm_mon\n",
    "        obj.day = d.tm_mday\n",
    "        \n",
    "        return obj"
   ]
  },
  {
   "cell_type": "code",
   "execution_count": 9,
   "metadata": {},
   "outputs": [
    {
     "name": "stdout",
     "output_type": "stream",
     "text": [
      "2019--8--8\n"
     ]
    }
   ],
   "source": [
    "a = Date.today()\n",
    "\n",
    "print(\"{}--{}--{}\".format(a.year, a.month, a.day))"
   ]
  },
  {
   "cell_type": "markdown",
   "metadata": {},
   "source": [
    "- 同样，在你反序列化JSON 数据时产生一个如下的字典对象：\n",
    "```python\n",
    "data = { 'year': 2012, 'month': 8, 'day': 29 }\n",
    "```\n",
    "- 如果你想将它转换成一个Date 类型实例，可以使用上面的技术。\n",
    "\n",
    "- 当你通过这种非常规方式来创建实例的时候，最好不要直接去访问底层实例字\n",
    "典，除非你真的清楚所有细节。否则的话，如果这个类使用了`__slots__` 、properties 、\n",
    "descriptors 或其他高级技术的时候代码就会失效。而这时候使用setattr() 方法会让\n",
    "你的代码变得更加通用。"
   ]
  }
 ],
 "metadata": {
  "kernelspec": {
   "display_name": "Python 3",
   "language": "python",
   "name": "python3"
  },
  "language_info": {
   "codemirror_mode": {
    "name": "ipython",
    "version": 3
   },
   "file_extension": ".py",
   "mimetype": "text/x-python",
   "name": "python",
   "nbconvert_exporter": "python",
   "pygments_lexer": "ipython3",
   "version": "3.7.3"
  }
 },
 "nbformat": 4,
 "nbformat_minor": 2
}
