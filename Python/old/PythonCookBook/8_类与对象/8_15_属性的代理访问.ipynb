{
 "cells": [
  {
   "cell_type": "code",
   "execution_count": 10,
   "metadata": {},
   "outputs": [],
   "source": [
    "class A:\n",
    "    def __init__(self):\n",
    "        pass\n",
    "\n",
    "class B:\n",
    "    def __init__(self):\n",
    "        pass\n",
    "    \n",
    "    def __getattr__(self, name):\n",
    "        print(\"{} no attr {}\".format(self, name))\n",
    "        "
   ]
  },
  {
   "cell_type": "code",
   "execution_count": 4,
   "metadata": {},
   "outputs": [
    {
     "ename": "AttributeError",
     "evalue": "'A' object has no attribute 'aaa'",
     "output_type": "error",
     "traceback": [
      "\u001b[1;31m---------------------------------------------------------------------------\u001b[0m",
      "\u001b[1;31mAttributeError\u001b[0m                            Traceback (most recent call last)",
      "\u001b[1;32m<ipython-input-4-f098ddccf2cb>\u001b[0m in \u001b[0;36m<module>\u001b[1;34m\u001b[0m\n\u001b[0;32m      1\u001b[0m \u001b[0ma\u001b[0m \u001b[1;33m=\u001b[0m \u001b[0mA\u001b[0m\u001b[1;33m(\u001b[0m\u001b[1;33m)\u001b[0m\u001b[1;33m\u001b[0m\u001b[1;33m\u001b[0m\u001b[0m\n\u001b[1;32m----> 2\u001b[1;33m \u001b[0ma\u001b[0m\u001b[1;33m.\u001b[0m\u001b[0maaa\u001b[0m\u001b[1;33m(\u001b[0m\u001b[1;33m)\u001b[0m\u001b[1;33m\u001b[0m\u001b[1;33m\u001b[0m\u001b[0m\n\u001b[0m",
      "\u001b[1;31mAttributeError\u001b[0m: 'A' object has no attribute 'aaa'"
     ]
    }
   ],
   "source": [
    "a = A()\n",
    "a.aaa()"
   ]
  },
  {
   "cell_type": "code",
   "execution_count": 12,
   "metadata": {},
   "outputs": [
    {
     "name": "stdout",
     "output_type": "stream",
     "text": [
      "<__main__.B object at 0x000002612239A1D0> no attr bbb\n"
     ]
    },
    {
     "ename": "TypeError",
     "evalue": "'NoneType' object is not callable",
     "output_type": "error",
     "traceback": [
      "\u001b[1;31m---------------------------------------------------------------------------\u001b[0m",
      "\u001b[1;31mTypeError\u001b[0m                                 Traceback (most recent call last)",
      "\u001b[1;32m<ipython-input-12-e84a4ba5c105>\u001b[0m in \u001b[0;36m<module>\u001b[1;34m\u001b[0m\n\u001b[0;32m      1\u001b[0m \u001b[0mb\u001b[0m \u001b[1;33m=\u001b[0m \u001b[0mB\u001b[0m\u001b[1;33m(\u001b[0m\u001b[1;33m)\u001b[0m\u001b[1;33m\u001b[0m\u001b[1;33m\u001b[0m\u001b[0m\n\u001b[1;32m----> 2\u001b[1;33m \u001b[0mb\u001b[0m\u001b[1;33m.\u001b[0m\u001b[0mbbb\u001b[0m\u001b[1;33m(\u001b[0m\u001b[1;33m)\u001b[0m\u001b[1;33m\u001b[0m\u001b[1;33m\u001b[0m\u001b[0m\n\u001b[0m",
      "\u001b[1;31mTypeError\u001b[0m: 'NoneType' object is not callable"
     ]
    }
   ],
   "source": [
    "b = B()\n",
    "b.bbb()"
   ]
  },
  {
   "cell_type": "code",
   "execution_count": 16,
   "metadata": {},
   "outputs": [
    {
     "name": "stdout",
     "output_type": "stream",
     "text": [
      "<__main__.B object at 0x00000261223A6A20> no attr name\n"
     ]
    }
   ],
   "source": [
    "b = B()\n",
    "b.name"
   ]
  },
  {
   "cell_type": "markdown",
   "metadata": {},
   "source": [
    "# 问题\n",
    "\n",
    "- 你想将某个实例的属性访问代理到内部另一个实例中去，目的可能是作为继承的\n",
    "一个替代方法或者实现代理模式。\n",
    "\n",
    "## 解决方案\n",
    "\n",
    "- 简单来说，代理是一种编程模式，它将某个操作转移给另外一个对象来实现。最简\n",
    "单的形式可能是像下面这样："
   ]
  },
  {
   "cell_type": "code",
   "execution_count": 27,
   "metadata": {},
   "outputs": [],
   "source": [
    "class A:\n",
    "    def spam(self, x):\n",
    "        print(\"A.spam.\")\n",
    "        pass\n",
    "    \n",
    "    def foo(self):\n",
    "        print(\"A.foo\")\n",
    "        pass\n",
    "    \n",
    "class B1:\n",
    "    def __init__(self):\n",
    "        self._a = A()\n",
    "        \n",
    "    def spam(self, x):\n",
    "        return self._a.spam(x)\n",
    "        \n",
    "    def foo(self):\n",
    "        return self._a.foo()\n",
    "    \n",
    "    def bar(self):\n",
    "        pass"
   ]
  },
  {
   "cell_type": "code",
   "execution_count": 28,
   "metadata": {},
   "outputs": [
    {
     "name": "stdout",
     "output_type": "stream",
     "text": [
      "A.spam.\n",
      "A.foo\n"
     ]
    }
   ],
   "source": [
    "b = B1()\n",
    "b.spam(1)\n",
    "b.foo()"
   ]
  },
  {
   "cell_type": "markdown",
   "metadata": {},
   "source": [
    "- 如果仅仅就两个方法需要代理，那么像这样写就足够了。但是，如果有大量的方法\n",
    "需要代理，那么使用`__getattr__()` 方法或许或更好些："
   ]
  },
  {
   "cell_type": "code",
   "execution_count": 25,
   "metadata": {},
   "outputs": [],
   "source": [
    "class B2:\n",
    "    def __init__(self):\n",
    "        self._a = A()\n",
    "        \n",
    "    def bar():\n",
    "        pass\n",
    "    \n",
    "    def __getattr__(self, name):\n",
    "        print('getattr:{}'.format(name))\n",
    "        return getattr(self._a, name)\n",
    "    "
   ]
  },
  {
   "cell_type": "code",
   "execution_count": 31,
   "metadata": {},
   "outputs": [
    {
     "name": "stdout",
     "output_type": "stream",
     "text": [
      "getattr:foo\n",
      "A.foo\n",
      "getattr:spam\n",
      "A.spam.\n"
     ]
    }
   ],
   "source": [
    "b = B2()\n",
    "\n",
    "b.foo()\n",
    "b.spam(222)"
   ]
  },
  {
   "cell_type": "markdown",
   "metadata": {},
   "source": [
    "- `__getattr__` 方法是在访问attribute 不存在的时候被调用，使用演示："
   ]
  },
  {
   "cell_type": "markdown",
   "metadata": {},
   "source": [
    "- 另外一个代理例子是实现代理模式，例如："
   ]
  },
  {
   "cell_type": "code",
   "execution_count": 32,
   "metadata": {},
   "outputs": [],
   "source": [
    "class Proxy:\n",
    "    def __init__(self, obj):\n",
    "        self._obj = obj\n",
    "        \n",
    "    def __getattr__(self, name):\n",
    "        print(\"getattr:{}\".format(name))\n",
    "        return getattr(self._obj, name)\n",
    "    \n",
    "    def __setattr__(self, name, value):\n",
    "        if name.startswith(\"_\"):\n",
    "            super().__setattr__(name, value)\n",
    "        else:\n",
    "            print(\"setattr:{}--{}\".format(name, value))\n",
    "            setattr(self._obj, name, value)\n",
    "            \n",
    "    def __delattr__(self, name):\n",
    "        if name.startswith(\"_\"):\n",
    "            super().__delattr__(name)\n",
    "        else:\n",
    "            print(\"delattr:{}\".format(name))\n",
    "            delattr(self._obj, name)"
   ]
  },
  {
   "cell_type": "markdown",
   "metadata": {},
   "source": [
    "- 使用这个代理类时，你只需要用它来包装下其他类即可："
   ]
  },
  {
   "cell_type": "code",
   "execution_count": 35,
   "metadata": {},
   "outputs": [
    {
     "name": "stdout",
     "output_type": "stream",
     "text": [
      "getattr:x\n",
      "2\n",
      "getattr:bar\n",
      "Spam.bar 2 30\n",
      "setattr:x--40\n"
     ]
    }
   ],
   "source": [
    "class Spam:\n",
    "    def __init__(self, x):\n",
    "        self.x = x\n",
    "        \n",
    "    def bar(self, y):\n",
    "        print(\"Spam.bar\", self.x, y)\n",
    "        \n",
    "s = Spam(2)\n",
    "p = Proxy(s)\n",
    "\n",
    "print(p.x)\n",
    "\n",
    "p.bar(30)\n",
    "p.x = 40"
   ]
  },
  {
   "cell_type": "markdown",
   "metadata": {},
   "source": [
    "- 通过自定义属性访问方法，你可以用不同方式自定义代理类行为(比如加入日志功\n",
    "能、只读访问等)。"
   ]
  },
  {
   "cell_type": "markdown",
   "metadata": {},
   "source": [
    "## 讨论\n",
    "\n",
    "- 代理类有时候可以作为继承的替代方案。例如，一个简单的继承如下："
   ]
  },
  {
   "cell_type": "code",
   "execution_count": 42,
   "metadata": {},
   "outputs": [],
   "source": [
    "class A:\n",
    "    def spam(self, x):\n",
    "        print(\"A.spam\", x)\n",
    "        \n",
    "    def foo(self):\n",
    "        print(\"A.foo\")\n",
    "        \n",
    "class B(A):\n",
    "    def spam(self, x):\n",
    "        print(\"B.spam\", x)\n",
    "        super().spam(x)\n",
    "        \n",
    "    def foo(self):\n",
    "        print(\"B.foo\")\n",
    "        super().foo()"
   ]
  },
  {
   "cell_type": "code",
   "execution_count": 43,
   "metadata": {},
   "outputs": [
    {
     "name": "stdout",
     "output_type": "stream",
     "text": [
      "B.spam 1\n",
      "A.spam 1\n",
      "B.foo\n",
      "A.foo\n"
     ]
    }
   ],
   "source": [
    "b = B()\n",
    "b.spam(1)\n",
    "b.foo()"
   ]
  },
  {
   "cell_type": "markdown",
   "metadata": {},
   "source": [
    "- 使用代理的话，就是下面这样："
   ]
  },
  {
   "cell_type": "code",
   "execution_count": 44,
   "metadata": {},
   "outputs": [],
   "source": [
    "class A:\n",
    "    def spam(self, x):\n",
    "        print(\"A.spam\", x)\n",
    "    def foo(self):\n",
    "        print(\"A.spam\")\n",
    "        \n",
    "class B:\n",
    "    def __init__(self):\n",
    "        self._a = A()\n",
    "        \n",
    "    def __getattr__(self, name):\n",
    "        return getattr(self._a, name)"
   ]
  },
  {
   "cell_type": "code",
   "execution_count": 47,
   "metadata": {},
   "outputs": [
    {
     "name": "stdout",
     "output_type": "stream",
     "text": [
      "A.spam 1\n",
      "A.spam\n"
     ]
    }
   ],
   "source": [
    "b = B()\n",
    "\n",
    "b.spam(1)\n",
    "b.foo()"
   ]
  },
  {
   "cell_type": "markdown",
   "metadata": {},
   "source": [
    "- 当实现代理模式时，还有些细节需要注意。首先，`__getattr__()` 实际是一个后备\n",
    "方法，只有在属性不存在时才会调用。因此，如果代理类实例本身有这个属性的话，那\n",
    "么不会触发这个方法的。另外，`__setattr__()` 和`__delattr__()` 需要额外的魔法来\n",
    "区分代理实例和被代理实例`_obj` 的属性。一个通常的约定是只代理那些不以`下划线_`\n",
    "开头的属性(代理类只暴露被代理类的公共属性)。\n",
    "\n",
    "- 还有一点需要注意的是，`__getattr__()` 对于大部分以双下划线`(__)` 开始和结尾\n",
    "的属性并不适用。比如，考虑如下的类："
   ]
  }
 ],
 "metadata": {
  "kernelspec": {
   "display_name": "Python 3",
   "language": "python",
   "name": "python3"
  },
  "language_info": {
   "codemirror_mode": {
    "name": "ipython",
    "version": 3
   },
   "file_extension": ".py",
   "mimetype": "text/x-python",
   "name": "python",
   "nbconvert_exporter": "python",
   "pygments_lexer": "ipython3",
   "version": "3.7.3"
  }
 },
 "nbformat": 4,
 "nbformat_minor": 2
}
