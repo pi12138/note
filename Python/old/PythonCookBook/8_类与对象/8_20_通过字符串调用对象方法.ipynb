{
 "cells": [
  {
   "cell_type": "markdown",
   "metadata": {},
   "source": [
    "# 问题\n",
    "\n",
    "- 你有一个字符串形式的方法名称，想通过它调用某个对象的对应方法。\n",
    "\n",
    "## 解决方案\n",
    "\n",
    "- 最简单的情况，可以使用getattr() ："
   ]
  },
  {
   "cell_type": "code",
   "execution_count": 3,
   "metadata": {},
   "outputs": [
    {
     "name": "stdout",
     "output_type": "stream",
     "text": [
      "3.605551275463989\n"
     ]
    }
   ],
   "source": [
    "import math\n",
    "\n",
    "class Point:\n",
    "    def __init__(self, x, y):\n",
    "        self.x = x\n",
    "        self.y = y\n",
    "        \n",
    "    def __repr__(self):\n",
    "        return \"Point({!r:}, {!r:})\".format(self.x, self.y)\n",
    "    \n",
    "    def distance(self, x, y):\n",
    "        return math.hypot(self.x - x , self.y - y)\n",
    "    \n",
    "\n",
    "p = Point(2, 3)\n",
    "d = getattr(p, 'distance')(0, 0)\n",
    "print(d)"
   ]
  },
  {
   "cell_type": "markdown",
   "metadata": {},
   "source": [
    "- 另外一种方法是使用operator.methodcaller() ，例如："
   ]
  },
  {
   "cell_type": "code",
   "execution_count": 6,
   "metadata": {},
   "outputs": [
    {
     "data": {
      "text/plain": [
       "3.605551275463989"
      ]
     },
     "execution_count": 6,
     "metadata": {},
     "output_type": "execute_result"
    }
   ],
   "source": [
    "import operator\n",
    "\n",
    "operator.methodcaller('distance', 0, 0)(p)"
   ]
  },
  {
   "cell_type": "markdown",
   "metadata": {},
   "source": [
    "- 当你需要通过相同的参数多次调用某个方法时，使用operator.methodcaller 就\n",
    "很方便了。比如你需要排序一系列的点，就可以这样做："
   ]
  },
  {
   "cell_type": "code",
   "execution_count": 14,
   "metadata": {},
   "outputs": [
    {
     "name": "stdout",
     "output_type": "stream",
     "text": [
      "[Point(1, 2), Point(3, 0), Point(3, 2), Point(-1, 8), Point(-5, -7), Point(10, -3)]\n"
     ]
    }
   ],
   "source": [
    "points = [\n",
    "    Point(1, 2),\n",
    "    Point(3, 0),\n",
    "    Point(10, -3),\n",
    "    Point(-5, -7),\n",
    "    Point(-1, 8),\n",
    "    Point(3, 2)\n",
    "]\n",
    "\n",
    "\n",
    "points.sort(key=operator.methodcaller('distance', 0, 0))\n",
    "\n",
    "print(points)"
   ]
  },
  {
   "cell_type": "markdown",
   "metadata": {},
   "source": [
    "## 讨论\n",
    "\n",
    "- 调用一个方法实际上是两部独立操作，第一步是查找属性，第二步是函数调用。因\n",
    "此，为了调用某个方法，你可以首先通过getattr() 来查找到这个属性，然后再去以\n",
    "函数方式调用它即可。\n",
    "- operator.methodcaller() 创建一个可调用对象，并同时提供所有必要参数，然\n",
    "后调用的时候只需要将实例对象传递给它即可，比如："
   ]
  },
  {
   "cell_type": "code",
   "execution_count": 13,
   "metadata": {},
   "outputs": [
    {
     "data": {
      "text/plain": [
       "5.0"
      ]
     },
     "execution_count": 13,
     "metadata": {},
     "output_type": "execute_result"
    }
   ],
   "source": [
    "p = Point(3, 4)\n",
    "d = operator.methodcaller(\"distance\", 0, 0)\n",
    "d(p)"
   ]
  },
  {
   "cell_type": "markdown",
   "metadata": {},
   "source": [
    "- 通过方法名称字符串来调用方法通常出现在需要模拟case 语句或实现访问者模式\n",
    "的时候。参考下一小节获取更多高级例子。"
   ]
  },
  {
   "cell_type": "code",
   "execution_count": null,
   "metadata": {},
   "outputs": [],
   "source": []
  }
 ],
 "metadata": {
  "kernelspec": {
   "display_name": "Python 3",
   "language": "python",
   "name": "python3"
  },
  "language_info": {
   "codemirror_mode": {
    "name": "ipython",
    "version": 3
   },
   "file_extension": ".py",
   "mimetype": "text/x-python",
   "name": "python",
   "nbconvert_exporter": "python",
   "pygments_lexer": "ipython3",
   "version": "3.7.3"
  }
 },
 "nbformat": 4,
 "nbformat_minor": 2
}
