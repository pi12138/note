{
 "cells": [
  {
   "cell_type": "markdown",
   "metadata": {},
   "source": [
    "# 问题\n",
    "\n",
    "- 你想遍历一个可迭代对象，但是它开始的某些元素你并不感兴趣，想跳过它们。\n",
    "\n",
    "## 解决方案\n",
    "- itertools 模块中有一些函数可以完成这个任务。首先介绍的是itertools.dropwhile() 函数。使用时，你给它传递一个函数对象和一个可迭代对象。它会返回一个迭代器对象，丢弃原有序列中直到函数返回Flase 之前的所有元素，然后返回后面所有元素。\n",
    "- 为了演示，假定你在读取一个开始部分是几行注释的源文件。比如："
   ]
  },
  {
   "cell_type": "code",
   "execution_count": 6,
   "metadata": {},
   "outputs": [
    {
     "name": "stdout",
     "output_type": "stream",
     "text": [
      "##\n",
      "\n",
      "# User Database\n",
      "\n",
      "#\n",
      "\n",
      "# Note that this file is consulted directly only when the system is running\n",
      "\n",
      "# in single-user mode. At other times, this information is provided by\n",
      "\n",
      "# Open Directory.\n",
      "\n",
      "...\n",
      "\n",
      "##\n",
      "\n",
      "nobody:*:-2:-2:Unprivileged User:/var/empty:/usr/bin/false\n",
      "\n",
      "root:*:0:0:System Administrator:/var/root:/bin/sh\n",
      "\n",
      "\n",
      "\n",
      "aaaaaaaaaa\n",
      "\n",
      "bbbbbbbbb\n",
      "\n",
      "cccccccc\n",
      "\n",
      "ddddddd\n",
      "\n",
      "eeeeee\n",
      "\n",
      "fffff\n",
      "\n",
      "gggg\n",
      "\n",
      "hhh\n",
      "\n",
      "ii\n",
      "\n",
      "j\n",
      "\n",
      "python\n"
     ]
    }
   ],
   "source": [
    "with open('text.txt') as f:\n",
    "    for i in f:\n",
    "        print(i)"
   ]
  },
  {
   "cell_type": "code",
   "execution_count": 11,
   "metadata": {},
   "outputs": [
    {
     "name": "stdout",
     "output_type": "stream",
     "text": [
      "nobody:*:-2:-2:Unprivileged User:/var/empty:/usr/bin/false\n",
      "root:*:0:0:System Administrator:/var/root:/bin/sh\n",
      "\n",
      "aaaaaaaaaa\n",
      "bbbbbbbbb\n",
      "cccccccc\n",
      "ddddddd\n",
      "eeeeee\n",
      "fffff\n",
      "gggg\n",
      "hhh\n",
      "ii\n",
      "j\n",
      "python"
     ]
    }
   ],
   "source": [
    "import itertools\n",
    "\n",
    "def handle_func(line):\n",
    "    if line.startswith(\"#\"):\n",
    "        return True\n",
    "    else:\n",
    "        return False\n",
    "\n",
    "with open('text.txt') as f:\n",
    "    for line in itertools.dropwhile(handle_func, f):\n",
    "        print(line, end=\"\")"
   ]
  },
  {
   "cell_type": "markdown",
   "metadata": {},
   "source": [
    "- 如果你已经明确知道了要跳过的元素的个数的话，那么可以使用itertools.islice() 来代替。比如："
   ]
  },
  {
   "cell_type": "code",
   "execution_count": 14,
   "metadata": {},
   "outputs": [
    {
     "name": "stdout",
     "output_type": "stream",
     "text": [
      "4 5 6 "
     ]
    }
   ],
   "source": [
    "import itertools\n",
    "\n",
    "a = [1, 2, 3, 4, 5, 6]\n",
    "\n",
    "for i in itertools.islice(a, 3, None):\n",
    "    print(i, end=\" \")"
   ]
  },
  {
   "cell_type": "markdown",
   "metadata": {},
   "source": [
    "- 在这个例子中，islice() 函数最后那个None 参数指定了你要获取从第3 个到最后的所有元素，如果None 和3 的位置对调，意思就是仅仅获取前三个元素，(这个跟切片的相反操作[3:] 和[:3] 原理是一样的)。\n"
   ]
  },
  {
   "cell_type": "markdown",
   "metadata": {},
   "source": [
    "- 函数dropwhile() 和islice() 其实就是两个帮助函数，为的就是避免写出下面这种冗余代码"
   ]
  },
  {
   "cell_type": "code",
   "execution_count": null,
   "metadata": {},
   "outputs": [],
   "source": [
    "with open('text.txt') as f:\n",
    "    while True:\n",
    "        line = next(f, \"\")\n",
    "        if not line.startswith(\"#\"):\n",
    "            break\n",
    "    \n",
    "    while line:\n",
    "        print(line, end=\"\")\n",
    "        line = next()"
   ]
  }
 ],
 "metadata": {
  "kernelspec": {
   "display_name": "Python 3",
   "language": "python",
   "name": "python3"
  },
  "language_info": {
   "codemirror_mode": {
    "name": "ipython",
    "version": 3
   },
   "file_extension": ".py",
   "mimetype": "text/x-python",
   "name": "python",
   "nbconvert_exporter": "python",
   "pygments_lexer": "ipython3",
   "version": "3.7.3"
  }
 },
 "nbformat": 4,
 "nbformat_minor": 2
}
