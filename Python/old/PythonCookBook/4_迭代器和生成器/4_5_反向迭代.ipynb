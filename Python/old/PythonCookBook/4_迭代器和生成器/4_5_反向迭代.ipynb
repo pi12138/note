{
 "cells": [
  {
   "cell_type": "markdown",
   "metadata": {},
   "source": [
    "# 问题\n",
    "\n",
    " - 你想反方向迭代一个序列\n",
    "\n",
    "## 解决方案\n",
    "\n",
    "- 使用内置的reversed() 函数，比如："
   ]
  },
  {
   "cell_type": "code",
   "execution_count": 10,
   "metadata": {},
   "outputs": [
    {
     "name": "stdout",
     "output_type": "stream",
     "text": [
      "4 3 2 1 \n",
      "4 3 2 1 \n",
      "<class 'list_reverseiterator'>\n",
      "<class 'list_reverseiterator'>\n"
     ]
    }
   ],
   "source": [
    "a = [1, 2, 3, 4]\n",
    "\n",
    "# a.__dir__()\n",
    "\n",
    "for x in a.__reversed__():\n",
    "    print(x, end=\" \")\n",
    "    \n",
    "print()\n",
    "\n",
    "for x in reversed(a):\n",
    "    print(x, end=\" \")\n",
    "\n",
    "print()\n",
    "print(type(reversed(a)))\n",
    "print(type(a.__reversed__()))"
   ]
  },
  {
   "cell_type": "markdown",
   "metadata": {},
   "source": [
    "- 反向迭代仅仅当对象的大小可预先确定或者对象实现了`__reversed__()` 的特殊方法时才能生效。如果两者都不符合，那你必须先将对象转换为一个列表才行，比如："
   ]
  },
  {
   "cell_type": "code",
   "execution_count": 21,
   "metadata": {},
   "outputs": [
    {
     "name": "stdout",
     "output_type": "stream",
     "text": [
      "['__repr__', '__hash__', '__str__', '__getattribute__', '__lt__', '__le__', '__eq__', '__ne__', '__gt__', '__ge__', '__iter__', '__mod__', '__rmod__', '__len__', '__getitem__', '__add__', '__mul__', '__rmul__', '__contains__', '__new__', 'encode', 'replace', 'split', 'rsplit', 'join', 'capitalize', 'casefold', 'title', 'center', 'count', 'expandtabs', 'find', 'partition', 'index', 'ljust', 'lower', 'lstrip', 'rfind', 'rindex', 'rjust', 'rstrip', 'rpartition', 'splitlines', 'strip', 'swapcase', 'translate', 'upper', 'startswith', 'endswith', 'isascii', 'islower', 'isupper', 'istitle', 'isspace', 'isdecimal', 'isdigit', 'isnumeric', 'isalpha', 'isalnum', 'isidentifier', 'isprintable', 'zfill', 'format', 'format_map', '__format__', 'maketrans', '__sizeof__', '__getnewargs__', '__doc__', '__setattr__', '__delattr__', '__init__', '__reduce_ex__', '__reduce__', '__subclasshook__', '__init_subclass__', '__dir__', '__class__']\n",
      "<reversed object at 0x000001C3ECEEF320>\n",
      "False\n",
      "True\n"
     ]
    },
    {
     "data": {
      "text/plain": [
       "'a'"
      ]
     },
     "execution_count": 21,
     "metadata": {},
     "output_type": "execute_result"
    }
   ],
   "source": [
    "f = \"straaaaaa\"\n",
    "print(f.__dir__())\n",
    "print(reversed(f))\n",
    "print(hasattr(f, '__reversed__'))\n",
    "print(hasattr(f, \"__len__\"))\n",
    "# for i in reversed(f):\n",
    "#     print(i)\n",
    "fi = reversed(f)\n",
    "next(fi)"
   ]
  },
  {
   "cell_type": "code",
   "execution_count": 36,
   "metadata": {},
   "outputs": [
    {
     "name": "stdout",
     "output_type": "stream",
     "text": [
      "['mode', '__repr__', '__next__', '__init__', '__new__', 'detach', 'reconfigure', 'write', 'read', 'readline', 'flush', 'close', 'fileno', 'seekable', 'readable', 'writable', 'isatty', '__getstate__', 'seek', 'tell', 'truncate', 'encoding', 'buffer', 'line_buffering', 'write_through', '_finalizing', 'name', 'closed', 'newlines', 'errors', '_CHUNK_SIZE', '__doc__', '__iter__', '__del__', '_checkClosed', '_checkSeekable', '_checkReadable', '_checkWritable', '__enter__', '__exit__', 'readlines', 'writelines', '__dict__', '__hash__', '__str__', '__getattribute__', '__setattr__', '__delattr__', '__lt__', '__le__', '__eq__', '__ne__', '__gt__', '__ge__', '__reduce_ex__', '__reduce__', '__subclasshook__', '__init_subclass__', '__format__', '__sizeof__', '__dir__', '__class__']\n",
      "False\n",
      "False\n",
      "['aaaaaaaaaa\\n', 'bbbbbbbbb\\n', 'cccccccc\\n', 'ddddddd\\n', 'eeeeee\\n', 'fffff\\n', 'gggg\\n', 'hhh\\n', 'ii\\n', 'j']\n",
      "<list_reverseiterator object at 0x000001C3ECF10160>\n"
     ]
    }
   ],
   "source": [
    "f = open('text.txt', 'r')\n",
    "print(f.__dir__())\n",
    "print(hasattr(f, '__len__'))\n",
    "print(hasattr(f, '__reversed__'))\n",
    "\n",
    "print(list(f))\n",
    "print(reversed(list(f)))\n",
    "\n",
    "f.close()"
   ]
  },
  {
   "cell_type": "markdown",
   "metadata": {},
   "source": [
    "- **要注意的是如果可迭代对象元素很多的话，将其预先转换为一个列表要消耗大量的内存。**"
   ]
  },
  {
   "cell_type": "markdown",
   "metadata": {},
   "source": [
    "- **很多程序员并不知道可以通过在自定义类上实现`__reversed__()` 方法来实现反向迭代。比如：**"
   ]
  },
  {
   "cell_type": "code",
   "execution_count": 35,
   "metadata": {},
   "outputs": [
    {
     "name": "stdout",
     "output_type": "stream",
     "text": [
      "['start', '__module__', '__init__', '__iter__', '__reversed__', '__dict__', '__weakref__', '__doc__', '__repr__', '__hash__', '__str__', '__getattribute__', '__setattr__', '__delattr__', '__lt__', '__le__', '__eq__', '__ne__', '__gt__', '__ge__', '__new__', '__reduce_ex__', '__reduce__', '__subclasshook__', '__init_subclass__', '__format__', '__sizeof__', '__dir__', '__class__']\n",
      "20 19 18 17 16 15 14 13 12 11 10 9 8 7 6 5 4 3 2 1 \n",
      "1 2 3 4 5 6 7 8 9 10 11 12 13 14 15 16 17 18 19 20 "
     ]
    }
   ],
   "source": [
    "class CountDown:\n",
    "    def __init__(self, start):\n",
    "        self.start = start\n",
    "        \n",
    "    def __iter__(self):\n",
    "        n = self.start\n",
    "        while n > 0:\n",
    "            yield n\n",
    "            n -= 1\n",
    "    \n",
    "    def __reversed__(self):\n",
    "        n = 1\n",
    "        while n <= self.start:\n",
    "            yield n \n",
    "            n += 1\n",
    "            \n",
    "            \n",
    "r = CountDown(20)\n",
    "print(r.__dir__())\n",
    "\n",
    "for i in r:\n",
    "    print(i, end=\" \")\n",
    "\n",
    "print(\"\")\n",
    "\n",
    "for i in reversed(r):\n",
    "    print(i, end=\" \")"
   ]
  },
  {
   "cell_type": "markdown",
   "metadata": {},
   "source": [
    "- 定义一个反向迭代器可以使得代码非常的高效，因为它不再需要将数据填充到一个列表中然后再去反向迭代这个列表。"
   ]
  }
 ],
 "metadata": {
  "kernelspec": {
   "display_name": "Python 3",
   "language": "python",
   "name": "python3"
  },
  "language_info": {
   "codemirror_mode": {
    "name": "ipython",
    "version": 3
   },
   "file_extension": ".py",
   "mimetype": "text/x-python",
   "name": "python",
   "nbconvert_exporter": "python",
   "pygments_lexer": "ipython3",
   "version": "3.7.3"
  }
 },
 "nbformat": 4,
 "nbformat_minor": 2
}
