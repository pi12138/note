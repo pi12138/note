{
 "cells": [
  {
   "cell_type": "markdown",
   "metadata": {},
   "source": [
    "# 问题\n",
    "\n",
    "- 你想同时迭代多个序列，每次分别从一个序列中取一个元素。\n",
    "\n",
    "## 解决方案\n",
    "\n",
    "- 为了同时迭代多个序列，使用zip() 函数。比如："
   ]
  },
  {
   "cell_type": "code",
   "execution_count": 3,
   "metadata": {},
   "outputs": [
    {
     "name": "stdout",
     "output_type": "stream",
     "text": [
      "1 --- 101\n",
      "5 --- 78\n",
      "4 --- 37\n",
      "2 --- 15\n",
      "10 --- 62\n",
      "7 --- 99\n"
     ]
    }
   ],
   "source": [
    "xpts = [1, 5, 4, 2, 10, 7]\n",
    "ypts = [101, 78, 37, 15, 62, 99]\n",
    "\n",
    "for x, y in zip(xpts, ypts):\n",
    "    print(x, \"---\", y)"
   ]
  },
  {
   "cell_type": "markdown",
   "metadata": {},
   "source": [
    "- zip(a, b) 会生成一个可返回元组(x, y) 的迭代器，其中x 来自a，y 来自b。一旦其中某个序列到底结尾，迭代宣告结束。因此迭代长度跟参数中最短序列长度一致。\n",
    "- 如果这个不是你想要的效果，那么还可以使用itertools.zip_longest() 函数来代替。比如：\n",
    "- zip()的迭代长度和参数中最短的序列长度一致\n",
    "- itertools.zip_longest() 的迭代场地和参数中最长的序列长度一致"
   ]
  },
  {
   "cell_type": "code",
   "execution_count": 7,
   "metadata": {},
   "outputs": [
    {
     "name": "stdout",
     "output_type": "stream",
     "text": [
      "(1, 101)\n",
      "(5, 78)\n",
      "(4, 37)\n",
      "(2, 15)\n",
      "(10, 62)\n",
      "(7, 99)\n",
      "(None, 77)\n",
      "(None, 88)\n",
      "(1, 101)\n",
      "(5, 78)\n",
      "(4, 37)\n",
      "(2, 15)\n",
      "(10, 62)\n",
      "(7, 99)\n",
      "(0, 77)\n",
      "(0, 88)\n"
     ]
    }
   ],
   "source": [
    "from itertools import zip_longest\n",
    "\n",
    "xpts = [1, 5, 4, 2, 10, 7]\n",
    "ypts = [101, 78, 37, 15, 62, 99, 77, 88]\n",
    "\n",
    "for i in zip_longest(xpts, ypts):\n",
    "    print(i)\n",
    "    \n",
    "for i in zip_longest(xpts, ypts, fillvalue=0):\n",
    "    print(i)"
   ]
  },
  {
   "cell_type": "markdown",
   "metadata": {},
   "source": [
    "## 讨论\n",
    "\n",
    "- 当你想成对处理数据的时候zip() 函数是很有用的。比如，假设你头列表和一个值列表，就像下面这样："
   ]
  },
  {
   "cell_type": "code",
   "execution_count": 10,
   "metadata": {},
   "outputs": [
    {
     "name": "stdout",
     "output_type": "stream",
     "text": [
      "{'name': 'xxx', 'age': 20, 'gender': 'man'}\n"
     ]
    }
   ],
   "source": [
    "header = ['name', 'age', 'gender']\n",
    "values = ['xxx', 20, 'man']\n",
    "\n",
    "info = dict(zip(header, values))\n",
    "\n",
    "print(info)"
   ]
  },
  {
   "cell_type": "markdown",
   "metadata": {},
   "source": [
    "- 虽然不常见，但是zip() 可以接受多于两个的序列的参数。这时候所生成的结果元组中元素个数跟输入序列个数一样。\n",
    "- 最后强调一点就是，zip() 会创建一个迭代器来作为结果返回。如果你需要将结对的值存储在列表中，要使用list() 函数。"
   ]
  }
 ],
 "metadata": {
  "kernelspec": {
   "display_name": "Python 3",
   "language": "python",
   "name": "python3"
  },
  "language_info": {
   "codemirror_mode": {
    "name": "ipython",
    "version": 3
   },
   "file_extension": ".py",
   "mimetype": "text/x-python",
   "name": "python",
   "nbconvert_exporter": "python",
   "pygments_lexer": "ipython3",
   "version": "3.7.3"
  }
 },
 "nbformat": 4,
 "nbformat_minor": 2
}
