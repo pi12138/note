{
 "cells": [
  {
   "cell_type": "code",
   "execution_count": 5,
   "metadata": {},
   "outputs": [
    {
     "name": "stdout",
     "output_type": "stream",
     "text": [
      "aaaaaaaaaa\n",
      "\n",
      "bbbbbbbbb\n",
      "\n",
      "cccccccc\n",
      "\n",
      "ddddddd\n",
      "\n",
      "eeeeee\n",
      "\n",
      "fffff\n",
      "\n",
      "gggg\n",
      "\n",
      "hhh\n",
      "\n",
      "ii\n",
      "\n",
      "j\n",
      "\n",
      "python\n",
      "9: ii\n",
      "10: j\n",
      "11: python"
     ]
    }
   ],
   "source": [
    "from collections import deque\n",
    "\n",
    "class linehistory:\n",
    "    def __init__(self, lines, histlen=3):\n",
    "        self.lines = lines\n",
    "        self.history = deque(maxlen=histlen)\n",
    "        \n",
    "    def __iter__(self):\n",
    "        for lineno, line in enumerate(self.lines, 1):\n",
    "            self.history.append((lineno, line))\n",
    "            yield line\n",
    "            \n",
    "    def clear(self):\n",
    "        self.history.clear()\n",
    "        \n",
    "        \n",
    "with open('text.txt', 'r') as f:\n",
    "    lines = linehistory(f)\n",
    "    for line in lines:\n",
    "        print(line)\n",
    "        if 'python' in line:\n",
    "            for lineno, hline in lines.history:\n",
    "                print(\"{}: {}\".format(lineno, hline), end=\"\")"
   ]
  }
 ],
 "metadata": {
  "kernelspec": {
   "display_name": "Python 3",
   "language": "python",
   "name": "python3"
  },
  "language_info": {
   "codemirror_mode": {
    "name": "ipython",
    "version": 3
   },
   "file_extension": ".py",
   "mimetype": "text/x-python",
   "name": "python",
   "nbconvert_exporter": "python",
   "pygments_lexer": "ipython3",
   "version": "3.7.3"
  }
 },
 "nbformat": 4,
 "nbformat_minor": 2
}
