{
 "cells": [
  {
   "cell_type": "markdown",
   "metadata": {},
   "source": [
    "# 问题\n",
    "\n",
    "- 你想迭代遍历一个集合中元素的所有可能的排列或组合\n",
    "\n",
    "## 解决方案\n",
    "\n",
    "- itertools 模块提供了三个函数来解决这类问题。其中一个是itertools.permutations() ，它接受一个集合并产生一个元组序列，每个元组由集合中所有元素的一个可能排列组成。也就是说通过打乱集合中元素排列顺序生成一个元组，比如："
   ]
  },
  {
   "cell_type": "code",
   "execution_count": 7,
   "metadata": {},
   "outputs": [
    {
     "name": "stdout",
     "output_type": "stream",
     "text": [
      "<itertools.permutations object at 0x000001F541B9BB48>\n",
      "('a', 'b', 'c')\n",
      "('a', 'c', 'b')\n",
      "('b', 'a', 'c')\n",
      "('b', 'c', 'a')\n",
      "('c', 'a', 'b')\n",
      "('c', 'b', 'a')\n"
     ]
    }
   ],
   "source": [
    "from itertools import permutations\n",
    "\n",
    "a = ['a', 'b', 'c']\n",
    "print(permutations(a))\n",
    "\n",
    "for i in permutations(a):\n",
    "    print(i)"
   ]
  },
  {
   "cell_type": "markdown",
   "metadata": {},
   "source": [
    "- 如果你想得到指定长度的所有排列，你可以传递一个可选的长度参数。就像这样："
   ]
  },
  {
   "cell_type": "code",
   "execution_count": 9,
   "metadata": {},
   "outputs": [
    {
     "name": "stdout",
     "output_type": "stream",
     "text": [
      "('a', 'b')\n",
      "('a', 'c')\n",
      "('b', 'a')\n",
      "('b', 'c')\n",
      "('c', 'a')\n",
      "('c', 'b')\n"
     ]
    }
   ],
   "source": [
    "from itertools import permutations\n",
    "\n",
    "a = ['a', 'b', 'c']\n",
    "\n",
    "for i in permutations(a, 2):\n",
    "    print(i)\n"
   ]
  },
  {
   "cell_type": "markdown",
   "metadata": {},
   "source": [
    "- 使用itertools.combinations() 可得到输入集合中元素的所有的组合。比如："
   ]
  },
  {
   "cell_type": "code",
   "execution_count": 12,
   "metadata": {},
   "outputs": [
    {
     "name": "stdout",
     "output_type": "stream",
     "text": [
      "('a', 'b', 'c')\n",
      "('a', 'b')\n",
      "('a', 'c')\n",
      "('b', 'c')\n",
      "('a',)\n",
      "('b',)\n",
      "('c',)\n"
     ]
    }
   ],
   "source": [
    "from itertools import combinations\n",
    "\n",
    "items = ['a', 'b', 'c']\n",
    "\n",
    "for i in combinations(items, 3):\n",
    "    print(i)\n",
    "    \n",
    "for i in combinations(items, 2):\n",
    "    print(i)\n",
    "    \n",
    "for i in combinations(items, 1):\n",
    "    print(i)"
   ]
  },
  {
   "cell_type": "markdown",
   "metadata": {},
   "source": [
    "- 对于combinations() 来讲，元素的顺序已经不重要了。也就是说，组合('a','b') 跟('b', 'a') 其实是一样的(最终只会输出其中一个)。\n",
    "\n",
    "- 在计算组合的时候， 一旦元素被选取就会从候选中剔除掉(比如如果元素’a’ 已经被选取了， 那么接下来就不会再考虑它了)。而函数itertools.combinations_with_replacement() 允许同一个元素被选择多次，比如："
   ]
  },
  {
   "cell_type": "code",
   "execution_count": 13,
   "metadata": {},
   "outputs": [
    {
     "name": "stdout",
     "output_type": "stream",
     "text": [
      "('a', 'a', 'a')\n",
      "('a', 'a', 'b')\n",
      "('a', 'a', 'c')\n",
      "('a', 'b', 'b')\n",
      "('a', 'b', 'c')\n",
      "('a', 'c', 'c')\n",
      "('b', 'b', 'b')\n",
      "('b', 'b', 'c')\n",
      "('b', 'c', 'c')\n",
      "('c', 'c', 'c')\n"
     ]
    }
   ],
   "source": [
    "from itertools import combinations_with_replacement\n",
    "\n",
    "items = ['a', 'b', 'c']\n",
    "\n",
    "for i in combinations_with_replacement(items, 3):\n",
    "    print(i)"
   ]
  }
 ],
 "metadata": {
  "kernelspec": {
   "display_name": "Python 3",
   "language": "python",
   "name": "python3"
  },
  "language_info": {
   "codemirror_mode": {
    "name": "ipython",
    "version": 3
   },
   "file_extension": ".py",
   "mimetype": "text/x-python",
   "name": "python",
   "nbconvert_exporter": "python",
   "pygments_lexer": "ipython3",
   "version": "3.7.3"
  }
 },
 "nbformat": 4,
 "nbformat_minor": 2
}
