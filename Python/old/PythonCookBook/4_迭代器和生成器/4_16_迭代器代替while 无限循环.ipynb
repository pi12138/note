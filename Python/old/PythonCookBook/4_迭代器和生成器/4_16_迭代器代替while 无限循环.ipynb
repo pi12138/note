{
 "cells": [
  {
   "cell_type": "markdown",
   "metadata": {},
   "source": [
    "# 问题\n",
    "\n",
    "- 你在代码中使用while 循环来迭代处理数据，因为它需要调用某个函数或者和一般迭代模式不同的测试条件。能不能用迭代器来重写这个循环呢？\n",
    "\n",
    "## 解决方案\n",
    "\n",
    "- 一个常见的IO 操作程序可能会想下面这样："
   ]
  },
  {
   "cell_type": "code",
   "execution_count": 2,
   "metadata": {},
   "outputs": [],
   "source": [
    "CHUNKSIZE = 8192\n",
    "\n",
    "def reader(s):\n",
    "    while True:\n",
    "        data = s.recv(CHUNKSIZE)\n",
    "        if data == b\"\":\n",
    "            break\n",
    "        process_data(data)"
   ]
  },
  {
   "cell_type": "markdown",
   "metadata": {},
   "source": [
    "- 这种代码通常可以使用iter() 来代替，如下所示："
   ]
  },
  {
   "cell_type": "code",
   "execution_count": 5,
   "metadata": {},
   "outputs": [],
   "source": [
    "def reader2(s):\n",
    "    for chunk in iter(lambda:s.recv(CHUNKSIZE), b''):\n",
    "        pass\n",
    "        process_data(data)"
   ]
  },
  {
   "cell_type": "code",
   "execution_count": 8,
   "metadata": {},
   "outputs": [
    {
     "name": "stdout",
     "output_type": "stream",
     "text": [
      "## ##\n",
      "# User Database\n",
      "#\n",
      "# Note that this file is consulted directly only when the system is running\n",
      "# in single-user mode. At other times, this information is provided by\n",
      "# Open Directory.\n",
      "# ...\n",
      "##\n",
      "nobody:*:-2:-2:Unprivileged User:/var/empty:/usr/bin/false\n",
      "root:*:0:0:System Administrator:/var/root:/bin/sh\n",
      "\n",
      "aaaaaaaaaa\n",
      "bbbbbbbbb\n",
      "cccccccc\n",
      "ddddddd\n",
      "eeeeee\n",
      "fffff\n",
      "gggg\n",
      "hhh\n",
      "ii\n",
      "j\n",
      "python"
     ]
    }
   ],
   "source": [
    "import sys\n",
    "\n",
    "f = open('text.txt')\n",
    "\n",
    "for chunk in iter(lambda: f.read(), \"\"):\n",
    "    n = sys.stdout.write(chunk)\n",
    "    \n",
    "f.close()"
   ]
  },
  {
   "cell_type": "markdown",
   "metadata": {},
   "source": [
    "## 讨论\n",
    "\n",
    "- iter 函数一个鲜为人知的特性是它接受一个可选的callable 对象和一个标记(结尾) 值作为输入参数。当以这种方式使用的时候，它会创建一个迭代器，这个迭代器会不断调用callable 对象直到返回值和标记值相等为止。\n",
    "\n",
    "- 这种特殊的方法对于一些特定的会被重复调用的函数很有效果，比如涉及到I/O调用的函数。举例来讲，如果你想从套接字或文件中以数据块的方式读取数据，通常你得要不断重复的执行read() 或recv() ，并在后面紧跟一个文件结尾测试来决定是否终止。这节中的方案使用一个简单的iter() 调用就可以将两者结合起来了。其中lambda 函数参数是为了创建一个无参的callable 对象，并为recv 或read() 方法提供了size 参数。\n"
   ]
  }
 ],
 "metadata": {
  "kernelspec": {
   "display_name": "Python 3",
   "language": "python",
   "name": "python3"
  },
  "language_info": {
   "codemirror_mode": {
    "name": "ipython",
    "version": 3
   },
   "file_extension": ".py",
   "mimetype": "text/x-python",
   "name": "python",
   "nbconvert_exporter": "python",
   "pygments_lexer": "ipython3",
   "version": "3.7.3"
  }
 },
 "nbformat": 4,
 "nbformat_minor": 2
}
