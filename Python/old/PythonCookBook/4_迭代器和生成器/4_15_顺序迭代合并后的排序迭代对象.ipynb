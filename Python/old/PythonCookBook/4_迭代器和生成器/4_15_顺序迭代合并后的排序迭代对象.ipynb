{
 "cells": [
  {
   "cell_type": "markdown",
   "metadata": {},
   "source": [
    "# 问题\n",
    "\n",
    "- 你有一系列排序序列，想将它们合并后得到一个排序序列并在上面迭代遍历。\n",
    "\n",
    "## 解决方案\n",
    "\n",
    "- heapq.merge() 函数可以帮你解决这个问题。比如："
   ]
  },
  {
   "cell_type": "code",
   "execution_count": 2,
   "metadata": {},
   "outputs": [
    {
     "name": "stdout",
     "output_type": "stream",
     "text": [
      "1 2 4 5 6 7 10 11 "
     ]
    }
   ],
   "source": [
    "import heapq\n",
    "\n",
    "a = [1, 4, 7, 10]\n",
    "b = [2, 5, 6, 11]\n",
    "\n",
    "for c in heapq.merge(a, b):\n",
    "    print(c, end=\" \")"
   ]
  },
  {
   "cell_type": "code",
   "execution_count": 5,
   "metadata": {},
   "outputs": [
    {
     "name": "stdout",
     "output_type": "stream",
     "text": [
      "1 2 4 5 6 7 10 11 "
     ]
    }
   ],
   "source": [
    "for c in sorted(a+b):\n",
    "    print(c, end=\" \")"
   ]
  },
  {
   "cell_type": "code",
   "execution_count": 7,
   "metadata": {},
   "outputs": [],
   "source": [
    "with open('sort1.txt', 'r') as file1, open('sort2.txt', 'r') as file2, open('merge.txt', 'w') as merge:\n",
    "    for line in heapq.merge(file1, file2):\n",
    "        merge.write(line)\n",
    "        \n",
    "        "
   ]
  },
  {
   "cell_type": "markdown",
   "metadata": {},
   "source": [
    "- 有一点要强调的是heapq.merge() 需要所有输入序列必须是排过序的。特别的，它并不会预先读取所有数据到堆栈中或者预先排序，也不会对输入做任何的排序检测。\n",
    "- 它仅仅是检查所有序列的开始部分并返回最小的那个，这个过程一直会持续直到所有输入序列中的元素都被遍历完。"
   ]
  }
 ],
 "metadata": {
  "kernelspec": {
   "display_name": "Python 3",
   "language": "python",
   "name": "python3"
  },
  "language_info": {
   "codemirror_mode": {
    "name": "ipython",
    "version": 3
   },
   "file_extension": ".py",
   "mimetype": "text/x-python",
   "name": "python",
   "nbconvert_exporter": "python",
   "pygments_lexer": "ipython3",
   "version": "3.7.3"
  }
 },
 "nbformat": 4,
 "nbformat_minor": 2
}
