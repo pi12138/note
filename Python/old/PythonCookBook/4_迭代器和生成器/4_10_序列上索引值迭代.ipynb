{
 "cells": [
  {
   "cell_type": "markdown",
   "metadata": {},
   "source": [
    "# 问题\n",
    "\n",
    "- 你想在迭代一个序列的同时跟踪正在被处理的元素索引。\n",
    "\n",
    "## 解决方案\n",
    "\n",
    "- 内置的enumerate() 函数可以很好的解决这个问题："
   ]
  },
  {
   "cell_type": "code",
   "execution_count": 7,
   "metadata": {},
   "outputs": [
    {
     "name": "stdout",
     "output_type": "stream",
     "text": [
      "0 --- a\n",
      "1 --- b\n",
      "2 --- c\n"
     ]
    }
   ],
   "source": [
    "items = ['a', 'b', 'c']\n",
    "\n",
    "for index, value in enumerate(items):\n",
    "    print(\"{} --- {}\".format(index, value))"
   ]
  },
  {
   "cell_type": "markdown",
   "metadata": {},
   "source": [
    "- 为了按传统行号输出(行号从1 开始)，你可以传递一个开始参数："
   ]
  },
  {
   "cell_type": "code",
   "execution_count": 8,
   "metadata": {},
   "outputs": [
    {
     "name": "stdout",
     "output_type": "stream",
     "text": [
      "1 --- a\n",
      "2 --- b\n",
      "3 --- c\n"
     ]
    }
   ],
   "source": [
    "items = ['a', 'b', 'c']\n",
    "\n",
    "for index, value in enumerate(items, 1):\n",
    "    print(\"{} --- {}\".format(index, value))"
   ]
  },
  {
   "cell_type": "markdown",
   "metadata": {},
   "source": [
    "- 这种情况在你遍历文件时想在错误消息中使用行号定位时候非常有用："
   ]
  },
  {
   "cell_type": "code",
   "execution_count": 9,
   "metadata": {},
   "outputs": [],
   "source": [
    "def parse_data(filename):\n",
    "    with open(filename, 'r') as f:\n",
    "        for lineno, line in enumerate(f, 1):\n",
    "            fields = line.split()\n",
    "            try:\n",
    "                count = int(fields[1])\n",
    "            except ValueError as e:\n",
    "                print(\"Line {}: Parse error: {}\".format(lineno, e))"
   ]
  },
  {
   "cell_type": "markdown",
   "metadata": {},
   "source": [
    "- enumerate() 对于跟踪某些值在列表中出现的位置是很有用的。所以，如果你想将一个文件中出现的单词映射到它出现的行号上去，可以很容易的利用enumerate() 来完成："
   ]
  },
  {
   "cell_type": "code",
   "execution_count": 21,
   "metadata": {},
   "outputs": [
    {
     "name": "stdout",
     "output_type": "stream",
     "text": [
      "## --- [1, 1, 8]\n",
      "# --- [2, 3, 4, 5, 6, 7]\n",
      "user --- [2]\n",
      "database --- [2]\n",
      "note --- [4]\n",
      "that --- [4]\n",
      "this --- [4, 5]\n",
      "file --- [4]\n",
      "is --- [4, 4, 5]\n",
      "consulted --- [4]\n",
      "directly --- [4]\n",
      "only --- [4]\n",
      "when --- [4]\n",
      "the --- [4]\n",
      "system --- [4]\n",
      "running --- [4]\n",
      "in --- [5]\n",
      "single-user --- [5]\n",
      "mode. --- [5]\n",
      "at --- [5]\n",
      "other --- [5]\n",
      "times, --- [5]\n",
      "information --- [5]\n",
      "provided --- [5]\n",
      "by --- [5]\n",
      "open --- [6]\n",
      "directory. --- [6]\n",
      "... --- [7]\n",
      "nobody:*:-2:-2:unprivileged --- [9]\n",
      "user:/var/empty:/usr/bin/false --- [9]\n",
      "root:*:0:0:system --- [10]\n",
      "administrator:/var/root:/bin/sh --- [10]\n",
      "aaaaaaaaaa --- [12]\n",
      "bbbbbbbbb --- [13]\n",
      "cccccccc --- [14]\n",
      "ddddddd --- [15]\n",
      "eeeeee --- [16]\n",
      "fffff --- [17]\n",
      "gggg --- [18]\n",
      "hhh --- [19]\n",
      "ii --- [20]\n",
      "j --- [21]\n",
      "python --- [22]\n"
     ]
    }
   ],
   "source": [
    "word_summary = dict()\n",
    "\n",
    "with open('text.txt', 'r') as f:\n",
    "    lines = f.readlines()\n",
    "    \n",
    "for index, line in enumerate(lines, 1):\n",
    "    words = [w.strip().lower() for w in line.split()]\n",
    "    \n",
    "    for word in words:\n",
    "        if word not in word_summary.keys():\n",
    "            word_summary[word] = []\n",
    "        word_summary[word].append(index)\n",
    "        \n",
    "for k, v in word_summary.items():\n",
    "    print(\"{} --- {}\".format(k, v))"
   ]
  },
  {
   "cell_type": "markdown",
   "metadata": {},
   "source": [
    "- enumerate() 函数返回的是一个enumerate 对象实例，它是一个迭代器，返回连续的包含一个计数和一个值的元组，元组中的值通过在传入序列上调用next() 返回。\n",
    "- 还有一点可能并不很重要，但是也值得注意，有时候当你在一个已经解压后的元组序列上使用enumerate() 函数时很容易调入陷阱。你得像下面正确的方式这样写："
   ]
  },
  {
   "cell_type": "code",
   "execution_count": 22,
   "metadata": {},
   "outputs": [
    {
     "name": "stdout",
     "output_type": "stream",
     "text": [
      "0 --- (1, 2)\n",
      "1 --- (3, 4)\n",
      "2 --- (5, 6)\n",
      "3 --- (7, 8)\n"
     ]
    }
   ],
   "source": [
    "data = [(1, 2), (3, 4), (5, 6), (7, 8)]\n",
    "\n",
    "for n, (x, y) in enumerate(data):\n",
    "    print(\"{} --- {}\".format(n, (x, y)))"
   ]
  }
 ],
 "metadata": {
  "kernelspec": {
   "display_name": "Python 3",
   "language": "python",
   "name": "python3"
  },
  "language_info": {
   "codemirror_mode": {
    "name": "ipython",
    "version": 3
   },
   "file_extension": ".py",
   "mimetype": "text/x-python",
   "name": "python",
   "nbconvert_exporter": "python",
   "pygments_lexer": "ipython3",
   "version": "3.7.3"
  }
 },
 "nbformat": 4,
 "nbformat_minor": 2
}
